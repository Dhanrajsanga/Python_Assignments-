{
 "cells": [
  {
   "cell_type": "code",
   "execution_count": 1,
   "id": "7e5eb9e8-c5f2-4018-9f4c-d4b84b252497",
   "metadata": {},
   "outputs": [],
   "source": [
    "# Q1. What is the Probability density function?"
   ]
  },
  {
   "cell_type": "code",
   "execution_count": 2,
   "id": "7d0caba5-0d96-48e2-bfdf-52c22bffb7b5",
   "metadata": {},
   "outputs": [],
   "source": [
    "# The Probability Density Function (PDF) is a concept in probability theory and statistics. It is a \n",
    "# function that describes the likelihood of a continuous random variable falling within a particular range of values.\n",
    "# The PDF is associated with continuous probability distributions.\n",
    "\n",
    "# For a continuous random variable \\(X\\), the PDF is denoted by \\(f(x)\\) and has the following properties:\n",
    "\n",
    "# 1. The probability that \\(X\\) lies in a specific interval \\([a, b]\\) is given by the area under the curve of \n",
    "# the PDF between \\(a\\) and \\(b\\). Mathematically, it is expressed as:\n",
    "#    \\[ P(a \\leq X \\leq b) = \\int_{a}^{b} f(x) \\,dx \\]\n",
    "\n",
    "# 2. The total area under the PDF curve over the entire range of possible values is equal to 1:\n",
    "#    \\[ \\int_{-\\infty}^{\\infty} f(x) \\,dx = 1 \\]\n",
    "\n",
    "# The PDF provides a way to model the probability distribution of continuous random variables. \n",
    "# It allows us to understand the likelihood of different outcomes and is often used in statistical analysis, \n",
    "# especially in fields such as physics, engineering, finance, and more. Examples of continuous distributions\n",
    "# with associated PDFs include the normal distribution, exponential distribution, and uniform distribution."
   ]
  },
  {
   "cell_type": "code",
   "execution_count": 3,
   "id": "a7e5250e-a7ee-4fc7-bb50-1caf9e5cfd57",
   "metadata": {},
   "outputs": [],
   "source": [
    "# Q2. What are the types of Probability distribution?"
   ]
  },
  {
   "cell_type": "code",
   "execution_count": 5,
   "id": "a72b3f31-04b7-48a3-a4b7-c99361e446e9",
   "metadata": {},
   "outputs": [],
   "source": [
    "# There are several types of probability distributions, each describing the likelihood of different outcomes in a given set of\n",
    "# events. The two main categories of probability distributions are:\n",
    "\n",
    "# 1. **Discrete Probability Distribution:**\n",
    "#    - **Probability Mass Function (PMF):** For a discrete random variable, the probability mass function gives the probability of each possible value.\n",
    "#    - **Examples:** \n",
    "#      - **Bernoulli Distribution:** Describes a binary outcome (success/failure).\n",
    "#      - **Binomial Distribution:** Models the number of successes in a fixed number of independent Bernoulli trials.\n",
    "#      - **Poisson Distribution:** Models the number of events occurring in a fixed interval of time or space.\n",
    "\n",
    "# 2. **Continuous Probability Distribution:**\n",
    "#    - **Probability Density Function (PDF):** For a continuous random variable, the probability density function gives \n",
    "#     the probability of the variable falling within a specific range.\n",
    "#    - **Examples:**\n",
    "#      - **Normal Distribution:** A symmetric distribution widely used in statistical analysis.\n",
    "#      - **Exponential Distribution:** Models the time until an event occurs in a Poisson process.\n",
    "#      - **Uniform Distribution:** All outcomes in an interval are equally likely.\n",
    "#      - **Chi-Square Distribution, Student's t-Distribution, and F-Distribution:** Commonly used in hypothesis testing and statistical inference.\n",
    "\n",
    "# These probability distributions are fundamental in probability theory and statistics. The choice of the distribution\n",
    "# depends on the nature of the random variable and the characteristics of the events being modeled.\n",
    "# The appropriate distribution is selected based on the context and properties of the data.\n"
   ]
  },
  {
   "cell_type": "code",
   "execution_count": 6,
   "id": "49a71c89-b832-4cca-a755-823c7f29ff11",
   "metadata": {},
   "outputs": [],
   "source": [
    "# Q3. Write a Python function to calculate the probability density function of a normal distribution with\n",
    "# given mean and standard deviation at a given point."
   ]
  },
  {
   "cell_type": "code",
   "execution_count": 7,
   "id": "7f60ebf3-2756-46de-95ab-92c9d5bb5417",
   "metadata": {},
   "outputs": [
    {
     "name": "stdout",
     "output_type": "stream",
     "text": [
      "The PDF at 1.5 is: 0.12951759566589174\n"
     ]
    }
   ],
   "source": [
    "from scipy.stats import norm\n",
    "\n",
    "def normal_pdf(x, mean, std_dev):\n",
    "    \"\"\"\n",
    "    Calculate the probability density function (PDF) of a normal distribution.\n",
    "\n",
    "    Parameters:\n",
    "    - x: The point at which to calculate the PDF.\n",
    "    - mean: Mean of the normal distribution.\n",
    "    - std_dev: Standard deviation of the normal distribution.\n",
    "\n",
    "    Returns:\n",
    "    - pdf_value: The PDF value at the given point.\n",
    "    \"\"\"\n",
    "    pdf_value = norm.pdf(x, loc=mean, scale=std_dev)\n",
    "    return pdf_value\n",
    "\n",
    "mean_value = 0\n",
    "std_dev_value = 1\n",
    "point_to_calculate = 1.5\n",
    "\n",
    "result = normal_pdf(point_to_calculate, mean_value, std_dev_value)\n",
    "print(f\"The PDF at {point_to_calculate} is: {result}\")\n"
   ]
  },
  {
   "cell_type": "code",
   "execution_count": 8,
   "id": "530f2092-0d3d-49cf-a26c-d427cf2b858f",
   "metadata": {},
   "outputs": [],
   "source": [
    "# Q4. What are the properties of Binomial distribution? Give two examples of events where binomial\n",
    "# distribution can be applied."
   ]
  },
  {
   "cell_type": "code",
   "execution_count": 9,
   "id": "e236a985-a678-489e-a658-966abfab1a3c",
   "metadata": {},
   "outputs": [],
   "source": [
    "# **Properties of Binomial Distribution:**\n",
    "\n",
    "# 1. **Number of Trials (n):** The distribution is based on a fixed number of independent and identical trials, denoted by \\(n\\).\n",
    "\n",
    "# 2. **Two Possible Outcomes:** Each trial results in one of two possible outcomes, commonly referred to as \"success\" and \"failure.\"\n",
    "\n",
    "# 3. **Probability of Success (p):** The probability of success on each trial is constant and denoted by \\(p\\).\n",
    "\n",
    "# 4. **Independence:** The trials are independent, meaning the outcome of one trial does not affect the outcome of another.\n",
    "\n",
    "# 5. **Discreteness:** The random variable representing the number of successes in \\(n\\) trials is a discrete variable.\n",
    "\n",
    "# 6. **Parameters:** The binomial distribution is characterized by two parameters: \\(n\\) (number of trials) and \\(p\\) (probability of success).\n",
    "\n",
    "# **Examples of Events Suitable for Binomial Distribution:**\n",
    "\n",
    "# 1. **Coin Flipping:**\n",
    "#    - **Experiment:** Tossing a fair coin multiple times.\n",
    "#    - **Outcomes:** Success (e.g., getting heads) or failure (e.g., getting tails).\n",
    "#    - **Parameters:** \\(n\\) (number of tosses) and \\(p\\) (probability of getting heads, assuming a fair coin).\n",
    "\n",
    "# 2. **Quality Control in Manufacturing:**\n",
    "#    - **Experiment:** Testing a sample of items for defects in a manufacturing process.\n",
    "#    - **Outcomes:** Success (item is defect-free) or failure (item has a defect).\n",
    "#    - **Parameters:** \\(n\\) (number of items tested) and \\(p\\) (probability of an item being defect-free).\n",
    "\n",
    "# The binomial distribution is applicable in scenarios where there are a fixed number of trials, each with\n",
    "# two possible outcomes, and the probability of success remains constant across all trials.\n",
    "# These properties make it suitable for modeling various real-world situations involving binary events."
   ]
  },
  {
   "cell_type": "code",
   "execution_count": 10,
   "id": "d3dfea60-ba9e-4d1e-8109-776fb40ce5d4",
   "metadata": {},
   "outputs": [],
   "source": [
    "# Q5. Generate a random sample of size 1000 from a binomial distribution with probability of success 0.4\n",
    "# and plot a histogram of the results using matplotlib."
   ]
  },
  {
   "cell_type": "code",
   "execution_count": 11,
   "id": "0ade9e06-69ff-47fd-a005-cc95d0b46cc2",
   "metadata": {},
   "outputs": [
    {
     "data": {
      "image/png": "[encoded data removed]",
      "text/plain": [
       "<Figure size 640x480 with 1 Axes>"
      ]
     },
     "metadata": {},
     "output_type": "display_data"
    }
   ],
   "source": [
    "import numpy as np\n",
    "import matplotlib.pyplot as plt\n",
    "\n",
    "# Set the seed for reproducibility\n",
    "np.random.seed(42)\n",
    "\n",
    "# Generate a random sample from a binomial distribution\n",
    "sample_size = 1000\n",
    "probability_of_success = 0.4\n",
    "random_sample = np.random.binomial(1, probability_of_success, size=sample_size)\n",
    "\n",
    "# Plot a histogram of the results\n",
    "plt.hist(random_sample, bins=[-0.5, 0.5, 1.5], edgecolor='black', alpha=0.7)\n",
    "plt.xlabel('Outcome')\n",
    "plt.ylabel('Frequency')\n",
    "plt.title(f'Binomial Distribution (n=1, p={probability_of_success}) - Random Sample')\n",
    "plt.xticks([0, 1], ['Failure', 'Success'])\n",
    "plt.show()\n"
   ]
  },
  {
   "cell_type": "code",
   "execution_count": null,
   "id": "387dbc07-abd8-4fe2-83de-2c3b7f08f46b",
   "metadata": {},
   "outputs": [],
   "source": [
    "# Q6. Write a Python function to calculate the cumulative distribution function of a Poisson distribution\n",
    "# with given mean at a given point"
   ]
  },
  {
   "cell_type": "code",
   "execution_count": 12,
   "id": "8e9c6656-2397-4412-a94b-3a80fc0e1704",
   "metadata": {},
   "outputs": [
    {
     "name": "stdout",
     "output_type": "stream",
     "text": [
      "The CDF at 2 is: 0.42319008112684364\n"
     ]
    }
   ],
   "source": [
    "from scipy.stats import poisson\n",
    "\n",
    "def poisson_cdf(x, mean):\n",
    "    \"\"\"\n",
    "    Calculate the Cumulative Distribution Function (CDF) of a Poisson distribution.\n",
    "\n",
    "    Parameters:\n",
    "    - x: The point at which to calculate the CDF.\n",
    "    - mean: Mean of the Poisson distribution.\n",
    "\n",
    "    Returns:\n",
    "    - cdf_value: The CDF value at the given point.\n",
    "    \"\"\"\n",
    "    cdf_value = poisson.cdf(x, mu=mean)\n",
    "    return cdf_value\n",
    "\n",
    "# Example usage:\n",
    "mean_value = 3\n",
    "point_to_calculate = 2\n",
    "\n",
    "result = poisson_cdf(point_to_calculate, mean_value)\n",
    "print(f\"The CDF at {point_to_calculate} is: {result}\")\n"
   ]
  },
  {
   "cell_type": "code",
   "execution_count": 13,
   "id": "26786fe2-5abd-4d6e-93d7-af9ee6c2e09f",
   "metadata": {},
   "outputs": [],
   "source": [
    "# Q7. How Binomial distribution different from Poisson distribution?"
   ]
  },
  {
   "cell_type": "code",
   "execution_count": 14,
   "id": "9237084d-6e1e-4f39-b86b-bcf1f0a57b7a",
   "metadata": {},
   "outputs": [],
   "source": [
    "# The Binomial and Poisson distributions are both probability distributions, but they differ in terms of the types of random\n",
    "# processes they model and their underlying assumptions. Here are the key differences between the Binomial and Poisson distributions:\n",
    "\n",
    "# **1. Nature of Random Process:**\n",
    "#    - **Binomial Distribution:** Models the number of successes in a fixed number of independent and identical trials, each with \n",
    "#     two possible outcomes (success or failure).\n",
    "#    - **Poisson Distribution:** Models the number of events occurring in a fixed interval of time or space, where events happen randomly \n",
    "# and independently.\n",
    "\n",
    "# **2. Number of Trials:**\n",
    "#    - **Binomial Distribution:** Requires a fixed number of trials (\\(n\\)) to be specified in advance.\n",
    "#    - **Poisson Distribution:** Describes events in a continuous process, without a fixed number of trials.\n",
    "\n",
    "# **3. Possible Outcomes:**\n",
    "#    - **Binomial Distribution:** Each trial has two possible outcomes (success or failure).\n",
    "#    - **Poisson Distribution:** Describes events that can occur any number of times within a specified interval.\n",
    "\n",
    "# **4. Probability of Success:**\n",
    "#    - **Binomial Distribution:** Requires a constant probability of success (\\(p\\)) for each trial.\n",
    "#    - **Poisson Distribution:** Describes events with a low probability of occurrence in each small sub-interval of the fixed interval.\n",
    "\n",
    "# **5. Assumptions:**\n",
    "#    - **Binomial Distribution:** Assumes a fixed number of trials with a constant probability of success and independence between trials.\n",
    "#    - **Poisson Distribution:** Assumes events occur independently in small sub-intervals of the fixed interval, and the\n",
    "# probability of more than one event occurring in a small interval is negligible.\n",
    "\n",
    "# **6. Formula:**\n",
    "#    - **Binomial Distribution:** \\(P(X = k) = \\binom{n}{k} p^k (1-p)^{n-k}\\), where \\(k\\) is the number of successes.\n",
    "#    - **Poisson Distribution:** \\(P(X = k) = \\frac{e^{-\\lambda} \\lambda^k}{k!}\\), where \\(\\lambda\\) is the average rate of events per interval.\n",
    "\n",
    "# In summary, while both distributions involve counting the number of events, the Binomial distribution is used for a \n",
    "# fixed number of trials with a constant probability of success, while the Poisson distribution is used for events occurring randomly \n",
    "# and independently in a fixed interval. The choice between them depends on the nature of the random process being modeled."
   ]
  },
  {
   "cell_type": "code",
   "execution_count": 15,
   "id": "46a78d8c-48d6-493b-8018-cf0815921bd0",
   "metadata": {},
   "outputs": [],
   "source": [
    "# Q8. Generate a random sample of size 1000 from a Poisson distribution with mean 5 and calculate the\n",
    "# sample mean and variance."
   ]
  },
  {
   "cell_type": "code",
   "execution_count": 16,
   "id": "dd2f7c17-9982-4997-a5e6-dd49d651cf3d",
   "metadata": {},
   "outputs": [
    {
     "name": "stdout",
     "output_type": "stream",
     "text": [
      "Sample Mean: 4.985\n",
      "Sample Variance: 5.001776776776777\n"
     ]
    }
   ],
   "source": [
    "import numpy as np\n",
    "\n",
    "# Set the seed for reproducibility\n",
    "np.random.seed(42)\n",
    "\n",
    "# Generate a random sample from a Poisson distribution with mean 5\n",
    "sample_size = 1000\n",
    "mean_value = 5\n",
    "random_sample = np.random.poisson(mean_value, size=sample_size)\n",
    "\n",
    "# Calculate the sample mean and variance\n",
    "sample_mean = np.mean(random_sample)\n",
    "sample_variance = np.var(random_sample, ddof=1)  # ddof=1 for sample variance\n",
    "\n",
    "# Display the results\n",
    "print(f\"Sample Mean: {sample_mean}\")\n",
    "print(f\"Sample Variance: {sample_variance}\")\n"
   ]
  },
  {
   "cell_type": "code",
   "execution_count": 18,
   "id": "06c9ebf4-0d5c-47f7-b7fe-7da211ca9535",
   "metadata": {},
   "outputs": [],
   "source": [
    "# Q9. How mean and variance are related in Binomial distribution and Poisson distribution?"
   ]
  },
  {
   "cell_type": "code",
   "execution_count": 20,
   "id": "503ecd0a-4bce-4258-83a0-fccb50027e4e",
   "metadata": {},
   "outputs": [],
   "source": [
    "# **Binomial Distribution:**\n",
    "# In a binomial distribution, the mean (\\(\\mu\\)) and variance (\\(\\sigma^2\\)) are related by the formula:\n",
    "# \\[ \\mu = np \\]\n",
    "# \\[ \\sigma^2 = np(1 - p) \\]\n",
    "# where:\n",
    "# - \\(n\\) is the number of trials,\n",
    "# - \\(p\\) is the probability of success on a single trial.\n",
    "\n",
    "# The variance in a binomial distribution depends on both the number of trials and the probability of success. As the probability of \n",
    "# success gets closer to 0 or 1, the variance tends to decrease.\n",
    "\n",
    "# **Poisson Distribution:**\n",
    "# In a Poisson distribution, the mean (\\(\\lambda\\)) and variance (\\(\\sigma^2\\)) are equal and given by:\n",
    "# \\[ \\lambda = \\sigma^2 \\]\n",
    "# where:\n",
    "# - \\(\\lambda\\) is the average rate of events occurring in a fixed interval.\n",
    "\n",
    "# The Poisson distribution has the property that its mean and variance are equal. This means that once you know the average rate of events, \n",
    "# you also know the variability around that average.\n",
    "\n",
    "# In summary:\n",
    "# - In a binomial distribution, the variance depends on both the number of trials and the probability of success.\n",
    "# - In a Poisson distribution, the mean and variance are equal and determined by the average rate of events."
   ]
  },
  {
   "cell_type": "code",
   "execution_count": 21,
   "id": "965fb9a2-6b9d-4b56-90c3-03cfecd06b8c",
   "metadata": {},
   "outputs": [],
   "source": [
    "# Q10. In normal distribution with respect to mean position, where does the least frequent data appear?"
   ]
  },
  {
   "cell_type": "code",
   "execution_count": 22,
   "id": "2c09afa8-ba47-41a2-a5e3-473ec09dd220",
   "metadata": {},
   "outputs": [],
   "source": [
    "# In a normal distribution, the least frequent data points appear in the tails of the distribution, farthest away from the mean. \n",
    "# The normal distribution, also known as the bell curve or Gaussian distribution, is symmetric around its mean. \n",
    "# The shape of the distribution is such that data points become less frequent as they move away from the mean towards the tails.\n",
    "\n",
    "# Specifically:\n",
    "# - The tails of the distribution, located on both sides of the mean, contain the least frequent data points.\n",
    "# - The central part of the distribution, around the mean, contains the most frequent data points.\n",
    "\n",
    "# In a standard normal distribution (with a mean of 0 and a standard deviation of 1), about 68% of the data falls within one standard \n",
    "# deviation of the mean, 95% within two standard deviations, and 99.7% within three standard deviations. \n",
    "# The remaining percentage (the tails) contains the least frequent data points.\n",
    "\n",
    "# This pattern is a characteristic feature of normal distributions and is described by the empirical rule or the 68-95-99.7 rule."
   ]
  },
  {
   "cell_type": "code",
   "execution_count": null,
   "id": "509ec153-48e5-49e1-b54d-42b4bf7f9dbf",
   "metadata": {},
   "outputs": [],
   "source": []
  }
 ],
 "metadata": {
  "kernelspec": {
   "display_name": "Python 3 (ipykernel)",
   "language": "python",
   "name": "python3"
  },
  "language_info": {
   "codemirror_mode": {
    "name": "ipython",
    "version": 3
   },
   "file_extension": ".py",
   "mimetype": "text/x-python",
   "name": "python",
   "nbconvert_exporter": "python",
   "pygments_lexer": "ipython3",
   "version": "3.10.8"
  }
 },
 "nbformat": 4,
 "nbformat_minor": 5
}
