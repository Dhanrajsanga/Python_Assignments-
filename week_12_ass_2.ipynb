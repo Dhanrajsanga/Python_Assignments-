{
 "cells": [
  {
   "cell_type": "code",
   "execution_count": 1,
   "id": "e02c8b70-0c95-4830-8aa4-838e92c892de",
   "metadata": {},
   "outputs": [],
   "source": [
    "# Q1. Calculate the 95% confidence interval for a sample of data with a mean of 50 and a standard deviation\n",
    "# of 5 using Python. Interpret the results."
   ]
  },
  {
   "cell_type": "code",
   "execution_count": 2,
   "id": "c46d1029-b5e4-49e8-a5d2-4a03ed38c492",
   "metadata": {},
   "outputs": [
    {
     "name": "stdout",
     "output_type": "stream",
     "text": [
      "95% Confidence Interval: (48.1329693162095, 51.8670306837905)\n"
     ]
    }
   ],
   "source": [
    "import scipy.stats as stats\n",
    "\n",
    "# Given data\n",
    "sample_mean = 50\n",
    "sample_std_dev = 5\n",
    "confidence_level = 0.95\n",
    "sample_size = 30  # You should replace this with the actual sample size\n",
    "\n",
    "# Calculate the margin of error\n",
    "margin_of_error = stats.t.ppf((1 + confidence_level) / 2, df=sample_size - 1) * (sample_std_dev / (sample_size ** 0.5))\n",
    "\n",
    "# Calculate the confidence interval\n",
    "confidence_interval = (sample_mean - margin_of_error, sample_mean + margin_of_error)\n",
    "\n",
    "\n",
    "print(f\"95% Confidence Interval: {confidence_interval}\")\n"
   ]
  },
  {
   "cell_type": "code",
   "execution_count": 4,
   "id": "67792bb7-e6a5-4715-9529-ecbee7ffc8c6",
   "metadata": {},
   "outputs": [],
   "source": [
    "# Q2. Conduct a chi-square goodness of fit test to determine if the distribution of colors of M&Ms in a bag\n",
    "# matches the expected distribution of 20% blue, 20% orange, 20% green, 10% yellow, 10% red, and 20%\n",
    "# brown. Use Python to perform the test with a significance level of 0.05."
   ]
  },
  {
   "cell_type": "code",
   "execution_count": 17,
   "id": "aa37afe5-b920-4832-864b-339236c769b6",
   "metadata": {},
   "outputs": [],
   "source": [
    "import numpy as np\n",
    "from scipy.stats import chisquare\n",
    "\n",
    "# Placeholder for observed frequencies of each color in the M&M bag\n",
    "observed_frequencies = np.array([25, 22, 18, 10, 15])  # Replace with your actual observed frequencies\n",
    "\n",
    "# Expected frequencies based on the expected distribution\n",
    "expected_distribution = np.array([0.20, 0.20, 0.20, 0.10, 0.10, 0.20])\n",
    "total_observed = np.sum(observed_frequencies)\n",
    "expected_frequencies = (expected_distribution * total_observed)\n",
    "\n",
    "# Adjust expected frequencies to match the total sum of observed frequencies\n",
    "expected_frequencies *= total_observed / np.sum(expected_frequencies)\n",
    "\n",
    "# Perform the chi-square goodness of fit test\n",
    "chi2_stat, p_value = chisquare(f_obs=observed_frequencies, f_exp=expected_frequencies)\n",
    "\n",
    "# Compare p-value with the significance level\n",
    "alpha = 0.05\n",
    "if p_value < alpha:\n",
    "    print(\"Reject the null hypothesis. The distribution of M&M colors is significantly different from the expected distribution.\")\n",
    "else:\n",
    "    print(\"Fail to reject the null hypothesis. The distribution of M&M colors is consistent with the expected distribution.\")\n",
    "\n",
    "# Print chi-square statistic and p-value\n",
    "print(f\"Chi-square statistic: {chi2_stat}\")\n",
    "print(f\"P-value: {p_value}\")\n"
   ]
  },
  {
   "cell_type": "code",
   "execution_count": 18,
   "id": "d3eb35e4-35b2-4854-a0b7-623ab2a9e8b6",
   "metadata": {},
   "outputs": [],
   "source": [
    "# Q3. Use Python to calculate the chi-square statistic and p-value for a contingency table with the following\n",
    "# data:\n",
    "#       Group A Group B\n",
    "\n",
    "# Outcome 1 20 15\n",
    "# Outcome 2 10 25\n",
    "# Outcome 3 15 20\n",
    "# Interpret the results of the test."
   ]
  },
  {
   "cell_type": "code",
   "execution_count": 19,
   "id": "c104935c-d4cc-43b2-bbc4-69e8a7efb5ce",
   "metadata": {},
   "outputs": [
    {
     "name": "stdout",
     "output_type": "stream",
     "text": [
      "Chi-square statistic: 5.833333333333334\n",
      "P-value: 0.05411376622282158\n",
      "Degrees of freedom: 2\n",
      "Expected frequencies:\n",
      "[[15. 15. 15.]\n",
      " [20. 20. 20.]]\n",
      "Fail to reject the null hypothesis. There is no evidence of an association between the groups and outcomes.\n"
     ]
    }
   ],
   "source": [
    "\n",
    "import numpy as np\n",
    "from scipy.stats import chi2_contingency\n",
    "\n",
    "# Contingency table\n",
    "observed_data = np.array([[20, 10, 15],\n",
    "                          [15, 25, 20]])\n",
    "\n",
    "# Perform chi-square test for independence\n",
    "chi2_stat, p_value, dof, expected = chi2_contingency(observed_data)\n",
    "\n",
    "# Print results\n",
    "print(f\"Chi-square statistic: {chi2_stat}\")\n",
    "print(f\"P-value: {p_value}\")\n",
    "print(f\"Degrees of freedom: {dof}\")\n",
    "print(\"Expected frequencies:\")\n",
    "print(expected)\n",
    "\n",
    "\n",
    "alpha = 0.05\n",
    "if p_value < alpha:\n",
    "    print(\"Reject the null hypothesis. There is evidence of an association between the groups and outcomes.\")\n",
    "else:\n",
    "    print(\"Fail to reject the null hypothesis. There is no evidence of an association between the groups and outcomes.\")\n"
   ]
  },
  {
   "cell_type": "code",
   "execution_count": 20,
   "id": "8f1dd9c4-8759-487b-bb34-a1f42505b863",
   "metadata": {},
   "outputs": [],
   "source": [
    "# Q4. A study of the prevalence of smoking in a population of 500 individuals found that 60 individuals\n",
    "# smoked. Use Python to calculate the 95% confidence interval for the true proportion of individuals in the\n",
    "# population who smoke."
   ]
  },
  {
   "cell_type": "code",
   "execution_count": 21,
   "id": "492590ed-995f-4a25-86ac-507c39899117",
   "metadata": {},
   "outputs": [
    {
     "name": "stdout",
     "output_type": "stream",
     "text": [
      "95% Confidence Interval: (0.0915, 0.1485)\n"
     ]
    }
   ],
   "source": [
    "import numpy as np\n",
    "from scipy.stats import norm\n",
    "\n",
    "# Given data\n",
    "population_size = 500\n",
    "smokers_in_sample = 60\n",
    "\n",
    "# Calculate the sample proportion\n",
    "sample_proportion = smokers_in_sample / population_size\n",
    "\n",
    "# Set the confidence level and find the z-score for the confidence level\n",
    "confidence_level = 0.95\n",
    "alpha = 1 - confidence_level\n",
    "z_score = norm.ppf(1 - alpha / 2)\n",
    "\n",
    "# Calculate the standard error of the proportion\n",
    "standard_error = np.sqrt((sample_proportion * (1 - sample_proportion)) / population_size)\n",
    "\n",
    "# Calculate the margin of error\n",
    "margin_of_error = z_score * standard_error\n",
    "\n",
    "# Calculate the confidence interval\n",
    "lower_bound = sample_proportion - margin_of_error\n",
    "upper_bound = sample_proportion + margin_of_error\n",
    "\n",
    "\n",
    "print(f\"95% Confidence Interval: ({lower_bound:.4f}, {upper_bound:.4f})\")\n"
   ]
  },
  {
   "cell_type": "code",
   "execution_count": 22,
   "id": "ca389378-bd43-4a73-bd51-709b6123d786",
   "metadata": {},
   "outputs": [],
   "source": [
    "# Q5. Calculate the 90% confidence interval for a sample of data with a mean of 75 and a standard deviation\n",
    "# of 12 using Python. Interpret the results."
   ]
  },
  {
   "cell_type": "code",
   "execution_count": 23,
   "id": "d37a19fe-e8a4-4199-b5d8-90ae2e7ae0a0",
   "metadata": {},
   "outputs": [
    {
     "name": "stdout",
     "output_type": "stream",
     "text": [
      "90% Confidence Interval: (73.0075, 76.9925)\n"
     ]
    }
   ],
   "source": [
    "import numpy as np\n",
    "from scipy.stats import t\n",
    "\n",
    "# Given data\n",
    "sample_mean = 75\n",
    "sample_std_dev = 12\n",
    "sample_size = 100  # Replace with your actual sample size\n",
    "\n",
    "# Set the confidence level and find the t-score for the confidence level\n",
    "confidence_level = 0.90\n",
    "alpha = 1 - confidence_level\n",
    "degrees_of_freedom = sample_size - 1\n",
    "t_score = t.ppf(1 - alpha / 2, df=degrees_of_freedom)\n",
    "\n",
    "# Calculate the margin of error\n",
    "margin_of_error = t_score * (sample_std_dev / np.sqrt(sample_size))\n",
    "\n",
    "# Calculate the confidence interval\n",
    "lower_bound = sample_mean - margin_of_error\n",
    "upper_bound = sample_mean + margin_of_error\n",
    "\n",
    "\n",
    "print(f\"90% Confidence Interval: ({lower_bound:.4f}, {upper_bound:.4f})\")\n"
   ]
  },
  {
   "cell_type": "code",
   "execution_count": 24,
   "id": "2e678098-f79e-4d56-94b6-50f47c6d4c33",
   "metadata": {},
   "outputs": [],
   "source": [
    "# Q6. Use Python to plot the chi-square distribution with 10 degrees of freedom. Label the axes and shade the\n",
    "# area corresponding to a chi-square statistic of 15."
   ]
  },
  {
   "cell_type": "code",
   "execution_count": 25,
   "id": "92f2dc2d-ec4c-4ce6-977c-05ca1590217b",
   "metadata": {},
   "outputs": [
    {
     "data": {
      "image/png": "[encoded data removed]",
      "text/plain": [
       "<Figure size 640x480 with 1 Axes>"
      ]
     },
     "metadata": {},
     "output_type": "display_data"
    }
   ],
   "source": [
    "import numpy as np\n",
    "import matplotlib.pyplot as plt\n",
    "from scipy.stats import chi2\n",
    "\n",
    "# Degrees of freedom\n",
    "df = 10\n",
    "\n",
    "# Generate values for the x-axis\n",
    "x = np.linspace(0, 30, 1000)\n",
    "\n",
    "# Plot the chi-square distribution\n",
    "plt.plot(x, chi2.pdf(x, df), label=f'Chi-square Distribution (df={df})')\n",
    "\n",
    "# Shade the area corresponding to a chi-square statistic of 15\n",
    "x_shaded = np.linspace(0, 15, 100)\n",
    "plt.fill_between(x_shaded, chi2.pdf(x_shaded, df), color='skyblue', alpha=0.5, label='Shaded Area (Chi-square Statistic = 15)')\n",
    "\n",
    "# Label the axes\n",
    "plt.xlabel('Chi-square Statistic')\n",
    "plt.ylabel('Probability Density Function (PDF)')\n",
    "plt.title(f'Chi-square Distribution with {df} Degrees of Freedom')\n",
    "\n",
    "\n",
    "plt.legend()\n",
    "\n",
    "\n",
    "plt.show()\n"
   ]
  },
  {
   "cell_type": "code",
   "execution_count": 26,
   "id": "dcb1e2a7-96c4-4c86-ac8f-fcafe7718e61",
   "metadata": {},
   "outputs": [],
   "source": [
    "# Q7. A random sample of 1000 people was asked if they preferred Coke or Pepsi. Of the sample, 520\n",
    "# preferred Coke. Calculate a 99% confidence interval for the true proportion of people in the population who\n",
    "# prefer Coke."
   ]
  },
  {
   "cell_type": "code",
   "execution_count": 27,
   "id": "aafbd336-79e1-49da-bfff-97be452f80e4",
   "metadata": {},
   "outputs": [
    {
     "name": "stdout",
     "output_type": "stream",
     "text": [
      "99% Confidence Interval: (0.4793, 0.5607)\n"
     ]
    }
   ],
   "source": [
    "import numpy as np\n",
    "from scipy.stats import norm\n",
    "\n",
    "# Given data\n",
    "sample_size = 1000\n",
    "preferred_coke = 520\n",
    "\n",
    "# Calculate the sample proportion\n",
    "sample_proportion = preferred_coke / sample_size\n",
    "\n",
    "# Set the confidence level and find the z-score for the confidence level\n",
    "confidence_level = 0.99\n",
    "alpha = 1 - confidence_level\n",
    "z_score = norm.ppf(1 - alpha / 2)\n",
    "\n",
    "# Calculate the standard error of the proportion\n",
    "standard_error = np.sqrt((sample_proportion * (1 - sample_proportion)) / sample_size)\n",
    "\n",
    "# Calculate the margin of error\n",
    "margin_of_error = z_score * standard_error\n",
    "\n",
    "# Calculate the confidence interval\n",
    "lower_bound = sample_proportion - margin_of_error\n",
    "upper_bound = sample_proportion + margin_of_error\n",
    "\n",
    "\n",
    "print(f\"99% Confidence Interval: ({lower_bound:.4f}, {upper_bound:.4f})\")\n"
   ]
  },
  {
   "cell_type": "code",
   "execution_count": 28,
   "id": "6981b73f-10df-437e-9a9e-c5ca0e31933b",
   "metadata": {},
   "outputs": [],
   "source": [
    "# Q8. A researcher hypothesizes that a coin is biased towards tails. They flip the coin 100 times and observe\n",
    "# 45 tails. Conduct a chi-square goodness of fit test to determine if the observed frequencies match the\n",
    "# expected frequencies of a fair coin. Use a significance level of 0.05."
   ]
  },
  {
   "cell_type": "code",
   "execution_count": 30,
   "id": "5ec0f272-4750-476c-9191-0bdea15a890f",
   "metadata": {},
   "outputs": [
    {
     "name": "stdout",
     "output_type": "stream",
     "text": [
      "Chi-square statistic: 1.0000000000000013\n",
      "P-value: 0.3173105078629109\n",
      "Fail to reject the null hypothesis. There is no significant evidence that the coin is biased towards tails.\n"
     ]
    }
   ],
   "source": [
    "import numpy as np\n",
    "from scipy.stats import chisquare\n",
    "\n",
    "# Given data\n",
    "observed_tails = 45\n",
    "total_flips = 100\n",
    "\n",
    "# Expected frequencies for a fair coin\n",
    "expected_heads = (total_flips - observed_tails) / 2\n",
    "expected_tails = (total_flips - observed_tails) / 2\n",
    "\n",
    "# Ensure that the sum of observed and expected frequencies match\n",
    "observed_frequencies = np.array([total_flips - observed_tails, observed_tails])\n",
    "expected_frequencies = np.array([expected_heads, expected_tails])\n",
    "\n",
    "# Normalize the frequencies to ensure they sum up to the total number of flips\n",
    "observed_frequencies = observed_frequencies / np.sum(observed_frequencies) * total_flips\n",
    "expected_frequencies = expected_frequencies / np.sum(expected_frequencies) * total_flips\n",
    "\n",
    "# Perform chi-square goodness-of-fit test\n",
    "chi2_stat, p_value = chisquare(f_obs=observed_frequencies, f_exp=expected_frequencies)\n",
    "\n",
    "# Print results\n",
    "print(f\"Chi-square statistic: {chi2_stat}\")\n",
    "print(f\"P-value: {p_value}\")\n",
    "\n",
    "# Compare p-value with significance level\n",
    "alpha = 0.05\n",
    "if p_value < alpha:\n",
    "    print(\"Reject the null hypothesis. There is evidence that the coin may be biased towards tails.\")\n",
    "else:\n",
    "    print(\"Fail to reject the null hypothesis. There is no significant evidence that the coin is biased towards tails.\")\n"
   ]
  },
  {
   "cell_type": "code",
   "execution_count": 31,
   "id": "9fc0b6e9-e757-4c21-aa69-2afcc441c1c1",
   "metadata": {},
   "outputs": [],
   "source": [
    "# Q9. A study was conducted to determine if there is an association between smoking status (smoker or\n",
    "# non-smoker) and lung cancer diagnosis (yes or no). The results are shown in the contingency table below.\n",
    "# Conduct a chi-square test for independence to determine if there is a significant association between\n",
    "# smoking status and lung cancer diagnosis. \n",
    "#  Lung Cancer: Yes\n",
    "# Smoker 60 \n",
    "# Non-smoker 30\n",
    "\n",
    "# Lung Cancer: No\n",
    "# Smoker 140\n",
    "#  Non-smoker  170\n",
    "\n",
    "# Use a significance level of 0.05."
   ]
  },
  {
   "cell_type": "code",
   "execution_count": 32,
   "id": "e994c149-a31f-4176-9a07-3fe8f31d8835",
   "metadata": {},
   "outputs": [
    {
     "name": "stdout",
     "output_type": "stream",
     "text": [
      "Chi-square statistic: 12.057347670250895\n",
      "P-value: 0.0005158863863703744\n",
      "Reject the null hypothesis. There is a significant association between smoking status and lung cancer diagnosis.\n"
     ]
    }
   ],
   "source": [
    "import numpy as np\n",
    "from scipy.stats import chi2_contingency\n",
    "\n",
    "# Given data\n",
    "observed_data = np.array([[60, 30], [140, 170]])\n",
    "\n",
    "# Perform chi-square test for independence\n",
    "chi2_stat, p_value, _, _ = chi2_contingency(observed_data)\n",
    "\n",
    "# Print results\n",
    "print(f\"Chi-square statistic: {chi2_stat}\")\n",
    "print(f\"P-value: {p_value}\")\n",
    "\n",
    "# Compare p-value with significance level\n",
    "alpha = 0.05\n",
    "if p_value < alpha:\n",
    "    print(\"Reject the null hypothesis. There is a significant association between smoking status and lung cancer diagnosis.\")\n",
    "else:\n",
    "    print(\"Fail to reject the null hypothesis. There is no significant association between smoking status and lung cancer diagnosis.\")\n"
   ]
  },
  {
   "cell_type": "code",
   "execution_count": 33,
   "id": "3eaa9581-3403-4f11-ae1c-1bf27af1d503",
   "metadata": {},
   "outputs": [],
   "source": [
    "# Q10. A study was conducted to determine if the proportion of people who prefer milk chocolate, dark\n",
    "# chocolate, or white chocolate is different in the U.S. versus the U.K. A random sample of 500 people from\n",
    "# the U.S. and a random sample of 500 people from the U.K. were surveyed. The results are shown in the\n",
    "# contingency table below. Conduct a chi-square test for independence to determine if there is a significant\n",
    "# association between chocolate preference and country of origin.\n",
    "\n",
    "# Milk Chocolate  U.S. (n=500) 200   U.K. (n=500) 225\n",
    "# Dark Chocolate  U.S. (n=500) 150  U.K. (n=500)175 \n",
    "# White Chocolate  U.S. (n=500) 150 U.K. (n=500)100\n",
    " \n",
    "# Use a significance level of 0.01"
   ]
  },
  {
   "cell_type": "code",
   "execution_count": 34,
   "id": "ccb6e888-3da1-4073-89eb-3adf3807b9f9",
   "metadata": {},
   "outputs": [
    {
     "name": "stdout",
     "output_type": "stream",
     "text": [
      "Chi-square statistic: 13.393665158371041\n",
      "P-value: 0.0012348168997745918\n",
      "Reject the null hypothesis. There is a significant association between chocolate preference and country of origin.\n"
     ]
    }
   ],
   "source": [
    "import numpy as np\n",
    "from scipy.stats import chi2_contingency\n",
    "\n",
    "# Given data\n",
    "observed_data = np.array([[200, 225], [150, 175], [150, 100]])\n",
    "\n",
    "# Perform chi-square test for independence\n",
    "chi2_stat, p_value, _, _ = chi2_contingency(observed_data)\n",
    "\n",
    "# Print results\n",
    "print(f\"Chi-square statistic: {chi2_stat}\")\n",
    "print(f\"P-value: {p_value}\")\n",
    "\n",
    "# Compare p-value with significance level\n",
    "alpha = 0.01\n",
    "if p_value < alpha:\n",
    "    print(\"Reject the null hypothesis. There is a significant association between chocolate preference and country of origin.\")\n",
    "else:\n",
    "    print(\"Fail to reject the null hypothesis. There is no significant association between chocolate preference and country of origin.\")\n"
   ]
  },
  {
   "cell_type": "code",
   "execution_count": 35,
   "id": "c6ac8c3f-2388-4a51-bffc-ca7924dcc996",
   "metadata": {},
   "outputs": [],
   "source": [
    "# Q11. A random sample of 30 people was selected from a population with an unknown mean and standard\n",
    "# deviation. The sample mean was found to be 72 and the sample standard deviation was found to be 10.\n",
    "# Conduct a hypothesis test to determine if the population mean is significantly different from 70. Use a\n",
    "# significance level of 0.05."
   ]
  },
  {
   "cell_type": "code",
   "execution_count": 36,
   "id": "ea8a7863-a567-497c-ae1b-2a490424cbaf",
   "metadata": {},
   "outputs": [
    {
     "name": "stdout",
     "output_type": "stream",
     "text": [
      "T-statistic: 1.0954451150103321\n",
      "P-value: 0.2823362372860698\n",
      "Fail to reject the null hypothesis. There is no significant evidence that the population mean is different from 70.\n"
     ]
    }
   ],
   "source": [
    "import numpy as np\n",
    "from scipy.stats import t\n",
    "\n",
    "# Given data\n",
    "sample_mean = 72\n",
    "sample_std_dev = 10\n",
    "sample_size = 30\n",
    "population_mean = 70\n",
    "significance_level = 0.05\n",
    "\n",
    "# Calculate the t-statistic\n",
    "t_stat = (sample_mean - population_mean) / (sample_std_dev / np.sqrt(sample_size))\n",
    "\n",
    "# Degrees of freedom\n",
    "degrees_of_freedom = sample_size - 1\n",
    "\n",
    "# Calculate the critical t-value for a two-tailed test\n",
    "critical_t_value = t.ppf(1 - significance_level / 2, degrees_of_freedom)\n",
    "\n",
    "# Perform the hypothesis test\n",
    "p_value = 2 * (1 - t.cdf(abs(t_stat), degrees_of_freedom))\n",
    "\n",
    "# Print results\n",
    "print(f\"T-statistic: {t_stat}\")\n",
    "print(f\"P-value: {p_value}\")\n",
    "\n",
    "# Compare p-value with significance level\n",
    "if p_value < significance_level:\n",
    "    print(\"Reject the null hypothesis. There is significant evidence that the population mean is different from 70.\")\n",
    "else:\n",
    "    print(\"Fail to reject the null hypothesis. There is no significant evidence that the population mean is different from 70.\")\n"
   ]
  },
  {
   "cell_type": "code",
   "execution_count": null,
   "id": "56ce2302-9611-43c6-8241-277d7183a5e7",
   "metadata": {},
   "outputs": [],
   "source": []
  }
 ],
 "metadata": {
  "kernelspec": {
   "display_name": "Python 3 (ipykernel)",
   "language": "python",
   "name": "python3"
  },
  "language_info": {
   "codemirror_mode": {
    "name": "ipython",
    "version": 3
   },
   "file_extension": ".py",
   "mimetype": "text/x-python",
   "name": "python",
   "nbconvert_exporter": "python",
   "pygments_lexer": "ipython3",
   "version": "3.10.8"
  }
 },
 "nbformat": 4,
 "nbformat_minor": 5
}
