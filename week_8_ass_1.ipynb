{
 "cells": [
  {
   "cell_type": "code",
   "execution_count": 2,
   "id": "29e38ce1-c76f-48b9-98bd-66ed3dcb6af1",
   "metadata": {},
   "outputs": [],
   "source": [
    "# Q1. Create a Pandas Series that contains the following data: 4, 8, 15, 16, 23, and 42. \n",
    "# Then, print the series."
   ]
  },
  {
   "cell_type": "code",
   "execution_count": 3,
   "id": "a61a9144-b366-4ef5-8842-a5a2ef988ee9",
   "metadata": {},
   "outputs": [
    {
     "name": "stdout",
     "output_type": "stream",
     "text": [
      "0     4\n",
      "1     8\n",
      "2    15\n",
      "3    16\n",
      "4    23\n",
      "5    42\n",
      "dtype: int64\n"
     ]
    }
   ],
   "source": [
    "import pandas as pd\n",
    "\n",
    "# Creating a Pandas Series\n",
    "data = [4, 8, 15, 16, 23, 42]\n",
    "my_series = pd.Series(data)\n",
    "\n",
    "# Printing the series\n",
    "print(my_series)\n"
   ]
  },
  {
   "cell_type": "code",
   "execution_count": 5,
   "id": "2a31ae54-746c-4d58-a216-343a1db7dff2",
   "metadata": {},
   "outputs": [],
   "source": [
    "# Q2. Create a variable of list type containing 10 elements in it, and apply pandas.\n",
    "# Series function on the variable print it."
   ]
  },
  {
   "cell_type": "code",
   "execution_count": 6,
   "id": "5b754731-3ea6-41ee-b390-c562fd9c14bf",
   "metadata": {},
   "outputs": [
    {
     "name": "stdout",
     "output_type": "stream",
     "text": [
      "0     2\n",
      "1     4\n",
      "2     6\n",
      "3     8\n",
      "4    10\n",
      "5    12\n",
      "6    14\n",
      "7    16\n",
      "8    18\n",
      "9    20\n",
      "dtype: int64\n"
     ]
    }
   ],
   "source": [
    "import pandas as pd\n",
    "\n",
    "# Creating a list with 10 elements\n",
    "my_list = [2, 4, 6, 8, 10, 12, 14, 16, 18, 20]\n",
    "\n",
    "# Applying Pandas Series function\n",
    "my_series = pd.Series(my_list)\n",
    "\n",
    "# Printing the series\n",
    "print(my_series)\n"
   ]
  },
  {
   "cell_type": "code",
   "execution_count": 9,
   "id": "c0264892-45d2-4770-8ca8-d3f48a54dd11",
   "metadata": {},
   "outputs": [],
   "source": [
    "# Q3. Create a Pandas DataFrame that contains the following data:\n",
    "# Name\n",
    "# Alice\n",
    "# Bob\n",
    "# Claire\n",
    "\n",
    "# Age\n",
    "# 25\n",
    "# 30\n",
    "# 27\n",
    "\n",
    "# Gender\n",
    "# Female\n",
    "# Male\n",
    "# Female"
   ]
  },
  {
   "cell_type": "code",
   "execution_count": 8,
   "id": "9ad14573-0358-4046-887a-5bc77fbf4cc1",
   "metadata": {},
   "outputs": [
    {
     "name": "stdout",
     "output_type": "stream",
     "text": [
      "     Name  Age  Gender\n",
      "0   Alice   25  Female\n",
      "1     Bob   30    Male\n",
      "2  Claire   27  Female\n"
     ]
    }
   ],
   "source": [
    "import pandas as pd\n",
    "\n",
    "# Creating a Pandas DataFrame\n",
    "data = {\n",
    "    'Name': ['Alice', 'Bob', 'Claire'],\n",
    "    'Age': [25, 30, 27],\n",
    "    'Gender': ['Female', 'Male', 'Female']\n",
    "}\n",
    "\n",
    "df = pd.DataFrame(data)\n",
    "\n",
    "# Printing the DataFrame\n",
    "print(df)\n"
   ]
  },
  {
   "cell_type": "code",
   "execution_count": 10,
   "id": "0958bd12-8714-48be-8b83-daa8ff5e0824",
   "metadata": {},
   "outputs": [],
   "source": [
    "# Q4. What is ‘DataFrame’ in pandas and how is it different from\n",
    "# pandas.series? Explain with an example."
   ]
  },
  {
   "cell_type": "code",
   "execution_count": 11,
   "id": "18423e51-6dae-4f72-b88b-bbebbe09d9ca",
   "metadata": {},
   "outputs": [],
   "source": [
    "# In Pandas, a DataFrame is a two-dimensional labeled data structure with columns \n",
    "# that can be of different data types. It is similar to a spreadsheet or SQL table,\n",
    "# where data is organized in rows and columns. Each column in a DataFrame is \n",
    "# essentially a Pandas Series.\n",
    "\n",
    "# On the other hand, a Pandas Series is a one-dimensional labeled array.\n",
    "# It can be thought of as a single column of a DataFrame. A DataFrame can \n",
    "# be considered as a collection of Series, where each column is a Series."
   ]
  },
  {
   "cell_type": "code",
   "execution_count": 12,
   "id": "bea9cda3-868d-4103-999f-08c6bf8c4fed",
   "metadata": {},
   "outputs": [
    {
     "name": "stdout",
     "output_type": "stream",
     "text": [
      "Series:\n",
      "0    10\n",
      "1    20\n",
      "2    30\n",
      "3    40\n",
      "Name: MyColumn, dtype: int64\n",
      "\n",
      "\n",
      "DataFrame:\n",
      "     Name  Age  Gender  MyColumn\n",
      "0   Alice   25  Female        10\n",
      "1     Bob   30    Male        20\n",
      "2  Claire   27  Female        30\n"
     ]
    }
   ],
   "source": [
    "import pandas as pd\n",
    "\n",
    "# Creating a Series\n",
    "my_series = pd.Series([10, 20, 30, 40], name='MyColumn')\n",
    "\n",
    "# Creating a DataFrame\n",
    "my_dataframe = pd.DataFrame({\n",
    "    'Name': ['Alice', 'Bob', 'Claire'],\n",
    "    'Age': [25, 30, 27],\n",
    "    'Gender': ['Female', 'Male', 'Female'],\n",
    "    'MyColumn': [10, 20, 30]  # Adding the Series as a column\n",
    "})\n",
    "\n",
    "# Printing the Series\n",
    "print(\"Series:\")\n",
    "print(my_series)\n",
    "print(\"\\n\")\n",
    "\n",
    "# Printing the DataFrame\n",
    "print(\"DataFrame:\")\n",
    "print(my_dataframe)\n",
    "\n"
   ]
  },
  {
   "cell_type": "code",
   "execution_count": 13,
   "id": "5c62f97b-a507-4346-8883-d854913d5a67",
   "metadata": {},
   "outputs": [],
   "source": [
    "# Q5. What are some common functions you can use to manipulate data in a Pandas DataFrame? \n",
    "# Can you give an example of when you might use one of these functions?"
   ]
  },
  {
   "cell_type": "code",
   "execution_count": 15,
   "id": "ab13d400-0a5b-4cc4-90ac-e7c263028186",
   "metadata": {},
   "outputs": [
    {
     "name": "stdout",
     "output_type": "stream",
     "text": [
      "    Name  Age  Gender  Age_Squared\n",
      "0  Alice   25  Female          625\n",
      "1    Bob   30    Male          900\n",
      "             Age  Age_Squared\n",
      "count   3.000000     3.000000\n",
      "mean   27.333333   751.333333\n",
      "std     2.516611   138.853640\n",
      "min    25.000000   625.000000\n",
      "25%    26.000000   677.000000\n",
      "50%    27.000000   729.000000\n",
      "75%    28.500000   814.500000\n",
      "max    30.000000   900.000000\n",
      "<class 'pandas.core.frame.DataFrame'>\n",
      "RangeIndex: 3 entries, 0 to 2\n",
      "Data columns (total 4 columns):\n",
      " #   Column       Non-Null Count  Dtype \n",
      "---  ------       --------------  ----- \n",
      " 0   Name         3 non-null      object\n",
      " 1   Age          3 non-null      int64 \n",
      " 2   Gender       3 non-null      object\n",
      " 3   Age_Squared  3 non-null      int64 \n",
      "dtypes: int64(2), object(2)\n",
      "memory usage: 224.0+ bytes\n",
      "None\n",
      "0     Alice\n",
      "1       Bob\n",
      "2    Claire\n",
      "Name: Name, dtype: object\n",
      "Gender\n",
      "Female    26.0\n",
      "Male      30.0\n",
      "Name: Age, dtype: float64\n",
      "     Name  Age  Gender  Age_Squared\n",
      "0   Alice   25  Female          625\n",
      "1     Bob   30    Male          900\n",
      "2  Claire   27  Female          729\n",
      "     Name  Age  Gender  Age_Squared\n",
      "1     Bob   30    Male          900\n",
      "2  Claire   27  Female          729\n",
      "0   Alice   25  Female          625\n"
     ]
    }
   ],
   "source": [
    "# Pandas provides a rich set of functions for manipulating data in a DataFrame. Some common functions include:\n",
    "\n",
    "# 1.head() and tail():\n",
    "\n",
    "# head(n) returns the first n rows of the DataFrame.\n",
    "# tail(n) returns the last n rows of the DataFrame.\n",
    "\n",
    "# Example\n",
    "print(df.head(2))  # Prints the first 2 rows of the DataFrame\n",
    "\n",
    "# 2.describe():\n",
    "# describe() provides summary statistics of the numerical columns in the DataFrame.\n",
    "\n",
    "# Example\n",
    "print(df.describe())\n",
    "\n",
    "# 3.info():\n",
    "# info() gives a concise summary of the DataFrame, including data types and missing values.\n",
    "\n",
    "# Example\n",
    "print(df.info())\n",
    "\n",
    "# 4.loc[] and iloc[]:\n",
    "# loc[] is label-based indexing, and iloc[] is integer-based indexing. \n",
    "# They are used to access a group of rows and columns by labels or integers.\n",
    "\n",
    "# Example\n",
    "print(df.loc[:, 'Name'])  # Prints the 'Name' column\n",
    "\n",
    "# 5.groupby():\n",
    "# groupby() is used for grouping rows based on a column and applying a function to each group.\n",
    "\n",
    "# Example\n",
    "grouped_data = df.groupby('Gender')['Age'].mean()\n",
    "print(grouped_data)\n",
    "\n",
    "# 6.apply():\n",
    "# apply() is used to apply a function along the axis of the DataFrame.\n",
    "\n",
    "# Example\n",
    "df['Age_Squared'] = df['Age'].apply(lambda x: x**2)\n",
    "print(df)\n",
    "\n",
    "# 7.sort_values():\n",
    "# sort_values() is used to sort the DataFrame by one or more columns.\n",
    "\n",
    "# Example\n",
    "df_sorted = df.sort_values(by='Age', ascending=False)\n",
    "print(df_sorted)"
   ]
  },
  {
   "cell_type": "code",
   "execution_count": 16,
   "id": "d08411f5-bdeb-4adb-8b7d-19b7a7d2c50e",
   "metadata": {},
   "outputs": [],
   "source": [
    "# Q6. Which of the following is mutable in nature Series, DataFrame, Panel?"
   ]
  },
  {
   "cell_type": "code",
   "execution_count": 17,
   "id": "960ecd43-d09e-423b-a5f1-c3b1bb880090",
   "metadata": {},
   "outputs": [],
   "source": [
    "# In Pandas, both Series and DataFrame are mutable in nature, meaning you can modify their contents after they are created.\n",
    "\n",
    "# Series: A Pandas Series is mutable. You can modify the values in a Series after it has been created.\n",
    "\n",
    "# DataFrame: Similarly, a Pandas DataFrame is also mutable. You can add, remove, or modify columns and rows in a DataFrame.\n",
    "\n",
    "# Panel: However, the Panel is no longer recommended for use as of Pandas version 0.25.0 (July 2019). It has been deprecated,\n",
    "# and users are encouraged to use MultiIndex DataFrames instead. In a MultiIndex DataFrame, the mutability depends on the\n",
    "# DataFrame it is derived from, and it is mutable unless explicitly set to be immutable.\n",
    "\n",
    "# So, in summary, Series and DataFrame are mutable, but Panels are deprecated in recent versions of Pandas."
   ]
  },
  {
   "cell_type": "code",
   "execution_count": 18,
   "id": "48a79731-e5cd-4b3f-91be-50945583823c",
   "metadata": {},
   "outputs": [],
   "source": [
    "# Q7. Create a DataFrame using multiple Series. Explain with an example."
   ]
  },
  {
   "cell_type": "code",
   "execution_count": 19,
   "id": "6cde52fc-01b7-4094-b878-cd8ae1237952",
   "metadata": {},
   "outputs": [
    {
     "name": "stdout",
     "output_type": "stream",
     "text": [
      "     Name  Age  Gender\n",
      "0   Alice   25  Female\n",
      "1     Bob   30    Male\n",
      "2  Claire   27  Female\n"
     ]
    }
   ],
   "source": [
    "import pandas as pd\n",
    "\n",
    "# Creating multiple Series\n",
    "names = pd.Series(['Alice', 'Bob', 'Claire'], name='Name')\n",
    "ages = pd.Series([25, 30, 27], name='Age')\n",
    "genders = pd.Series(['Female', 'Male', 'Female'], name='Gender')\n",
    "\n",
    "# Creating a DataFrame using the Series\n",
    "df = pd.DataFrame({\n",
    "    'Name': names,\n",
    "    'Age': ages,\n",
    "    'Gender': genders\n",
    "})\n",
    "\n",
    "# Printing the DataFrame\n",
    "print(df)\n"
   ]
  },
  {
   "cell_type": "code",
   "execution_count": null,
   "id": "8aaaafc2-e94b-442c-8252-6f00394b37de",
   "metadata": {},
   "outputs": [],
   "source": []
  }
 ],
 "metadata": {
  "kernelspec": {
   "display_name": "Python 3 (ipykernel)",
   "language": "python",
   "name": "python3"
  },
  "language_info": {
   "codemirror_mode": {
    "name": "ipython",
    "version": 3
   },
   "file_extension": ".py",
   "mimetype": "text/x-python",
   "name": "python",
   "nbconvert_exporter": "python",
   "pygments_lexer": "ipython3",
   "version": "3.10.8"
  }
 },
 "nbformat": 4,
 "nbformat_minor": 5
}
