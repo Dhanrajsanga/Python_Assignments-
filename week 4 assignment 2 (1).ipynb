{
 "cells": [
  {
   "cell_type": "code",
   "execution_count": 1,
   "id": "92016550-7429-4040-b035-73d5f5be8e0c",
   "metadata": {},
   "outputs": [],
   "source": [
    "# Q1. Explain Class and Object with respect to Object-Oriented Programming. \n",
    "# Give a suitable example."
   ]
  },
  {
   "cell_type": "code",
   "execution_count": 2,
   "id": "656f8f06-8339-4907-80b6-f4b12f922a13",
   "metadata": {},
   "outputs": [],
   "source": [
    "# In object-oriented programming (OOP), a class is a blueprint or template for creating \n",
    "# objects. An object is an instance of a class. Classes define the properties (attributes)\n",
    "# and behaviors (methods) that objects of the class will have."
   ]
  },
  {
   "cell_type": "code",
   "execution_count": 3,
   "id": "26669ae7-8ad2-4df0-998f-1a65de9f8d12",
   "metadata": {},
   "outputs": [],
   "source": [
    "class Car:\n",
    "    def __init__(self, make, model, year):\n",
    "        self.make = make\n",
    "        self.model = model\n",
    "        self.year = year\n",
    "        self.is_running = False\n",
    "\n",
    "    def start_engine(self):\n",
    "        self.is_running = True\n",
    "        print(f\"The {self.year} {self.make} {self.model}'s engine is now running.\")\n",
    "\n",
    "    def stop_engine(self):\n",
    "        self.is_running = False\n",
    "        print(f\"The {self.year} {self.make} {self.model}'s engine is now stopped.\")\n"
   ]
  },
  {
   "cell_type": "code",
   "execution_count": 4,
   "id": "9db97a58-9775-412c-9866-4402a17facd7",
   "metadata": {},
   "outputs": [
    {
     "name": "stdout",
     "output_type": "stream",
     "text": [
      "Toyota\n",
      "2023\n",
      "The 2022 Toyota Camry's engine is now running.\n",
      "The 2023 Ford Mustang's engine is now stopped.\n"
     ]
    }
   ],
   "source": [
    "# Creating objects of the Car class\n",
    "car1 = Car(\"Toyota\", \"Camry\", 2022)\n",
    "car2 = Car(\"Ford\", \"Mustang\", 2023)\n",
    "\n",
    "# Accessing attributes\n",
    "print(car1.make)  # Output: Toyota\n",
    "print(car2.year)  # Output: 2023\n",
    "\n",
    "# Calling methods\n",
    "car1.start_engine()  # Output: The 2022 Toyota Camry's engine is now running.\n",
    "car2.stop_engine()   # Output: The 2023 Ford Mustang's engine is now stopped.\n"
   ]
  },
  {
   "cell_type": "code",
   "execution_count": 5,
   "id": "a9974e92-2003-4c45-9f2a-abf50df828f2",
   "metadata": {},
   "outputs": [],
   "source": [
    "# Q2. Name the four pillars of OOPs.\n",
    "\n",
    "# 1) Encapsulation: Encapsulation is the bundling of data (attributes) and the methods \n",
    "# that operate on the data into a single unit known as a class. It restricts direct \n",
    "# access to some of the object's components and can prevent unintended interference.\n",
    "\n",
    "# 2) Abstraction: Abstraction involves simplifying complex systems by modeling classes \n",
    "# based on the essential properties and behaviors that they share. \n",
    "# It allows you to focus on the essential features of an object while ignoring the \n",
    "# irrelevant details.\n",
    "\n",
    "# 3) Inheritance: Inheritance is a mechanism that allows a new class \n",
    "# (subclass or derived class) to inherit properties and behaviors from an existing class \n",
    "# (base class or parent class). This promotes code reusability and establishes a\n",
    "# relationship between classes.\n",
    "\n",
    "# 4)Polymorphism: Polymorphism allows objects of different classes to be treated as objects \n",
    "# of a common base class. It enables a single interface to represent different types of \n",
    "# objects, and it can take different forms, such as method overloading and method \n",
    "# overriding. Polymorphism contributes to code flexibility and extensibility."
   ]
  },
  {
   "cell_type": "code",
   "execution_count": 6,
   "id": "35626228-e621-4a62-931a-35743db5fb7f",
   "metadata": {},
   "outputs": [],
   "source": [
    "# Q3. Explain why the __init__() function is used. Give a suitable example.\n",
    "\n",
    "# The __init__() function in Python is a special method (sometimes referred to as a \n",
    "# constructor) that is automatically called when an object of a class is created. \n",
    "# Its primary purpose is to initialize the attributes of the object. \n",
    "# This method is crucial for setting up the initial state of an object and ensuring that \n",
    "# it is ready for use."
   ]
  },
  {
   "cell_type": "code",
   "execution_count": 8,
   "id": "17e24989-a92a-4c64-8ecc-4e4e37873da2",
   "metadata": {},
   "outputs": [
    {
     "name": "stdout",
     "output_type": "stream",
     "text": [
      "Alice\n",
      "30\n",
      "Name: Alice, Age: 30\n"
     ]
    }
   ],
   "source": [
    "class Person:\n",
    "    def __init__(self, name, age):\n",
    "        self.name = name\n",
    "        self.age = age\n",
    "\n",
    "    def display_info(self):\n",
    "        print(f\"Name: {self.name}, Age: {self.age}\")\n",
    "\n",
    "# Creating an object of the Person class\n",
    "person1 = Person(\"Alice\", 30)\n",
    "\n",
    "# Accessing attributes and calling a method\n",
    "print(person1.name)  # Output: Alice\n",
    "print(person1.age)   # Output: 30\n",
    "person1.display_info()  # Output: Name: Alice, Age: 30\n"
   ]
  },
  {
   "cell_type": "code",
   "execution_count": 11,
   "id": "4a3e8956-fc8b-4b4d-932d-ca7c41589b0a",
   "metadata": {},
   "outputs": [],
   "source": [
    "# Q4. Why self is used in OOPs?"
   ]
  },
  {
   "cell_type": "code",
   "execution_count": 12,
   "id": "3c5b7eb1-f3c2-4870-bf25-bcf12ee7780f",
   "metadata": {},
   "outputs": [
    {
     "name": "stdout",
     "output_type": "stream",
     "text": [
      "5\n",
      "10\n"
     ]
    }
   ],
   "source": [
    "# In object-oriented programming (OOP) in Python, self is a convention and not a keyword. \n",
    "# It is used as the first parameter in the method definitions within a class and represents\n",
    "# the instance of the class. It refers to the instance itself, allowing you to access the \n",
    "# attributes and methods of the object within the class.\n",
    "\n",
    "# Here's why self is used in OOP:\n",
    "\n",
    "# 1) Instance Reference:\n",
    "\n",
    "# When a method is called on an object, the object itself is passed as the first parameter \n",
    "# to the method. This allows the method to reference and operate on the specific instance \n",
    "# of the class that called it.\n",
    "\n",
    "# 2) Accessing Attributes:\n",
    "\n",
    "# self is used to access the instance attributes of the class. It helps distinguish between \n",
    "# the instance variables (attributes) and local variables within the methods.\n",
    "\n",
    "# 3)Creating and Modifying Attributes:\n",
    "\n",
    "# Inside methods, self is used to create and modify instance attributes. It is essential for \n",
    "# setting up the initial state of an object (usually in the __init__ method) and for \n",
    "# updating the object's state during its lifecycle.\n",
    "\n",
    "class MyClass:\n",
    "    def __init__(self, x):\n",
    "        self.x = x  # 'self.x' is an instance attribute\n",
    "\n",
    "    def print_x(self):\n",
    "        print(self.x)\n",
    "\n",
    "    def update_x(self, new_value):\n",
    "        self.x = new_value\n",
    "\n",
    "# Creating an object of MyClass\n",
    "obj = MyClass(5)\n",
    "\n",
    "# Calling methods using the object\n",
    "obj.print_x()         # Output: 5\n",
    "obj.update_x(10)\n",
    "obj.print_x()         # Output: 10\n"
   ]
  },
  {
   "cell_type": "code",
   "execution_count": 14,
   "id": "0092dfeb-3074-4737-b09d-307c0fa2b084",
   "metadata": {},
   "outputs": [
    {
     "name": "stdout",
     "output_type": "stream",
     "text": [
      "Animal speaks\n",
      "Dog barks\n"
     ]
    }
   ],
   "source": [
    "# Q5. What is inheritance? Give an example for each type of inheritance.\n",
    "\n",
    "# Inheritance is a fundamental concept in object-oriented programming (OOP) that allows \n",
    "# a new class to inherit attributes and methods from an existing class. The class that is \n",
    "# being inherited from is called the base class, parent class, or superclass. \n",
    "# The class that inherits is called the derived class or subclass. Inheritance promotes \n",
    "# code reuse and establishes a relationship between classes.\n",
    "# There are several types of inheritance, including:\n",
    "#     1)Single Inheritance:\n",
    "#         In single inheritance, a subclass inherits from only one superclass.\n",
    "        \n",
    "class Animal:\n",
    "    def speak(self):\n",
    "        print(\"Animal speaks\")\n",
    "\n",
    "class Dog(Animal):\n",
    "    def bark(self):\n",
    "        print(\"Dog barks\")\n",
    "\n",
    "# Creating an object of Dog\n",
    "my_dog = Dog()\n",
    "my_dog.speak()  # Output: Animal speaks\n",
    "my_dog.bark()   # Output: Dog barks\n",
    "\n"
   ]
  },
  {
   "cell_type": "code",
   "execution_count": 15,
   "id": "7ba71c91-01cd-46cd-af51-43a71a7aa9e6",
   "metadata": {},
   "outputs": [
    {
     "name": "stdout",
     "output_type": "stream",
     "text": [
      "Feature A\n",
      "Feature B\n",
      "Combined Feature\n"
     ]
    }
   ],
   "source": [
    "# 2)Multiple Inheritance:\n",
    "# In multiple inheritance, a subclass inherits from more than one superclass\n",
    "class A:\n",
    "    def feature_A(self):\n",
    "        print(\"Feature A\")\n",
    "\n",
    "class B:\n",
    "    def feature_B(self):\n",
    "        print(\"Feature B\")\n",
    "\n",
    "class C(A, B):\n",
    "    def combined_feature(self):\n",
    "        print(\"Combined Feature\")\n",
    "\n",
    "# Creating an object of C\n",
    "obj_c = C()\n",
    "obj_c.feature_A()        # Output: Feature A\n",
    "obj_c.feature_B()        # Output: Feature B\n",
    "obj_c.combined_feature() # Output: Combined Feature\n"
   ]
  },
  {
   "cell_type": "code",
   "execution_count": 16,
   "id": "162230f7-6426-459e-ba32-e75b959396b1",
   "metadata": {},
   "outputs": [
    {
     "name": "stdout",
     "output_type": "stream",
     "text": [
      "Engine started\n",
      "Car is being driven\n",
      "Sports car is racing\n"
     ]
    }
   ],
   "source": [
    "# 3)Multilevel Inheritance:\n",
    "\n",
    "# In multilevel inheritance, a subclass inherits from a superclass, and another class \n",
    "# inherits from this subclass, forming a chain of inheritance.\n",
    "class Vehicle:\n",
    "    def start_engine(self):\n",
    "        print(\"Engine started\")\n",
    "\n",
    "class Car(Vehicle):\n",
    "    def drive(self):\n",
    "        print(\"Car is being driven\")\n",
    "\n",
    "class SportsCar(Car):\n",
    "    def race(self):\n",
    "        print(\"Sports car is racing\")\n",
    "\n",
    "# Creating an object of SportsCar\n",
    "my_sports_car = SportsCar()\n",
    "my_sports_car.start_engine()  # Output: Engine started\n",
    "my_sports_car.drive()         # Output: Car is being driven\n",
    "my_sports_car.race()          # Output: Sports car is racing\n"
   ]
  },
  {
   "cell_type": "code",
   "execution_count": null,
   "id": "ea08f4fc-66d9-4c3f-b7c2-e4c6a773835b",
   "metadata": {},
   "outputs": [],
   "source": []
  }
 ],
 "metadata": {
  "kernelspec": {
   "display_name": "Python 3 (ipykernel)",
   "language": "python",
   "name": "python3"
  },
  "language_info": {
   "codemirror_mode": {
    "name": "ipython",
    "version": 3
   },
   "file_extension": ".py",
   "mimetype": "text/x-python",
   "name": "python",
   "nbconvert_exporter": "python",
   "pygments_lexer": "ipython3",
   "version": "3.10.8"
  }
 },
 "nbformat": 4,
 "nbformat_minor": 5
}
