{
 "cells": [
  {
   "cell_type": "code",
   "execution_count": 5,
   "id": "32f6a259-f8ab-4488-8317-1170d0e98210",
   "metadata": {},
   "outputs": [
    {
     "name": "stdout",
     "output_type": "stream",
     "text": [
      "Hello, world!\n",
      "[1, 2, 3, 4, 5]\n",
      "3.14159\n",
      "(6, 7, 8, 9, 10)\n"
     ]
    }
   ],
   "source": [
    "# Assignment 1\n",
    "# Q1. Create one variable containing following type of data:\n",
    "\n",
    "# (i)\tstring\n",
    "\n",
    "# (ii)\tlist\n",
    "\n",
    "# (iii)\tfloat\n",
    "\n",
    "# (iv)\ttuple\n",
    "my_string = \"Hello, world!\"\n",
    "my_list = [1, 2, 3, 4, 5]\n",
    "my_float = 3.14159\n",
    "my_tuple = (6, 7, 8, 9, 10)\n",
    "print(my_string)\n",
    "print(my_list)\n",
    "print(my_float)\n",
    "print(my_tuple)\n",
    "\n",
    "\n"
   ]
  },
  {
   "cell_type": "code",
   "execution_count": 11,
   "id": "f54573c3-1c64-47bc-a72c-eb37b5b69e05",
   "metadata": {},
   "outputs": [
    {
     "name": "stdout",
     "output_type": "stream",
     "text": [
      "<class 'str'>\n",
      "<class 'str'>\n",
      "<class 'list'>\n",
      "<class 'int'>\n"
     ]
    }
   ],
   "source": [
    "# Q2. Given are some following variables containing data:\n",
    "\n",
    "# (i)\tvar1 = ‘ ‘\n",
    "\n",
    "# (ii)\tvar2 = ‘[ DS , ML , Python]’\n",
    "\n",
    "# (iii)\tvar3 = [ ‘DS’ , ’ML’ , ‘Python’ ]\n",
    "\n",
    "# (iv)\tvar4 = 1.\n",
    "# What will be the data type of the above given variable\n",
    "var1=''\n",
    "var2 = '[ DS , ML , Python]'\n",
    "var3 = [ 'DS' , 'ML' , 'Python' ]\n",
    "var4 = 1\n",
    "print(type(var1))\n",
    "print(type(var2))\n",
    "print(type(var3))\n",
    "print(type(var4))\n",
    "\n",
    "\n",
    "# (i) var1 is a string data type.\n",
    "\n",
    "# (ii) var2 is a string data type.\n",
    "\n",
    "# (iii) var3 is a list data type.\n",
    "\n",
    "# (iv) var4 is a float data type."
   ]
  },
  {
   "cell_type": "code",
   "execution_count": 12,
   "id": "430ded1a-8a34-403f-8574-3b5b81acabaf",
   "metadata": {},
   "outputs": [],
   "source": [
    "# Q3. Explain the use of the following operators using an example:\n",
    "\n",
    "# (i)\t/\n",
    "\n",
    "# (ii)\t% \n",
    "\n",
    "# (iii)\t//\n",
    "\n",
    "# (iv)\t**"
   ]
  },
  {
   "cell_type": "code",
   "execution_count": 13,
   "id": "fd6e081f-eeb1-4fef-9512-cafd2268b327",
   "metadata": {},
   "outputs": [],
   "source": [
    "# (i) / (Division Operator):\n",
    "# The division operator / is used to divide one number by another. \n",
    "# It performs floating-point division, which means it returns a floating-point result. Here's an example:\n"
   ]
  },
  {
   "cell_type": "code",
   "execution_count": 14,
   "id": "fae24da0-8452-4e2e-8a52-8b9071a71c4e",
   "metadata": {},
   "outputs": [
    {
     "name": "stdout",
     "output_type": "stream",
     "text": [
      "3.3333333333333335\n"
     ]
    }
   ],
   "source": [
    "a = 10\n",
    "b = 3\n",
    "result = a / b\n",
    "print(result)\n"
   ]
  },
  {
   "cell_type": "code",
   "execution_count": 15,
   "id": "3bb7fbd6-6066-4729-b1d8-a09e86efc46d",
   "metadata": {},
   "outputs": [],
   "source": [
    "# (ii) % (Modulo Operator):\n",
    "# The modulo operator % is used to find the remainder of the division between two numbers. It returns the remainder as the result. Here's an example:"
   ]
  },
  {
   "cell_type": "code",
   "execution_count": 16,
   "id": "03f9fd19-879c-4bf7-a766-c8345817bc4f",
   "metadata": {},
   "outputs": [
    {
     "name": "stdout",
     "output_type": "stream",
     "text": [
      "1\n"
     ]
    }
   ],
   "source": [
    "a = 10\n",
    "b = 3\n",
    "result = a % b\n",
    "print(result)\n"
   ]
  },
  {
   "cell_type": "code",
   "execution_count": 17,
   "id": "875e060d-c8e8-40a8-8a0b-f43ab1753a86",
   "metadata": {},
   "outputs": [],
   "source": [
    "# (iii) // (Floor Division Operator):\n",
    "# The floor division operator // is used to perform integer division, which returns the quotient without the fractional part. Here's an example:"
   ]
  },
  {
   "cell_type": "code",
   "execution_count": 18,
   "id": "928b0c33-7ab7-415e-8c5f-977ea1cc1318",
   "metadata": {},
   "outputs": [
    {
     "name": "stdout",
     "output_type": "stream",
     "text": [
      "3\n"
     ]
    }
   ],
   "source": [
    "a = 10\n",
    "b = 3\n",
    "result = a // b\n",
    "print(result)\n"
   ]
  },
  {
   "cell_type": "code",
   "execution_count": 19,
   "id": "a66e8168-e0d5-4bb4-8228-9f2c64b8b760",
   "metadata": {},
   "outputs": [],
   "source": [
    "# (iv) ** (Exponentiation Operator):\n",
    "# The exponentiation operator ** is used to raise a number to a power.\n",
    "# It calculates the exponentiation of the base number with the given power. Here's an example:"
   ]
  },
  {
   "cell_type": "code",
   "execution_count": 20,
   "id": "1dc1200f-5430-4c6a-8957-f0f544a0a2eb",
   "metadata": {},
   "outputs": [
    {
     "name": "stdout",
     "output_type": "stream",
     "text": [
      "8\n"
     ]
    }
   ],
   "source": [
    "base = 2\n",
    "power = 3\n",
    "result = base ** power\n",
    "print(result)\n"
   ]
  },
  {
   "cell_type": "code",
   "execution_count": 21,
   "id": "65055654-716c-429a-b5db-da880cd0d96f",
   "metadata": {},
   "outputs": [],
   "source": [
    "# Q4. Create a list of length 10 of your choice containing multiple types of data. Using for loop print the \n",
    "# element and its data type"
   ]
  },
  {
   "cell_type": "code",
   "execution_count": 22,
   "id": "99ed639c-40ff-4702-845d-a0f48e6ebced",
   "metadata": {},
   "outputs": [
    {
     "name": "stdout",
     "output_type": "stream",
     "text": [
      "Element: 10\n",
      "Data Type: <class 'int'>\n",
      "\n",
      "Element: Hello\n",
      "Data Type: <class 'str'>\n",
      "\n",
      "Element: 3.14\n",
      "Data Type: <class 'float'>\n",
      "\n",
      "Element: True\n",
      "Data Type: <class 'bool'>\n",
      "\n",
      "Element: [1, 2, 3]\n",
      "Data Type: <class 'list'>\n",
      "\n",
      "Element: Python\n",
      "Data Type: <class 'str'>\n",
      "\n",
      "Element: 5.6\n",
      "Data Type: <class 'float'>\n",
      "\n",
      "Element: False\n",
      "Data Type: <class 'bool'>\n",
      "\n",
      "Element: (4, 5)\n",
      "Data Type: <class 'tuple'>\n",
      "\n",
      "Element: {'key': 'value'}\n",
      "Data Type: <class 'dict'>\n",
      "\n"
     ]
    }
   ],
   "source": [
    "my_list = [10, 'Hello', 3.14, True, [1, 2, 3], 'Python', 5.6, False, (4, 5), {'key': 'value'}]\n",
    "\n",
    "for element in my_list:\n",
    "    print(\"Element:\", element)\n",
    "    print(\"Data Type:\", type(element))\n",
    "    print()\n"
   ]
  },
  {
   "cell_type": "code",
   "execution_count": 23,
   "id": "7a04c4bd-f634-4179-9e14-018b8c44f155",
   "metadata": {},
   "outputs": [],
   "source": [
    "# Q5. Using a while loop, verify if the number A is purely divisible by number B and if so then how many \n",
    "# times it can be divisible"
   ]
  },
  {
   "cell_type": "code",
   "execution_count": 24,
   "id": "d30d427e-d9bb-4fc3-8909-f456c846ab11",
   "metadata": {},
   "outputs": [
    {
     "name": "stdout",
     "output_type": "stream",
     "text": [
      "Number A is divisible by number B 2 times.\n"
     ]
    }
   ],
   "source": [
    "A = 36\n",
    "B = 6\n",
    "count = 0\n",
    "\n",
    "while A % B == 0:\n",
    "    A = A // B\n",
    "    count += 1\n",
    "\n",
    "print(\"Number A is divisible by number B\", count, \"times.\")\n"
   ]
  },
  {
   "cell_type": "code",
   "execution_count": 25,
   "id": "6ca7ab56-90e0-4f7f-9bec-c97e6eeaa58c",
   "metadata": {},
   "outputs": [],
   "source": [
    "# Q6. Create a list containing 25 int type data. Using for loop and if-else condition print if the element is \n",
    "# divisible by 3 or not"
   ]
  },
  {
   "cell_type": "code",
   "execution_count": 26,
   "id": "bb5f1ee8-a3bb-4109-91f3-8d87ba04f13f",
   "metadata": {},
   "outputs": [
    {
     "name": "stdout",
     "output_type": "stream",
     "text": [
      "12 is divisible by 3\n",
      "7 is not divisible by 3\n",
      "18 is divisible by 3\n",
      "5 is not divisible by 3\n",
      "9 is divisible by 3\n",
      "21 is divisible by 3\n",
      "14 is not divisible by 3\n",
      "27 is divisible by 3\n",
      "30 is divisible by 3\n",
      "8 is not divisible by 3\n",
      "16 is not divisible by 3\n",
      "33 is divisible by 3\n",
      "20 is not divisible by 3\n",
      "22 is not divisible by 3\n",
      "11 is not divisible by 3\n",
      "36 is divisible by 3\n",
      "6 is divisible by 3\n",
      "4 is not divisible by 3\n",
      "25 is not divisible by 3\n",
      "15 is divisible by 3\n",
      "10 is not divisible by 3\n",
      "3 is divisible by 3\n",
      "19 is not divisible by 3\n",
      "24 is divisible by 3\n",
      "28 is not divisible by 3\n"
     ]
    }
   ],
   "source": [
    "my_list = [12, 7, 18, 5, 9, 21, 14, 27, 30, 8, 16, 33, 20, 22, 11, 36, 6, 4, 25, 15, 10, 3, 19, 24, 28]\n",
    "\n",
    "for element in my_list:\n",
    "    if element % 3 == 0:\n",
    "        print(element, \"is divisible by 3\")\n",
    "    else:\n",
    "        print(element, \"is not divisible by 3\")\n"
   ]
  },
  {
   "cell_type": "code",
   "execution_count": 27,
   "id": "fb84ae87-c0bd-40f6-b00f-5466ff4a236d",
   "metadata": {},
   "outputs": [],
   "source": [
    "# Q7. What do you understand about mutable and immutable data types? Give examples for both showing \n",
    "# this property"
   ]
  },
  {
   "cell_type": "code",
   "execution_count": 28,
   "id": "a59aff50-4a29-4fb9-9ce4-9635cb129b86",
   "metadata": {},
   "outputs": [],
   "source": [
    "# Mutable and immutable are two fundamental concepts in programming that describe whether a data type can be modified after it is created.\n",
    "\n",
    "# Immutable Data Types:\n",
    "# Immutable data types are those whose values cannot be changed once they are assigned. \n",
    "# If any modification is made to an immutable object, a new object is created with the modified value.\n",
    "# Examples of immutable data types in Python include strings, numbers (integers, floats), and tuples.\n",
    "\n",
    "# Here's an example demonstrating the immutability of a string:"
   ]
  },
  {
   "cell_type": "code",
   "execution_count": 29,
   "id": "3638bc20-f627-4694-a6a7-5a490f835709",
   "metadata": {},
   "outputs": [
    {
     "name": "stdout",
     "output_type": "stream",
     "text": [
      "Hello\n",
      "Hello World\n"
     ]
    }
   ],
   "source": [
    "string = \"Hello\"\n",
    "modified_string = string + \" World\"\n",
    "print(string)           # Output: Hello\n",
    "print(modified_string)  # Output: Hello World\n"
   ]
  },
  {
   "cell_type": "code",
   "execution_count": 30,
   "id": "1f532f0c-7810-4dfc-9eca-3bbf0d9186b0",
   "metadata": {},
   "outputs": [],
   "source": [
    "# Mutable Data Types:\n",
    "# Mutable data types, on the other hand, are those that can be modified directly. \n",
    "# Changes made to a mutable object affect the object itself, without creating a new object.\n",
    "# Examples of mutable data types in Python include lists, dictionaries, and sets.\n",
    "\n",
    "# Here's an example demonstrating the mutability of a list:"
   ]
  },
  {
   "cell_type": "code",
   "execution_count": 31,
   "id": "ce2623a0-2d72-412f-9ce9-cc6c2faf7a47",
   "metadata": {},
   "outputs": [
    {
     "name": "stdout",
     "output_type": "stream",
     "text": [
      "[1, 2, 3, 4]\n"
     ]
    }
   ],
   "source": [
    "my_list = [1, 2, 3]\n",
    "my_list.append(4)\n",
    "print(my_list)  # Output: [1, 2, 3, 4]\n"
   ]
  },
  {
   "cell_type": "code",
   "execution_count": null,
   "id": "aa212788-4da6-4f9e-bc15-69429da0fe31",
   "metadata": {},
   "outputs": [],
   "source": []
  }
 ],
 "metadata": {
  "kernelspec": {
   "display_name": "Python 3 (ipykernel)",
   "language": "python",
   "name": "python3"
  },
  "language_info": {
   "codemirror_mode": {
    "name": "ipython",
    "version": 3
   },
   "file_extension": ".py",
   "mimetype": "text/x-python",
   "name": "python",
   "nbconvert_exporter": "python",
   "pygments_lexer": "ipython3",
   "version": "3.10.8"
  }
 },
 "nbformat": 4,
 "nbformat_minor": 5
}
