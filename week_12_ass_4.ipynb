{
 "cells": [
  {
   "cell_type": "code",
   "execution_count": 1,
   "id": "098c3c06-6eaa-448d-a4ca-e3c746bdc9cd",
   "metadata": {},
   "outputs": [],
   "source": [
    "# Q1. Write a Python function that takes in two arrays of data and calculates the F-value for a variance ratio\n",
    "# test. The function should return the F-value and the corresponding p-value for the test."
   ]
  },
  {
   "cell_type": "code",
   "execution_count": 2,
   "id": "40f441f4-0e05-4ea3-88da-1e4ea1339256",
   "metadata": {},
   "outputs": [
    {
     "name": "stdout",
     "output_type": "stream",
     "text": [
      "F-value: 1.1824817518248176\n",
      "P-value: 0.4374371022837653\n"
     ]
    }
   ],
   "source": [
    "import numpy as np\n",
    "from scipy.stats import f\n",
    "\n",
    "def variance_ratio_test(data1, data2):\n",
    "    \"\"\"\n",
    "    Perform variance ratio test (F-test) for two arrays of data.\n",
    "\n",
    "    Parameters:\n",
    "    - data1: numpy array or list, first set of data\n",
    "    - data2: numpy array or list, second set of data\n",
    "\n",
    "    Returns:\n",
    "    - f_value: float, F-value from the variance ratio test\n",
    "    - p_value: float, p-value corresponding to the F-value\n",
    "    \"\"\"\n",
    "\n",
    "    # Calculate the variance of each dataset\n",
    "    var1 = np.var(data1, ddof=1)  # ddof=1 for sample variance\n",
    "    var2 = np.var(data2, ddof=1)\n",
    "\n",
    "    # Ensure the larger variance is in the numerator\n",
    "    if var1 < var2:\n",
    "        var1, var2 = var2, var1\n",
    "        data1, data2 = data2, data1\n",
    "\n",
    "    # Calculate the F-value\n",
    "    f_value = var1 / var2\n",
    "\n",
    "    # Degrees of freedom for numerator and denominator\n",
    "    df_num = len(data1) - 1\n",
    "    df_denom = len(data2) - 1\n",
    "\n",
    "    # Calculate the p-value\n",
    "    p_value = f.sf(f_value, df_num, df_denom)\n",
    "\n",
    "    return f_value, p_value\n",
    "\n",
    "data_array1 = np.array([12, 15, 18, 22, 17])\n",
    "data_array2 = np.array([10, 14, 16, 20, 19])\n",
    "\n",
    "f_value, p_value = variance_ratio_test(data_array1, data_array2)\n",
    "\n",
    "print(\"F-value:\", f_value)\n",
    "print(\"P-value:\", p_value)\n"
   ]
  },
  {
   "cell_type": "code",
   "execution_count": 3,
   "id": "359c855c-23be-4160-bb69-7b6fa86a1788",
   "metadata": {},
   "outputs": [],
   "source": [
    "# Q2. Given a significance level of 0.05 and the degrees of freedom for the numerator and denominator of an\n",
    "# F-distribution, write a Python function that returns the critical F-value for a two-tailed test."
   ]
  },
  {
   "cell_type": "code",
   "execution_count": 4,
   "id": "0d318fd9-7b27-47e7-9ee3-bf0849d908b1",
   "metadata": {},
   "outputs": [
    {
     "name": "stdout",
     "output_type": "stream",
     "text": [
      "Critical F-value: 3.8586986662732143\n"
     ]
    }
   ],
   "source": [
    "from scipy.stats import f\n",
    "\n",
    "def critical_f_value(alpha, df_num, df_denom):\n",
    "    \"\"\"\n",
    "    Calculate the critical F-value for a two-tailed test.\n",
    "\n",
    "    Parameters:\n",
    "    - alpha: float, significance level\n",
    "    - df_num: int, degrees of freedom for the numerator\n",
    "    - df_denom: int, degrees of freedom for the denominator\n",
    "\n",
    "    Returns:\n",
    "    - crit_f_value: float, critical F-value\n",
    "    \"\"\"\n",
    "\n",
    "    # Calculate the critical F-value using the ppf function (percent point function)\n",
    "    crit_f_value = f.ppf(1 - alpha/2, df_num, df_denom)\n",
    "\n",
    "    return crit_f_value\n",
    "\n",
    "significance_level = 0.05\n",
    "degrees_of_freedom_num = 3\n",
    "degrees_of_freedom_denom = 20\n",
    "\n",
    "critical_f = critical_f_value(significance_level, degrees_of_freedom_num, degrees_of_freedom_denom)\n",
    "\n",
    "print(\"Critical F-value:\", critical_f)\n"
   ]
  },
  {
   "cell_type": "code",
   "execution_count": 5,
   "id": "8900c946-6335-45e0-9eb5-092dc7e97a54",
   "metadata": {},
   "outputs": [],
   "source": [
    "# Q3. Write a Python program that generates random samples from two normal distributions with known\n",
    "\n",
    "# variances and uses an F-test to determine if the variances are equal. The program should output the F-\n",
    "# value, degrees of freedom, and p-value for the test."
   ]
  },
  {
   "cell_type": "code",
   "execution_count": 7,
   "id": "46fa812d-3225-4265-b759-3a082fe1c06b",
   "metadata": {},
   "outputs": [
    {
     "name": "stdout",
     "output_type": "stream",
     "text": [
      "F-value: 1.1803154398159967\n",
      "Degrees of Freedom (numerator): 29\n",
      "Degrees of Freedom (denominator): 24\n",
      "P-value: 0.6839063022170038\n"
     ]
    }
   ],
   "source": [
    "import numpy as np\n",
    "from scipy.stats import f\n",
    "\n",
    "def f_test(variance1, variance2, sample_size1, sample_size2):\n",
    "    \"\"\"\n",
    "    Perform an F-test to determine if the variances are equal.\n",
    "\n",
    "    Parameters:\n",
    "    - variance1: float, variance of the first sample\n",
    "    - variance2: float, variance of the second sample\n",
    "    - sample_size1: int, size of the first sample\n",
    "    - sample_size2: int, size of the second sample\n",
    "\n",
    "    Returns:\n",
    "    - f_value: float, F-value\n",
    "    - df_num: int, degrees of freedom for the numerator\n",
    "    - df_denom: int, degrees of freedom for the denominator\n",
    "    - p_value: float, p-value for the test\n",
    "    \"\"\"\n",
    "\n",
    "    # Calculate F-value and p-value using the stats library\n",
    "    f_value = variance1 / variance2\n",
    "    df_num = sample_size1 - 1\n",
    "    df_denom = sample_size2 - 1\n",
    "    p_value = 2 * min(f.cdf(f_value, df_num, df_denom), 1 - f.cdf(f_value, df_num, df_denom))\n",
    "\n",
    "    return f_value, df_num, df_denom, p_value\n",
    "\n",
    "# Set random seed for reproducibility\n",
    "np.random.seed(42)\n",
    "\n",
    "# Generate random samples from two normal distributions\n",
    "sample_size1 = 30\n",
    "sample_size2 = 25\n",
    "variance1 = 4.0\n",
    "variance2 = 3.0\n",
    "\n",
    "# Generate random samples\n",
    "sample1 = np.random.normal(0, np.sqrt(variance1), sample_size1)\n",
    "sample2 = np.random.normal(0, np.sqrt(variance2), sample_size2)\n",
    "\n",
    "# Perform F-test\n",
    "f_value, df_num, df_denom, p_value = f_test(np.var(sample1, ddof=1), np.var(sample2, ddof=1), sample_size1, sample_size2)\n",
    "\n",
    "# Output results\n",
    "print(\"F-value:\", f_value)\n",
    "print(\"Degrees of Freedom (numerator):\", df_num)\n",
    "print(\"Degrees of Freedom (denominator):\", df_denom)\n",
    "print(\"P-value:\", p_value)\n"
   ]
  },
  {
   "cell_type": "code",
   "execution_count": 8,
   "id": "1c15fe1d-cf24-4139-b695-d6d21a6aa6d9",
   "metadata": {},
   "outputs": [],
   "source": [
    "# Q4.The variances of two populations are known to be 10 and 15. A sample of 12 observations is taken from\n",
    "# each population. Conduct an F-test at the 5% significance level to determine if the variances are\n",
    "# significantly different."
   ]
  },
  {
   "cell_type": "code",
   "execution_count": 9,
   "id": "08559255-2241-483b-90a1-1b39c75dc0aa",
   "metadata": {},
   "outputs": [
    {
     "name": "stdout",
     "output_type": "stream",
     "text": [
      "Fail to reject the null hypothesis. Variances are not significantly different.\n"
     ]
    }
   ],
   "source": [
    "from scipy.stats import f\n",
    "\n",
    "def f_test(variance1, variance2, sample_size1, sample_size2, significance_level):\n",
    "    \"\"\"\n",
    "    Perform an F-test to determine if the variances are significantly different.\n",
    "\n",
    "    Parameters:\n",
    "    - variance1: float, variance of the first population\n",
    "    - variance2: float, variance of the second population\n",
    "    - sample_size1: int, size of the sample from the first population\n",
    "    - sample_size2: int, size of the sample from the second population\n",
    "    - significance_level: float, significance level for the test\n",
    "\n",
    "    Returns:\n",
    "    - result: str, result of the F-test\n",
    "    \"\"\"\n",
    "\n",
    "    # Calculate F-value and p-value using the stats library\n",
    "    f_value = variance1 / variance2\n",
    "    df_num = sample_size1 - 1\n",
    "    df_denom = sample_size2 - 1\n",
    "    p_value = 2 * min(f.cdf(f_value, df_num, df_denom), 1 - f.cdf(f_value, df_num, df_denom))\n",
    "\n",
    "    # Compare p-value to significance level\n",
    "    if p_value < significance_level:\n",
    "        result = \"Reject the null hypothesis. Variances are significantly different.\"\n",
    "    else:\n",
    "        result = \"Fail to reject the null hypothesis. Variances are not significantly different.\"\n",
    "\n",
    "    return result\n",
    "\n",
    "# Given data\n",
    "variance_population1 = 10\n",
    "variance_population2 = 15\n",
    "sample_size1 = 12\n",
    "sample_size2 = 12\n",
    "significance_level = 0.05\n",
    "\n",
    "# Perform F-test\n",
    "result = f_test(variance_population1, variance_population2, sample_size1, sample_size2, significance_level)\n",
    "\n",
    "# Output result\n",
    "print(result)\n"
   ]
  },
  {
   "cell_type": "code",
   "execution_count": 10,
   "id": "27a3df5a-ba3e-406f-a135-ba2c3ef7d55f",
   "metadata": {},
   "outputs": [],
   "source": [
    "# Q5. A manufacturer claims that the variance of the diameter of a certain product is 0.005. A sample of 25\n",
    "# products is taken, and the sample variance is found to be 0.006. Conduct an F-test at the 1% significance\n",
    "# level to determine if the claim is justified."
   ]
  },
  {
   "cell_type": "code",
   "execution_count": 11,
   "id": "bdc3108f-b2ac-4d28-927e-029c6af459bb",
   "metadata": {},
   "outputs": [
    {
     "name": "stdout",
     "output_type": "stream",
     "text": [
      "Fail to reject the null hypothesis. The claimed variance is justified.\n"
     ]
    }
   ],
   "source": [
    "from scipy.stats import f\n",
    "\n",
    "def f_test_claimed_variance(sample_variance, claimed_variance, sample_size, significance_level):\n",
    "    \"\"\"\n",
    "    Perform an F-test to determine if the claimed variance is justified.\n",
    "\n",
    "    Parameters:\n",
    "    - sample_variance: float, sample variance\n",
    "    - claimed_variance: float, claimed variance by the manufacturer\n",
    "    - sample_size: int, size of the sample\n",
    "    - significance_level: float, significance level for the test\n",
    "\n",
    "    Returns:\n",
    "    - result: str, result of the F-test\n",
    "    \"\"\"\n",
    "\n",
    "    # Calculate F-value and p-value using the stats library\n",
    "    f_value = sample_variance / claimed_variance\n",
    "    df_num = sample_size - 1\n",
    "    df_denom = 1  # Degrees of freedom for the claimed variance\n",
    "    p_value = 2 * min(f.cdf(f_value, df_num, df_denom), 1 - f.cdf(f_value, df_num, df_denom))\n",
    "\n",
    "    # Compare p-value to significance level\n",
    "    if p_value < significance_level:\n",
    "        result = \"Reject the null hypothesis. The claimed variance is not justified.\"\n",
    "    else:\n",
    "        result = \"Fail to reject the null hypothesis. The claimed variance is justified.\"\n",
    "\n",
    "    return result\n",
    "\n",
    "# Given data\n",
    "sample_variance = 0.006\n",
    "claimed_variance = 0.005\n",
    "sample_size = 25\n",
    "significance_level = 0.01  # 1% significance level\n",
    "\n",
    "# Perform F-test\n",
    "result = f_test_claimed_variance(sample_variance, claimed_variance, sample_size, significance_level)\n",
    "\n",
    "# Output result\n",
    "print(result)\n"
   ]
  },
  {
   "cell_type": "code",
   "execution_count": 12,
   "id": "d6b4481b-1667-4bca-8ba8-8cb4889a9244",
   "metadata": {},
   "outputs": [],
   "source": [
    "# Q6. Write a Python function that takes in the degrees of freedom for the numerator and denominator of an\n",
    "# F-distribution and calculates the mean and variance of the distribution. The function should return the\n",
    "# mean and variance as a tuple."
   ]
  },
  {
   "cell_type": "code",
   "execution_count": 13,
   "id": "9a966475-bd3a-425f-8a9d-5d9df0950b4e",
   "metadata": {},
   "outputs": [
    {
     "name": "stdout",
     "output_type": "stream",
     "text": [
      "Mean of F-distribution: 1.1538461538461537\n",
      "Variance of F-distribution: 0.8714362560516407\n"
     ]
    }
   ],
   "source": [
    "def f_distribution_stats(df_num, df_denom):\n",
    "    \"\"\"\n",
    "    Calculate the mean and variance of an F-distribution.\n",
    "\n",
    "    Parameters:\n",
    "    - df_num: int, degrees of freedom for the numerator\n",
    "    - df_denom: int, degrees of freedom for the denominator\n",
    "\n",
    "    Returns:\n",
    "    - stats: tuple, mean and variance of the F-distribution\n",
    "    \"\"\"\n",
    "\n",
    "    # Mean of the F-distribution\n",
    "    mean = df_denom / (df_denom - 2) if df_denom > 2 else None\n",
    "\n",
    "    # Variance of the F-distribution\n",
    "    variance_numerator = 2 * (df_denom**2) * (df_num + df_denom - 2)\n",
    "    variance_denominator = df_num * (df_denom - 2)**2 * (df_denom - 4)\n",
    "    variance = variance_numerator / variance_denominator if df_denom > 4 else None\n",
    "\n",
    "    return mean, variance\n",
    "\n",
    "# Example usage:\n",
    "df_num = 5\n",
    "df_denom = 15\n",
    "\n",
    "# Calculate mean and variance\n",
    "mean, variance = f_distribution_stats(df_num, df_denom)\n",
    "\n",
    "# Output result\n",
    "print(f\"Mean of F-distribution: {mean}\")\n",
    "print(f\"Variance of F-distribution: {variance}\")\n"
   ]
  },
  {
   "cell_type": "code",
   "execution_count": 14,
   "id": "d6363ed4-0ed7-4301-bd81-ee8b7772f237",
   "metadata": {},
   "outputs": [],
   "source": [
    "# Q7. A random sample of 10 measurements is taken from a normal population with unknown variance. The\n",
    "# sample variance is found to be 25. Another random sample of 15 measurements is taken from another\n",
    "# normal population with unknown variance, and the sample variance is found to be 20. Conduct an F-test\n",
    "# at the 10% significance level to determine if the variances are significantly different."
   ]
  },
  {
   "cell_type": "code",
   "execution_count": 15,
   "id": "721d4a56-bd75-48a2-be69-3bc1cf0c24d7",
   "metadata": {},
   "outputs": [
    {
     "name": "stdout",
     "output_type": "stream",
     "text": [
      "Fail to reject the null hypothesis. Variances are not significantly different.\n"
     ]
    }
   ],
   "source": [
    "import scipy.stats as stats\n",
    "\n",
    "def f_test(variance1, df1, variance2, df2, significance_level):\n",
    "    \"\"\"\n",
    "    Perform an F-test to compare variances of two populations.\n",
    "\n",
    "    Parameters:\n",
    "    - variance1: float, sample variance of population 1\n",
    "    - df1: int, degrees of freedom for population 1\n",
    "    - variance2: float, sample variance of population 2\n",
    "    - df2: int, degrees of freedom for population 2\n",
    "    - significance_level: float, significance level for the test\n",
    "\n",
    "    Returns:\n",
    "    - result: str, result of the F-test\n",
    "    \"\"\"\n",
    "\n",
    "    # Calculate the F-statistic\n",
    "    F_statistic = variance1 / variance2 if variance1 > variance2 else variance2 / variance1\n",
    "\n",
    "    # Calculate the critical F-value\n",
    "    critical_F_value = stats.f.ppf(1 - significance_level / 2, df1, df2)\n",
    "\n",
    "    # Compare F-statistic with critical F-value\n",
    "    if F_statistic < critical_F_value or F_statistic > 1 / critical_F_value:\n",
    "        result = \"Fail to reject the null hypothesis. Variances are not significantly different.\"\n",
    "    else:\n",
    "        result = \"Reject the null hypothesis. Variances are significantly different.\"\n",
    "\n",
    "    return result\n",
    "\n",
    "# Example usage:\n",
    "variance1 = 25\n",
    "df1 = 10\n",
    "variance2 = 20\n",
    "df2 = 15\n",
    "significance_level = 0.10\n",
    "\n",
    "# Perform F-test\n",
    "test_result = f_test(variance1, df1, variance2, df2, significance_level)\n",
    "\n",
    "# Output result\n",
    "print(test_result)\n"
   ]
  },
  {
   "cell_type": "code",
   "execution_count": 16,
   "id": "6cdf7b6e-67bd-43b5-bfa5-5ff9790a0c49",
   "metadata": {},
   "outputs": [],
   "source": [
    "# Q8. The following data represent the waiting times in minutes at two different restaurants on a Saturday\n",
    "# night: Restaurant A: 24, 25, 28, 23, 22, 20, 27; Restaurant B: 31, 33, 35, 30, 32, 36. Conduct an F-test at the 5%\n",
    "# significance level to determine if the variances are significantly different."
   ]
  },
  {
   "cell_type": "code",
   "execution_count": 17,
   "id": "88ed6be3-0b42-479b-9696-2f0474e401ce",
   "metadata": {},
   "outputs": [
    {
     "name": "stdout",
     "output_type": "stream",
     "text": [
      "Fail to reject the null hypothesis. Variances are not significantly different.\n"
     ]
    }
   ],
   "source": [
    "import numpy as np\n",
    "import scipy.stats as stats\n",
    "\n",
    "def f_test(data1, data2, significance_level):\n",
    "    \"\"\"\n",
    "    Perform an F-test to compare variances of two samples.\n",
    "\n",
    "    Parameters:\n",
    "    - data1: array-like, data for sample 1\n",
    "    - data2: array-like, data for sample 2\n",
    "    - significance_level: float, significance level for the test\n",
    "\n",
    "    Returns:\n",
    "    - result: str, result of the F-test\n",
    "    \"\"\"\n",
    "\n",
    "    # Calculate sample variances and degrees of freedom\n",
    "    variance1 = np.var(data1, ddof=1)\n",
    "    df1 = len(data1) - 1\n",
    "    variance2 = np.var(data2, ddof=1)\n",
    "    df2 = len(data2) - 1\n",
    "\n",
    "    # Calculate the F-statistic\n",
    "    F_statistic = variance1 / variance2 if variance1 > variance2 else variance2 / variance1\n",
    "\n",
    "    # Calculate the critical F-value\n",
    "    critical_F_value = stats.f.ppf(1 - significance_level / 2, df1, df2)\n",
    "\n",
    "    # Compare F-statistic with critical F-value\n",
    "    if F_statistic < critical_F_value or F_statistic > 1 / critical_F_value:\n",
    "        result = \"Fail to reject the null hypothesis. Variances are not significantly different.\"\n",
    "    else:\n",
    "        result = \"Reject the null hypothesis. Variances are significantly different.\"\n",
    "\n",
    "    return result\n",
    "\n",
    "# Example usage:\n",
    "data_restaurant_A = [24, 25, 28, 23, 22, 20, 27]\n",
    "data_restaurant_B = [31, 33, 35, 30, 32, 36]\n",
    "significance_level = 0.05\n",
    "\n",
    "# Perform F-test\n",
    "test_result = f_test(data_restaurant_A, data_restaurant_B, significance_level)\n",
    "\n",
    "# Output result\n",
    "print(test_result)\n"
   ]
  },
  {
   "cell_type": "code",
   "execution_count": 18,
   "id": "10273be3-7a4e-42a6-88e2-09f18079b3c1",
   "metadata": {},
   "outputs": [],
   "source": [
    "# Q9. The following data represent the test scores of two groups of students: Group A: 80, 85, 90, 92, 87, 83;\n",
    "# Group B: 75, 78, 82, 79, 81, 84. Conduct an F-test at the 1% significance level to determine if the variances\n",
    "# are significantly different."
   ]
  },
  {
   "cell_type": "code",
   "execution_count": 19,
   "id": "ed5bb628-e671-4a0a-8aa6-3eaeb17e29e0",
   "metadata": {},
   "outputs": [
    {
     "name": "stdout",
     "output_type": "stream",
     "text": [
      "Fail to reject the null hypothesis. Variances are not significantly different.\n"
     ]
    }
   ],
   "source": [
    "import numpy as np\n",
    "import scipy.stats as stats\n",
    "\n",
    "def f_test(data1, data2, significance_level):\n",
    "    \"\"\"\n",
    "    Perform an F-test to compare variances of two samples.\n",
    "\n",
    "    Parameters:\n",
    "    - data1: array-like, data for sample 1\n",
    "    - data2: array-like, data for sample 2\n",
    "    - significance_level: float, significance level for the test\n",
    "\n",
    "    Returns:\n",
    "    - result: str, result of the F-test\n",
    "    \"\"\"\n",
    "\n",
    "    # Calculate sample variances and degrees of freedom\n",
    "    variance1 = np.var(data1, ddof=1)\n",
    "    df1 = len(data1) - 1\n",
    "    variance2 = np.var(data2, ddof=1)\n",
    "    df2 = len(data2) - 1\n",
    "\n",
    "    # Calculate the F-statistic\n",
    "    F_statistic = variance1 / variance2 if variance1 > variance2 else variance2 / variance1\n",
    "\n",
    "    # Calculate the critical F-value\n",
    "    critical_F_value = stats.f.ppf(1 - significance_level / 2, df1, df2)\n",
    "\n",
    "    # Compare F-statistic with critical F-value\n",
    "    if F_statistic < critical_F_value or F_statistic > 1 / critical_F_value:\n",
    "        result = \"Fail to reject the null hypothesis. Variances are not significantly different.\"\n",
    "    else:\n",
    "        result = \"Reject the null hypothesis. Variances are significantly different.\"\n",
    "\n",
    "    return result\n",
    "\n",
    "# Example usage:\n",
    "data_group_A = [80, 85, 90, 92, 87, 83]\n",
    "data_group_B = [75, 78, 82, 79, 81, 84]\n",
    "significance_level = 0.01\n",
    "\n",
    "# Perform F-test\n",
    "test_result = f_test(data_group_A, data_group_B, significance_level)\n",
    "\n",
    "# Output result\n",
    "print(test_result)\n"
   ]
  },
  {
   "cell_type": "code",
   "execution_count": null,
   "id": "27d3b34e-71d6-47fe-9856-e000678a0888",
   "metadata": {},
   "outputs": [],
   "source": []
  }
 ],
 "metadata": {
  "kernelspec": {
   "display_name": "Python 3 (ipykernel)",
   "language": "python",
   "name": "python3"
  },
  "language_info": {
   "codemirror_mode": {
    "name": "ipython",
    "version": 3
   },
   "file_extension": ".py",
   "mimetype": "text/x-python",
   "name": "python",
   "nbconvert_exporter": "python",
   "pygments_lexer": "ipython3",
   "version": "3.10.8"
  }
 },
 "nbformat": 4,
 "nbformat_minor": 5
}
