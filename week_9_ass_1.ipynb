{
 "cells": [
  {
   "cell_type": "code",
   "execution_count": 2,
   "id": "26e45ff8-3ad6-427b-9572-8f66f9c7f6c9",
   "metadata": {},
   "outputs": [],
   "source": [
    "# Consider the below code to answer further questions:\n",
    "import numpy as np\n",
    "list_ = [ '1','2','3','4','5']\n",
    "array_list = np.array(object = list_)"
   ]
  },
  {
   "cell_type": "code",
   "execution_count": 3,
   "id": "9be8f962-95ae-4d8e-abcf-beb258f35264",
   "metadata": {},
   "outputs": [],
   "source": [
    "# Q1. Is there any difference in the data type of variables list_ and array_list? If there is then write a code\n",
    "# to print the data types of both the variables."
   ]
  },
  {
   "cell_type": "code",
   "execution_count": 4,
   "id": "c50de530-e075-44da-bd28-25f2d97e3bcc",
   "metadata": {},
   "outputs": [
    {
     "name": "stdout",
     "output_type": "stream",
     "text": [
      "Data type of list_: <class 'list'>\n",
      "Data type of array_list: <U1\n"
     ]
    }
   ],
   "source": [
    "\n",
    "print(f\"Data type of list_: {type(list_)}\")\n",
    "print(f\"Data type of array_list: {array_list.dtype}\")"
   ]
  },
  {
   "cell_type": "code",
   "execution_count": 5,
   "id": "fd851e25-3a15-4031-a8b2-eb2b1d11cbe1",
   "metadata": {},
   "outputs": [],
   "source": [
    "# list_ is a Python list, which is a built-in Python data structure capable of holding a collection\n",
    "# of items. Each item in the list can be of any data type, and Python lists are known for their flexibility \n",
    "# in holding heterogeneous data.\n",
    "\n",
    "# array_list, on the other hand, is a NumPy array. NumPy arrays are specialized for numerical computations \n",
    "# and are more efficient for mathematical operations than Python lists. The elements of a NumPy array are of a \n",
    "# uniform data type. In this specific case, since the elements of list_ are string literals ('1', '2', '3', etc.), \n",
    "# array_list will be an array of strings."
   ]
  },
  {
   "cell_type": "code",
   "execution_count": 6,
   "id": "73a850e2-39e7-4828-a082-1e3270430a22",
   "metadata": {},
   "outputs": [],
   "source": [
    "# Q2. Write a code to print the data type of each and every element of both the variables list_ and\n",
    "# arra_list."
   ]
  },
  {
   "cell_type": "code",
   "execution_count": 7,
   "id": "df38d9f0-9cb7-4b12-91dc-5d227218b774",
   "metadata": {},
   "outputs": [
    {
     "name": "stdout",
     "output_type": "stream",
     "text": [
      "Data types in list_:\n",
      "<class 'str'>\n",
      "<class 'str'>\n",
      "<class 'str'>\n",
      "<class 'str'>\n",
      "<class 'str'>\n",
      "\n",
      "Data type of elements in array_list:\n",
      "<U1\n"
     ]
    }
   ],
   "source": [
    "print(\"Data types in list_:\")\n",
    "for item in list_:\n",
    "    print(type(item))\n",
    "\n",
    "print(\"\\nData type of elements in array_list:\")\n",
    "print(array_list.dtype)"
   ]
  },
  {
   "cell_type": "code",
   "execution_count": 8,
   "id": "54dde0b6-8da0-4c0c-9a28-c91996be97a2",
   "metadata": {},
   "outputs": [],
   "source": [
    "# Q3. Considering the following changes in the variable, array_list:\n",
    "# array_list = np.array(object = list_, dtype = int)"
   ]
  },
  {
   "cell_type": "code",
   "execution_count": null,
   "id": "e82c2acc-dfda-4cef-b4f8-ecdca5b21373",
   "metadata": {},
   "outputs": [],
   "source": [
    "# Will there be any difference in the data type of the elements present in both the variables, list_ and\n",
    "# arra_list? If so then print the data types of each and every element present in both the variables, list_\n",
    "# # and arra_list."
   ]
  },
  {
   "cell_type": "code",
   "execution_count": 11,
   "id": "33b23e31-8644-48e8-b7b4-e48eb37a74cc",
   "metadata": {},
   "outputs": [
    {
     "name": "stdout",
     "output_type": "stream",
     "text": [
      "Data types in list_:\n",
      "<class 'str'>\n",
      "<class 'str'>\n",
      "<class 'str'>\n",
      "<class 'str'>\n",
      "<class 'str'>\n",
      "\n",
      "Data types in array_list:\n",
      "<class 'numpy.int64'>\n",
      "<class 'numpy.int64'>\n",
      "<class 'numpy.int64'>\n",
      "<class 'numpy.int64'>\n",
      "<class 'numpy.int64'>\n"
     ]
    }
   ],
   "source": [
    "import numpy as np\n",
    "\n",
    "list_ = ['1', '2', '3', '4', '5']\n",
    "array_list = np.array(object=list_, dtype=int)\n",
    "\n",
    "print(\"Data types in list_:\")\n",
    "for item in list_:\n",
    "    print(type(item))\n",
    "\n",
    "print(\"\\nData types in array_list:\")\n",
    "for item in array_list:\n",
    "    print(type(item))\n"
   ]
  },
  {
   "cell_type": "code",
   "execution_count": 12,
   "id": "53a36972-3c6d-4cc7-b231-6a1347209efb",
   "metadata": {},
   "outputs": [],
   "source": [
    "# Consider the below code to answer further questions:\n",
    "import numpy as np\n",
    "num_list = [ [ 1 , 2 , 3 ] , [ 4 , 5 , 6 ] ]\n",
    "num_array = np.array(object = num_list)"
   ]
  },
  {
   "cell_type": "code",
   "execution_count": 13,
   "id": "25afef45-4a56-4891-936d-00f3cebd5293",
   "metadata": {},
   "outputs": [],
   "source": [
    "# Q4. Write a code to find the following characteristics of variable, num_array:\n",
    "# (i) shape\n",
    "# (ii) size"
   ]
  },
  {
   "cell_type": "code",
   "execution_count": 14,
   "id": "d5943237-ee2a-4b20-b886-b6fd22b7fb50",
   "metadata": {},
   "outputs": [
    {
     "name": "stdout",
     "output_type": "stream",
     "text": [
      "Shape of num_array: (2, 3)\n",
      "Size of num_array: 6\n"
     ]
    }
   ],
   "source": [
    "\n",
    "# Finding the shape of num_array\n",
    "shape_of_array = num_array.shape\n",
    "print(f\"Shape of num_array: {shape_of_array}\")\n",
    "\n",
    "# Finding the size of num_array\n",
    "size_of_array = num_array.size\n",
    "print(f\"Size of num_array: {size_of_array}\")\n"
   ]
  },
  {
   "cell_type": "code",
   "execution_count": 15,
   "id": "a7aeda20-3234-450e-9b81-a42829b43830",
   "metadata": {},
   "outputs": [],
   "source": [
    "# Q5. Write a code to create numpy array of 3*3 matrix containing zeros only, using a numpy array\n",
    "# creation function.\n",
    "# [Hint: The size of the array will be 9 and the shape will be (3,3).]"
   ]
  },
  {
   "cell_type": "code",
   "execution_count": 21,
   "id": "9b548ab3-c92c-4025-b31e-71f53dc6493a",
   "metadata": {},
   "outputs": [
    {
     "name": "stdout",
     "output_type": "stream",
     "text": [
      "[[0 0 0]\n",
      " [0 0 0]\n",
      " [0 0 0]]\n",
      "[[0. 0. 0.]\n",
      " [0. 0. 0.]\n",
      " [0. 0. 0.]]\n"
     ]
    }
   ],
   "source": [
    "import numpy as np\n",
    "\n",
    "# Creating a 3x3 array of zeros\n",
    "data=np.random.randint(0,1,(3,3))\n",
    "print(data)\n",
    "\n",
    "zero_array = np.zeros((3, 3))\n",
    "print(zero_array)\n"
   ]
  },
  {
   "cell_type": "code",
   "execution_count": 17,
   "id": "ed28bf3b-86dc-4f04-ab2b-602fde53d0d2",
   "metadata": {},
   "outputs": [],
   "source": [
    "# Q6. Create an identity matrix of shape (5,5) using numpy functions?\n",
    "# [Hint: An identity matrix is a matrix containing 1 diagonally and other elements will be 0.]"
   ]
  },
  {
   "cell_type": "code",
   "execution_count": 24,
   "id": "973c74fc-2b94-40c6-a6bf-b870b6b89166",
   "metadata": {},
   "outputs": [
    {
     "name": "stdout",
     "output_type": "stream",
     "text": [
      "[[1 0 0 0 0]\n",
      " [0 1 0 0 0]\n",
      " [0 0 1 0 0]\n",
      " [0 0 0 1 0]\n",
      " [0 0 0 0 1]]\n",
      "[[1. 0. 0. 0. 0.]\n",
      " [0. 1. 0. 0. 0.]\n",
      " [0. 0. 1. 0. 0.]\n",
      " [0. 0. 0. 1. 0.]\n",
      " [0. 0. 0. 0. 1.]]\n"
     ]
    }
   ],
   "source": [
    "import numpy as np\n",
    "\n",
    "data1=np.diag([1,1,1,1,1,]) \n",
    "print(data1)\n",
    "\n",
    "# Creating a 5x5 identity matrix\n",
    "identity_matrix = np.eye(5)\n",
    "\n",
    "print(identity_matrix)\n"
   ]
  },
  {
   "cell_type": "code",
   "execution_count": null,
   "id": "d37ba905-bcea-471d-bc20-e7c4e8e28845",
   "metadata": {},
   "outputs": [],
   "source": []
  }
 ],
 "metadata": {
  "kernelspec": {
   "display_name": "Python 3 (ipykernel)",
   "language": "python",
   "name": "python3"
  },
  "language_info": {
   "codemirror_mode": {
    "name": "ipython",
    "version": 3
   },
   "file_extension": ".py",
   "mimetype": "text/x-python",
   "name": "python",
   "nbconvert_exporter": "python",
   "pygments_lexer": "ipython3",
   "version": "3.10.8"
  }
 },
 "nbformat": 4,
 "nbformat_minor": 5
}
