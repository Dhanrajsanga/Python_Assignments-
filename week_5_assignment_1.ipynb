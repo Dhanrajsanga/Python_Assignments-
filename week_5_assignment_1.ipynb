{
 "cells": [
  {
   "cell_type": "code",
   "execution_count": 1,
   "id": "9b38472d-7fb6-493c-b321-7c5728fe3ce2",
   "metadata": {},
   "outputs": [],
   "source": [
    "# Q1 what is an exception in  python  ?  write the difference between exceptions and syntax error\n",
    "\n",
    "# Exception is an event that occurs during the execution of a program that disrupts the normal flow of instructionsWhen a \n",
    "# Python script encounters a situation that it cannot cope with, it raises an exception. Exceptions are raised for a wide\n",
    "# variety of reasons, including errors in the code, unexpected input, or issues with external resources.\n",
    "\n",
    "# Syntax errors, on the other hand, are a different type of issue. They occur when the Python interpreter cannot interpret the \n",
    "# code because it violates the language syntax rules. Syntax errors are detected during the parsing of the code before the \n",
    "# program is executed. They typically involve incorrect use of keywords, missing or mismatched parentheses, or other structural \n",
    "# problems.\n",
    "\n",
    "# Here's a summary of the key differences between exceptions and syntax errors in Python:\n",
    "\n",
    "# Timing of Detection:\n",
    "\n",
    "# Exception: Detected during the execution of the program when a specific event occurs.\n",
    "# Syntax Error: Detected during the parsing of the code before the program is executed.\n",
    "# Cause:\n",
    "\n",
    "# Exception: Caused by runtime errors, unexpected input, or issues during program execution.\n",
    "# Syntax Error: Caused by violations of the Python language syntax rules.\n",
    "# Example:\n",
    "\n",
    "# Exception: An example is trying to open a file that does not exist (FileNotFoundError).\n",
    "# Syntax Error: An example is forgetting to close a parenthesis or using an incorrect keyword."
   ]
  },
  {
   "cell_type": "code",
   "execution_count": 2,
   "id": "4e444aba-7597-4002-a8f0-3295d35b7e7b",
   "metadata": {},
   "outputs": [
    {
     "ename": "ZeroDivisionError",
     "evalue": "division by zero",
     "output_type": "error",
     "traceback": [
      "\u001b[0;31m---------------------------------------------------------------------------\u001b[0m",
      "\u001b[0;31mZeroDivisionError\u001b[0m                         Traceback (most recent call last)",
      "Cell \u001b[0;32mIn[2], line 14\u001b[0m\n\u001b[1;32m     11\u001b[0m     \u001b[38;5;28;01mreturn\u001b[39;00m result\n\u001b[1;32m     13\u001b[0m \u001b[38;5;66;03m# Triggering an exception by dividing by zero\u001b[39;00m\n\u001b[0;32m---> 14\u001b[0m result \u001b[38;5;241m=\u001b[39m \u001b[43mdivide_numbers\u001b[49m\u001b[43m(\u001b[49m\u001b[38;5;241;43m5\u001b[39;49m\u001b[43m,\u001b[49m\u001b[43m \u001b[49m\u001b[38;5;241;43m0\u001b[39;49m\u001b[43m)\u001b[49m\n\u001b[1;32m     16\u001b[0m \u001b[38;5;66;03m# The program will terminate with an unhandled exception message\u001b[39;00m\n\u001b[1;32m     17\u001b[0m \u001b[38;5;28mprint\u001b[39m(\u001b[38;5;124m\"\u001b[39m\u001b[38;5;124mResult:\u001b[39m\u001b[38;5;124m\"\u001b[39m, result)\n",
      "Cell \u001b[0;32mIn[2], line 10\u001b[0m, in \u001b[0;36mdivide_numbers\u001b[0;34m(a, b)\u001b[0m\n\u001b[1;32m      9\u001b[0m \u001b[38;5;28;01mdef\u001b[39;00m \u001b[38;5;21mdivide_numbers\u001b[39m(a, b):\n\u001b[0;32m---> 10\u001b[0m     result \u001b[38;5;241m=\u001b[39m \u001b[43ma\u001b[49m\u001b[43m \u001b[49m\u001b[38;5;241;43m/\u001b[39;49m\u001b[43m \u001b[49m\u001b[43mb\u001b[49m\n\u001b[1;32m     11\u001b[0m     \u001b[38;5;28;01mreturn\u001b[39;00m result\n",
      "\u001b[0;31mZeroDivisionError\u001b[0m: division by zero"
     ]
    }
   ],
   "source": [
    "# Q2 what happens when an exception is not handled ? explain with an example\n",
    "\n",
    "# When an exception is not handled in a Python program, it leads to the termination of the program and an error message is displayed, providing \n",
    "# information about the unhandled exception. This abrupt termination without proper handling can be undesirable, especially in production environments, \n",
    "# as it may leave the program in an inconsistent state or fail to provide users with a graceful way to deal with unexpected issues\n",
    "\n",
    "# Example: Division by zero without handling the exception\n",
    "\n",
    "def divide_numbers(a, b):\n",
    "    result = a / b\n",
    "    return result\n",
    "\n",
    "# Triggering an exception by dividing by zero\n",
    "result = divide_numbers(5, 0)\n",
    "\n",
    "# The program will terminate with an unhandled exception message\n",
    "print(\"Result:\", result)\n"
   ]
  },
  {
   "cell_type": "code",
   "execution_count": 1,
   "id": "4e42cfff-5db5-4500-9ca4-75dc270ce076",
   "metadata": {},
   "outputs": [],
   "source": [
    "# Q3 Which python statements are used to catch and handle exceptions ? Explain with an example.\n",
    "\n",
    "# In Python, the try, except, else, and finally statements are used to catch and handle exceptions. Here's a brief explanation of each:\n",
    "\n",
    "# try: The block of code where you anticipate an exception.\n",
    "\n",
    "# except: This block of code is executed if any exception occurs in the preceding try block. You can specify the type of exception to catch, \n",
    "# or use a general except block to catch any exception.\n",
    "\n",
    "# else: This block of code is executed if no exceptions are raised in the try block.\n",
    "\n",
    "# finally: This block of code is always executed, regardless of whether an exception occurred or not. It is often used for cleanup operations\n",
    "\n",
    "\n"
   ]
  },
  {
   "cell_type": "code",
   "execution_count": 2,
   "id": "c58c2127-2345-4706-920f-cde70d3fccf4",
   "metadata": {},
   "outputs": [
    {
     "name": "stdin",
     "output_type": "stream",
     "text": [
      "Enter a number:  23\n"
     ]
    },
    {
     "name": "stdout",
     "output_type": "stream",
     "text": [
      "Division result: 0.43478260869565216\n",
      "Finally block executed.\n"
     ]
    }
   ],
   "source": [
    "try:\n",
    "    # Code that might raise an exception\n",
    "    x = int(input(\"Enter a number: \"))\n",
    "    result = 10 / x\n",
    "except ValueError:\n",
    "    # Handle the exception if the user enters a non-integer\n",
    "    print(\"Invalid input. Please enter a valid integer.\")\n",
    "except ZeroDivisionError:\n",
    "    # Handle the exception if the user enters 0 as the divisor\n",
    "    print(\"Cannot divide by zero.\")\n",
    "else:\n",
    "    # Executed if no exceptions occurred in the try block\n",
    "    print(\"Division result:\", result)\n",
    "finally:\n",
    "    # This block is always executed, regardless of exceptions\n",
    "    print(\"Finally block executed.\")\n"
   ]
  },
  {
   "cell_type": "code",
   "execution_count": 3,
   "id": "ffedd4aa-f1bf-4afa-b336-78db0dd9a19f",
   "metadata": {},
   "outputs": [
    {
     "name": "stdout",
     "output_type": "stream",
     "text": [
      "Example 1:\n",
      "Division result: 5.0\n",
      "Finally block executed.\n",
      "\n",
      "Example 2:\n",
      "Custom Error: Cannot divide by zero.\n",
      "Finally block executed.\n"
     ]
    }
   ],
   "source": [
    "# Q4 Explain with an example: \n",
    "#     a)try and else\n",
    "#     b)finally \n",
    "#     c)raise\n",
    "\n",
    "class CustomError(Exception):\n",
    "    def __init__(self, message):\n",
    "        super().__init__(message)\n",
    "\n",
    "def divide_numbers(a, b):\n",
    "    try:\n",
    "        if b == 0:\n",
    "            raise CustomError(\"Cannot divide by zero.\")\n",
    "        result = a / b\n",
    "\n",
    "    except CustomError as ce:\n",
    "        print(f\"Custom Error: {ce}\")\n",
    "\n",
    "    else:\n",
    "        print(\"Division result:\", result)\n",
    "\n",
    "    finally:\n",
    "        print(\"Finally block executed.\")\n",
    "\n",
    "# Example 1: Valid division\n",
    "print(\"Example 1:\")\n",
    "divide_numbers(10, 2)\n",
    "\n",
    "# Example 2: Division by zero\n",
    "print(\"\\nExample 2:\")\n",
    "divide_numbers(10, 0)\n"
   ]
  },
  {
   "cell_type": "code",
   "execution_count": 4,
   "id": "fa82fd15-b2c3-4099-b0a9-36fd2c8cb5e9",
   "metadata": {},
   "outputs": [],
   "source": [
    "# Q5 What are Custom Exceptions in python ? Why do we need Custom Exceptions ? Explain with an example\n",
    "\n",
    "# Custom exceptions in Python are user-defined exception classes that allow developers to create their own specific types of exceptions. \n",
    "# While Python provides a variety of built-in exceptions, there are cases where a programmer might want to define their own exception classes to \n",
    "# represent specific error conditions in their code. This provides a way to structure and handle errors in a more meaningful and organized manner.\n",
    "\n",
    "# Here are a few reasons why custom exceptions are useful:\n",
    "\n",
    "# 1)Clarity and Readability: Custom exceptions make the code more readable and self-documenting. \n",
    "# By creating specific exception classes, developers can convey the intent and nature of the error more clearly.\n",
    "\n",
    "# 2)Granular Error Handling: Custom exceptions allow for more granular error handling. Instead of catching a broad exception type, such as Exception or \n",
    "# ValueError, developers can catch specific custom exceptions, enabling them to handle different error scenarios in distinct ways.\n",
    "\n",
    "# 3)Modularity: Custom exceptions contribute to the modularity of the code. They encapsulate error-handling logic related to a specific module or \n",
    "# functionality, making it easier to manage and maintain."
   ]
  },
  {
   "cell_type": "code",
   "execution_count": 5,
   "id": "5dc9ca8d-3c83-4f7d-a848-3a74b28bcd30",
   "metadata": {},
   "outputs": [
    {
     "name": "stdout",
     "output_type": "stream",
     "text": [
      "Error: Insufficient funds. Current balance: 1000, Withdrawal amount: 1500\n"
     ]
    }
   ],
   "source": [
    "class WithdrawalError(Exception):\n",
    "    def __init__(self, balance, amount):\n",
    "        self.balance = balance\n",
    "        self.amount = amount\n",
    "        super().__init__(f\"Insufficient funds. Current balance: {balance}, Withdrawal amount: {amount}\")\n",
    "\n",
    "def withdraw(balance, amount):\n",
    "    if amount > balance:\n",
    "        raise WithdrawalError(balance, amount)\n",
    "    else:\n",
    "        new_balance = balance - amount\n",
    "        print(f\"Withdrawal successful. New balance: {new_balance}\")\n",
    "\n",
    "# Example usage\n",
    "try:\n",
    "    account_balance = 1000\n",
    "    withdrawal_amount = 1500\n",
    "    withdraw(account_balance, withdrawal_amount)\n",
    "\n",
    "except WithdrawalError as we:\n",
    "    print(f\"Error: {we}\")\n"
   ]
  },
  {
   "cell_type": "code",
   "execution_count": 6,
   "id": "3d5fa819-6abb-4475-b93a-4a09cc78ba0a",
   "metadata": {},
   "outputs": [],
   "source": [
    "# Q6 Create a custom exception class .Use this class to handle an exception"
   ]
  },
  {
   "cell_type": "code",
   "execution_count": 8,
   "id": "4d79ae0a-6f58-4eb0-9a85-9a2c552bab2d",
   "metadata": {},
   "outputs": [
    {
     "name": "stdin",
     "output_type": "stream",
     "text": [
      "Enter a numeric value:  d\n"
     ]
    },
    {
     "name": "stdout",
     "output_type": "stream",
     "text": [
      "Error: Invalid input: d. Please provide a valid input.\n"
     ]
    }
   ],
   "source": [
    "class CustomInputError(Exception):\n",
    "    def __init__(self, input_value):\n",
    "        self.input_value = input_value\n",
    "        super().__init__(f\"Invalid input: {input_value}. Please provide a valid input.\")\n",
    "\n",
    "def process_input(input_value):\n",
    "    if not input_value.isdigit():\n",
    "        raise CustomInputError(input_value)\n",
    "    else:\n",
    "        print(f\"Processing input: {input_value}\")\n",
    "\n",
    "# Example usage\n",
    "try:\n",
    "    user_input = input(\"Enter a numeric value: \")\n",
    "    process_input(user_input)\n",
    "\n",
    "except CustomInputError as cie:\n",
    "    print(f\"Error: {cie}\")\n"
   ]
  },
  {
   "cell_type": "code",
   "execution_count": null,
   "id": "4ae6a049-a4d1-4a3c-9719-1aa7b73a65e9",
   "metadata": {},
   "outputs": [],
   "source": []
  }
 ],
 "metadata": {
  "kernelspec": {
   "display_name": "Python 3 (ipykernel)",
   "language": "python",
   "name": "python3"
  },
  "language_info": {
   "codemirror_mode": {
    "name": "ipython",
    "version": 3
   },
   "file_extension": ".py",
   "mimetype": "text/x-python",
   "name": "python",
   "nbconvert_exporter": "python",
   "pygments_lexer": "ipython3",
   "version": "3.10.8"
  }
 },
 "nbformat": 4,
 "nbformat_minor": 5
}
