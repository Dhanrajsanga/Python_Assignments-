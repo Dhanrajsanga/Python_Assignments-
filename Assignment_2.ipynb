{
 "cells": [
  {
   "cell_type": "code",
   "execution_count": 1,
   "id": "d78be54c-e5af-46e6-bf2a-f62a642657c3",
   "metadata": {},
   "outputs": [],
   "source": [
    "# Q1Q2. What are variables in Python? How do you declare and assign values to variables?. How do you comment code in Python? What are the different types of comments?\n",
    "\n",
    "# In Python, you can comment your code to make it more readable and to provide explanatory notes. \n",
    "# There are two common ways to comment code in Python:\n",
    "\n",
    "# Single-line comments: To create a single-line comment, you can use the hash symbol (#) followed by the comment text.\n",
    "# Anything written after the hash symbol on the same line is considered a comment and is ignored by the Python interpreter. For example:"
   ]
  },
  {
   "cell_type": "code",
   "execution_count": 2,
   "id": "4a26775e-9fa7-475d-87ac-1435035ef694",
   "metadata": {},
   "outputs": [],
   "source": [
    "# This is a single-line comment"
   ]
  },
  {
   "cell_type": "code",
   "execution_count": 4,
   "id": "78ca8641-a368-48d8-883d-9a9f2ba8a357",
   "metadata": {},
   "outputs": [],
   "source": [
    "# Multi-line comments: Python does not have a specific syntax for multi-line comments like some other programming languages. \n",
    "# However, you can achieve a similar effect by using triple quotes \n",
    "# (''' or \"\"\") to enclose multiple lines of text. This is often used for longer explanations or documentation. For example:"
   ]
  },
  {
   "cell_type": "code",
   "execution_count": 5,
   "id": "bee88811-ff94-4b89-aff8-f8bb9483806d",
   "metadata": {},
   "outputs": [
    {
     "data": {
      "text/plain": [
       "'\\nThis is a multi-line comment.\\nIt can span multiple lines and is enclosed by triple quotes.\\n'"
      ]
     },
     "execution_count": 5,
     "metadata": {},
     "output_type": "execute_result"
    }
   ],
   "source": [
    "'''\n",
    "This is a multi-line comment.\n",
    "It can span multiple lines and is enclosed by triple quotes.\n",
    "'''"
   ]
  },
  {
   "cell_type": "code",
   "execution_count": 6,
   "id": "3c6a29b9-f54f-40ac-8bc7-cbb418542036",
   "metadata": {},
   "outputs": [],
   "source": [
    "# In addition to these types of comments, you can also use inline comments. \n",
    "# Inline comments are short comments that are placed on the same line as the code and provide additional context or explanation for that specific line. \n",
    "# Inline comments are usually preceded by a space or a tab and a hash symbol. For example:"
   ]
  },
  {
   "cell_type": "code",
   "execution_count": 7,
   "id": "b54265a8-89bc-4503-ac29-14e32e6cb22b",
   "metadata": {},
   "outputs": [],
   "source": [
    "x = 5  # Assigning the value 5 to the variable x"
   ]
  },
  {
   "cell_type": "code",
   "execution_count": 8,
   "id": "c8397746-e63a-41a1-9cef-d163d526e073",
   "metadata": {},
   "outputs": [],
   "source": [
    "# Q2. What are variables in Python? How do you declare and assign values to variables?"
   ]
  },
  {
   "cell_type": "code",
   "execution_count": 9,
   "id": "a9cb4984-ef04-4d1a-a99d-0d7f289c5623",
   "metadata": {},
   "outputs": [],
   "source": [
    "# In Python, variables are used to store and manipulate data. \n",
    "# They act as named containers that hold values, allowing you to refer to those values by the variable name. \n",
    "# You can assign different types of data to variables, such as numbers, strings, lists, or even more complex objects."
   ]
  },
  {
   "cell_type": "code",
   "execution_count": 11,
   "id": "f6f438b8-bab3-4e54-b2ba-3182ad12bd21",
   "metadata": {},
   "outputs": [],
   "source": [
    "# To declare a variable in Python, you simply choose a name for the variable and use the assignment operator (=) to assign a value to it. \n",
    "# The general syntax is:\n"
   ]
  },
  {
   "cell_type": "code",
   "execution_count": 13,
   "id": "d633245c-ec1f-44d6-8d6f-7511fd47a896",
   "metadata": {},
   "outputs": [],
   "source": [
    "# variable_name = value"
   ]
  },
  {
   "cell_type": "code",
   "execution_count": 14,
   "id": "6a12a384-58da-4741-a485-ba5bcaa5e000",
   "metadata": {},
   "outputs": [],
   "source": [
    "# Here's an example of declaring and assigning values to variables:\n",
    "x = 10       # Assigning the integer value 10 to the variable x\n",
    "name = \"John\"   # Assigning the string \"John\" to the variable name\n",
    "pi = 3.14    # Assigning the float value 3.14 to the variable pi\n"
   ]
  },
  {
   "cell_type": "code",
   "execution_count": 15,
   "id": "3c46a5c7-0edc-45e9-9ab6-502cdd8c0bac",
   "metadata": {},
   "outputs": [],
   "source": [
    "# Q3. How do you convert one data type to another in Python?\n"
   ]
  },
  {
   "cell_type": "code",
   "execution_count": 17,
   "id": "83d10f1b-449f-463d-bbd4-d8dc9fc752fa",
   "metadata": {},
   "outputs": [],
   "source": [
    "# 1)Explicit Type Conversion (Type Casting):\n",
    "# You can use the built-in functions like int(), float(), str(), list(), tuple(), and dict() to explicitly convert values from one type to another. \n",
    "# Here are some examples:\n",
    "\n",
    "x = 5\n",
    "y = str(x)       # Convert integer to string\n",
    "z = float(\"3.14\")  # Convert string to float\n",
    "a = list(\"hello\")  # Convert string to list\n",
    "\n",
    "# 2)Implicit Type Conversion (Automatic Type Conversion):\n",
    "# Python automatically performs implicit type conversion in certain situations when you combine values of different types in expressions.\n",
    "# For example, when you add an integer and a float, Python will convert the integer to a float and perform the addition. Here's an example:\n",
    "\n",
    "x = 5\n",
    "y = 3.14\n",
    "z = x + y   # Implicit conversion of integer to float, result is a float\n",
    "\n",
    "# 3)Using Specific Methods:\n",
    "# Some data types have specific methods to convert them to other types. \n",
    "# For example, the int() function can be used with a string argument to convert it to an integer. \n",
    "# Similarly, the str() method can be used with numeric or other data types to convert them to a string. Here's an example:\n",
    "\n",
    "x = \"10\"\n",
    "y = int(x)    # Convert string to integer\n",
    "\n",
    "a = 5\n",
    "b = str(a)    # Convert integer to string\n",
    "\n",
    "# Using the format() method:\n",
    "# The format() method of strings allows you to convert values to strings with specific formatting. \n",
    "# It provides a flexible way to convert different data types to strings. Here's an example:\n",
    "\n",
    "\n",
    "x = 3.14159\n",
    "y = \"The value of pi is {:.2f}\".format(x)   # Convert float to formatted"
   ]
  },
  {
   "cell_type": "code",
   "execution_count": 18,
   "id": "99376739-219e-4e32-95b0-c1b17f42ca1f",
   "metadata": {},
   "outputs": [],
   "source": [
    "# Q4. How do you write and execute a Python script from the command line?"
   ]
  },
  {
   "cell_type": "code",
   "execution_count": 19,
   "id": "1df1e6cc-7cba-4336-a24f-118344d647b6",
   "metadata": {},
   "outputs": [
    {
     "name": "stdout",
     "output_type": "stream",
     "text": [
      "Hello, World!\n",
      "The sum of x and y is: 8\n"
     ]
    }
   ],
   "source": [
    "# To write and execute a Python script from the command line, you can follow these steps:\n",
    "\n",
    "# 1)Open a text editor or an integrated development environment (IDE) to write your Python script.\n",
    "# Create a new file and save it with a .py extension, for example, script.py. The .py extension indicates that the file contains Python code.\n",
    "\n",
    "# 2)Write your Python code in the file. You can include any valid Python code, such as variable declarations, functions, classes, and \n",
    "# executable statements.\n",
    "# script.py\n",
    "print(\"Hello, World!\")\n",
    "x = 5\n",
    "y = 3\n",
    "z = x + y\n",
    "print(\"The sum of x and y is:\", z)\n",
    "# 3)Save the file with the changes.\n",
    "\n",
    "# 4)Open the command prompt or terminal on your computer. \n",
    "# Navigate to the directory where you saved the Python script using the cd command (e.g., cd /path/to/script).\n",
    "\n",
    "# 5)Once you are in the correct directory, you can execute the Python script by typing python followed by the name of the script file.\n",
    "# python script.py\n",
    "\n",
    "# 6)Press the Enter key to run the command. \n",
    "# The Python interpreter will execute the script, and you should see the output in the command prompt or terminal.\n",
    "# Hello, World!\n",
    "# The sum of x and y is: 8\n"
   ]
  },
  {
   "cell_type": "code",
   "execution_count": 20,
   "id": "7b6e71c2-d0fd-481d-ae29-2628237f09d1",
   "metadata": {},
   "outputs": [],
   "source": [
    "# Q5. Given a list my_list = [1, 2, 3, 4, 5], write the code to slice the list and obtain the sub-list [2, 3]."
   ]
  },
  {
   "cell_type": "code",
   "execution_count": 21,
   "id": "cffde8a4-b8fb-4738-b9c4-ad2053e3ac09",
   "metadata": {},
   "outputs": [
    {
     "name": "stdout",
     "output_type": "stream",
     "text": [
      "[2, 3]\n"
     ]
    }
   ],
   "source": [
    "my_list = [1, 2, 3, 4, 5]\n",
    "sub_list = my_list[1:3]\n",
    "print(sub_list)\n"
   ]
  },
  {
   "cell_type": "code",
   "execution_count": 22,
   "id": "4108c63e-b914-48ac-ab8b-99ba1f7e6fa9",
   "metadata": {},
   "outputs": [],
   "source": [
    "# Q6. What is a complex number in mathematics, and how is it represented in Python?"
   ]
  },
  {
   "cell_type": "code",
   "execution_count": 23,
   "id": "495003e2-1e85-47cd-99b1-436713ab6c14",
   "metadata": {},
   "outputs": [],
   "source": [
    "# In mathematics, a complex number is a number that comprises both a real part and an imaginary part. \n",
    "# It is represented in the form \"a + bi,\" where \"a\" represents the real part, \"b\" represents the imaginary part, \n",
    "# and \"i\" represents the imaginary unit (√-1). \n",
    "# The real part represents the horizontal component on the complex plane, while the imaginary part represents the vertical component.\n",
    "\n",
    "# In Python, complex numbers are supported as a built-in data type. \n",
    "# They are represented by using the syntax a + bj, where \"a\" represents the real part, \"b\" represents the imaginary part, \n",
    "# and \"j\" represents the imaginary unit (similar to \"i\" in mathematics). Here are a few examples of complex number representation in Python:"
   ]
  },
  {
   "cell_type": "code",
   "execution_count": 24,
   "id": "ecf506b0-ef78-4db1-8f09-41723ff4b595",
   "metadata": {},
   "outputs": [],
   "source": [
    "z1 = 3 + 4j     # complex number with real part 3 and imaginary part 4\n",
    "z2 = -2j        # complex number with real part 0 and imaginary part -2\n",
    "z3 = 5.2 - 1j   # complex number with real part 5.2 and imaginary part -1\n"
   ]
  },
  {
   "cell_type": "code",
   "execution_count": 28,
   "id": "252bd395-61df-4f78-b70b-69bc46d20208",
   "metadata": {},
   "outputs": [
    {
     "name": "stdout",
     "output_type": "stream",
     "text": [
      "(5+3j)\n",
      "(1+5j)\n",
      "(10+5j)\n",
      "(0.4+2.2j)\n"
     ]
    }
   ],
   "source": [
    "z1 = 3 + 4j\n",
    "z2 = 2 - 1j\n",
    "result_add = z1 + z2\n",
    "result_sub = z1 - z2\n",
    "result_mul = z1 * z2\n",
    "result_div = z1 / z2\n",
    "# Addition\n",
    "print(result_add)    # Result: (5 + 3j)\n",
    "\n",
    "# Subtraction\n",
    "print(result_sub)    # Result: (1 + 5j)\n",
    "\n",
    "# Multiplication\n",
    "print(result_mul)    # Result: (10 + 5j)\n",
    "\n",
    "# Division\n",
    "print(result_div)    # Result: (0.4 + 2.2j)\n"
   ]
  },
  {
   "cell_type": "code",
   "execution_count": 29,
   "id": "826a8c6d-8b46-4349-be79-fec6db7a97bf",
   "metadata": {},
   "outputs": [],
   "source": [
    "# Q7. What is the correct way to declare a variable named age and assign the value 25 to it?"
   ]
  },
  {
   "cell_type": "code",
   "execution_count": 30,
   "id": "5f55ca05-a26b-4fab-b5a9-61207529ada9",
   "metadata": {},
   "outputs": [],
   "source": [
    "age = 25\n"
   ]
  },
  {
   "cell_type": "code",
   "execution_count": 31,
   "id": "bb74d261-7359-41d3-bc4d-8436a2553c69",
   "metadata": {},
   "outputs": [],
   "source": [
    "# Q8. Declare a variable named price and assign the value 9.99 to it. What data type does this variable\n",
    "# belong to?"
   ]
  },
  {
   "cell_type": "code",
   "execution_count": 32,
   "id": "2f700349-0da9-48af-9522-af430c6379db",
   "metadata": {},
   "outputs": [
    {
     "data": {
      "text/plain": [
       "float"
      ]
     },
     "execution_count": 32,
     "metadata": {},
     "output_type": "execute_result"
    }
   ],
   "source": [
    "price = 9.99\n",
    "type(price)\n"
   ]
  },
  {
   "cell_type": "code",
   "execution_count": 33,
   "id": "5ddf02b7-07e8-48c0-a85a-259c721476f8",
   "metadata": {},
   "outputs": [],
   "source": [
    "# Q9. Create a variable named name and assign your full name to it as a string. How would you print the\n",
    "# value of this variable?"
   ]
  },
  {
   "cell_type": "code",
   "execution_count": 34,
   "id": "90a1707a-de9a-4682-96e9-62dd8c926934",
   "metadata": {},
   "outputs": [],
   "source": [
    "name = \"Your Full Name\"\n"
   ]
  },
  {
   "cell_type": "code",
   "execution_count": 35,
   "id": "d9033dfa-dd99-4eb7-8fd2-0bbba8f6823c",
   "metadata": {},
   "outputs": [
    {
     "name": "stdout",
     "output_type": "stream",
     "text": [
      "Your Full Name\n"
     ]
    }
   ],
   "source": [
    "print(name)\n"
   ]
  },
  {
   "cell_type": "code",
   "execution_count": 36,
   "id": "e778c64c-f63a-40e7-9120-2795d97144b4",
   "metadata": {},
   "outputs": [],
   "source": [
    "# Q10. Given the string \"Hello, World!\", extract the substring \"World\"."
   ]
  },
  {
   "cell_type": "code",
   "execution_count": 37,
   "id": "d1dcceee-154b-4912-bfcb-1dbbd35f2b45",
   "metadata": {},
   "outputs": [
    {
     "name": "stdout",
     "output_type": "stream",
     "text": [
      "World\n"
     ]
    }
   ],
   "source": [
    "string = \"Hello, World!\"\n",
    "substring = string[7:12]\n",
    "print(substring)\n"
   ]
  },
  {
   "cell_type": "code",
   "execution_count": 38,
   "id": "eb8b545d-ff38-4e6a-93a2-e6d136b03a18",
   "metadata": {},
   "outputs": [],
   "source": [
    "# Q11. Create a variable named \"is_student\" and assign it a boolean value indicating whether you are\n",
    "# currently a student or not."
   ]
  },
  {
   "cell_type": "code",
   "execution_count": 39,
   "id": "3dc139da-f2f6-4cb2-b154-122261c2a452",
   "metadata": {},
   "outputs": [
    {
     "name": "stdout",
     "output_type": "stream",
     "text": [
      "True\n"
     ]
    }
   ],
   "source": [
    "is_student = True\n",
    "print(is_student)\n"
   ]
  },
  {
   "cell_type": "code",
   "execution_count": null,
   "id": "d685fd41-ab7e-42bc-963f-f2dbf1825776",
   "metadata": {},
   "outputs": [],
   "source": []
  }
 ],
 "metadata": {
  "kernelspec": {
   "display_name": "Python 3 (ipykernel)",
   "language": "python",
   "name": "python3"
  },
  "language_info": {
   "codemirror_mode": {
    "name": "ipython",
    "version": 3
   },
   "file_extension": ".py",
   "mimetype": "text/x-python",
   "name": "python",
   "nbconvert_exporter": "python",
   "pygments_lexer": "ipython3",
   "version": "3.10.8"
  }
 },
 "nbformat": 4,
 "nbformat_minor": 5
}
