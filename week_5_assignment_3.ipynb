{
 "cells": [
  {
   "cell_type": "code",
   "execution_count": 1,
   "id": "6e07f7a0-9701-42db-8934-7d0a09daa451",
   "metadata": {},
   "outputs": [],
   "source": [
    "# Q1) What is multithreading in python? why is it used? Name the module used to handle threads in python"
   ]
  },
  {
   "cell_type": "code",
   "execution_count": 2,
   "id": "cc2edb80-2d39-4284-abd2-8b9d52d10ac8",
   "metadata": {},
   "outputs": [],
   "source": [
    "# Multithreading in Python refers to the concurrent execution of threads within the same process. A thread is the smallest unit of execution in a \n",
    "# process and multithreading allows multiple threads to run concurrently, enabling parallelism. In Python, multithreading is primarily used for tasks \n",
    "# that can be parallelized, such as I/O-bound operations, where threads can perform tasks concurrently without waiting for each other."
   ]
  },
  {
   "cell_type": "code",
   "execution_count": 3,
   "id": "362f3520-1fd7-4125-88e6-fc3ea03ca84b",
   "metadata": {},
   "outputs": [],
   "source": [
    "# Why Multithreading is Used:\n",
    "\n",
    "# Concurrency: Multithreading enables concurrent execution, allowing multiple threads to run simultaneously. This is beneficial for improving the \n",
    "# overall efficiency of programs, especially when dealing with I/O-bound operations.\n",
    "\n",
    "# Responsiveness: For applications that involve user interfaces or continuous data processing, multithreading can help maintain responsiveness. While \n",
    "# one thread is busy with a task, others can respond to user input or handle other operations.\n",
    "\n",
    "# Resource Sharing: Threads within the same process share the same memory space, making it easier to share data between them. This can lead to more \n",
    "# efficient communication and data exchange.\n",
    "\n",
    "# Parallelism: Although Python's Global Interpreter Lock (GIL) limits true parallelism in CPU-bound tasks, multithreading can still be useful for \n",
    "# certain scenarios, such as managing concurrent I/O operations."
   ]
  },
  {
   "cell_type": "code",
   "execution_count": 4,
   "id": "c405ac3c-7987-429b-8974-9dba7f1afe7d",
   "metadata": {},
   "outputs": [],
   "source": [
    "# Module for Handling Threads in Python:The primary module for handling threads in Python is the threading module. \n",
    "# This module provides a way to create, manage, and synchronize threads. Key classes in the threading module include Thread for creating threads and \n",
    "# Lock for managing thread synchronization."
   ]
  },
  {
   "cell_type": "code",
   "execution_count": 5,
   "id": "b170abe5-9bfb-4ce7-bdba-2ac3218ef264",
   "metadata": {},
   "outputs": [
    {
     "name": "stdout",
     "output_type": "stream",
     "text": [
      "A\n",
      "0\n",
      "B\n",
      "1\n",
      "C\n",
      "2\n",
      "D\n",
      "3\n",
      "E\n",
      "4\n",
      "Both threads have finished.\n"
     ]
    }
   ],
   "source": [
    "import threading\n",
    "import time\n",
    "\n",
    "def print_numbers():\n",
    "    for i in range(5):\n",
    "        time.sleep(1)\n",
    "        print(i)\n",
    "\n",
    "def print_letters():\n",
    "    for letter in 'ABCDE':\n",
    "        time.sleep(1)\n",
    "        print(letter)\n",
    "\n",
    "# Create two threads\n",
    "thread1 = threading.Thread(target=print_numbers)\n",
    "thread2 = threading.Thread(target=print_letters)\n",
    "\n",
    "# Start the threads\n",
    "thread1.start()\n",
    "thread2.start()\n",
    "\n",
    "# Wait for both threads to finish\n",
    "thread1.join()\n",
    "thread2.join()\n",
    "\n",
    "print(\"Both threads have finished.\")\n"
   ]
  },
  {
   "cell_type": "code",
   "execution_count": 6,
   "id": "6cee45bb-41bb-49a8-8cf6-d79e2fe5075f",
   "metadata": {},
   "outputs": [],
   "source": [
    "# Q2) Why threading module used? rite the use of the following functions:\n",
    "# 1)activeCount()\n",
    "#  2)currentThread()\n",
    "#  3)enumerate()"
   ]
  },
  {
   "cell_type": "code",
   "execution_count": 7,
   "id": "7ac36acc-4af4-4f49-9015-78516a92825c",
   "metadata": {},
   "outputs": [],
   "source": [
    "# Threading Module in Python:\n",
    "\n",
    "# The threading module in Python provides a way to create and manage threads within a program. It is used for concurrent execution, allowing \n",
    "# multiple threads to run in the same process. The module includes classes and functions to work with threads, manage synchronization, and handle \n",
    "# other threading-related operations."
   ]
  },
  {
   "cell_type": "code",
   "execution_count": 10,
   "id": "887cf7fb-f124-4e2e-a615-f082e426fb31",
   "metadata": {},
   "outputs": [
    {
     "name": "stdout",
     "output_type": "stream",
     "text": [
      "Executing my_function.\n",
      "Executing my_function.\n",
      "Number of active threads: 8\n"
     ]
    },
    {
     "name": "stderr",
     "output_type": "stream",
     "text": [
      "/tmp/ipykernel_1644/3338586830.py:20: DeprecationWarning: activeCount() is deprecated, use active_count() instead\n",
      "  print(f\"Number of active threads: {threading.activeCount()}\")\n"
     ]
    }
   ],
   "source": [
    "# 1)activeCount() Function:\n",
    "# Use:\n",
    "# The activeCount() function is used to get the number of Thread objects currently alive. It returns the total number of Thread objects that \n",
    "# are currently running\n",
    "\n",
    "import threading\n",
    "\n",
    "def my_function():\n",
    "    print(\"Executing my_function.\")\n",
    "\n",
    "# Create two threads\n",
    "thread1 = threading.Thread(target=my_function)\n",
    "thread2 = threading.Thread(target=my_function)\n",
    "\n",
    "# Start the threads\n",
    "thread1.start()\n",
    "thread2.start()\n",
    "\n",
    "# Print the number of active threads\n",
    "print(f\"Number of active threads: {threading.activeCount()}\")\n"
   ]
  },
  {
   "cell_type": "code",
   "execution_count": 11,
   "id": "b2eebad5-a9bd-4b82-ad4c-a765b0f225e7",
   "metadata": {},
   "outputs": [
    {
     "name": "stdout",
     "output_type": "stream",
     "text": [
      "Executing my_function in thread: CustomThread\n"
     ]
    },
    {
     "name": "stderr",
     "output_type": "stream",
     "text": [
      "/tmp/ipykernel_1644/1355508204.py:9: DeprecationWarning: currentThread() is deprecated, use current_thread() instead\n",
      "  current_thread = threading.currentThread()\n"
     ]
    }
   ],
   "source": [
    "# 2)currentThread() Function:\n",
    "# Use:\n",
    "# The currentThread() function returns the current Thread object, corresponding to the caller's thread of control. It is often used to obtain \n",
    "# information about the currently executing thread.\n",
    "\n",
    "import threading\n",
    "\n",
    "def my_function():\n",
    "    current_thread = threading.currentThread()\n",
    "    print(f\"Executing my_function in thread: {current_thread.name}\")\n",
    "\n",
    "# Create a thread with a custom name\n",
    "thread1 = threading.Thread(target=my_function, name=\"CustomThread\")\n",
    "\n",
    "# Start the thread\n",
    "thread1.start()\n"
   ]
  },
  {
   "cell_type": "code",
   "execution_count": 14,
   "id": "7788f406-7e4e-4f1e-b384-208e36d3aa02",
   "metadata": {},
   "outputs": [],
   "source": [
    "# 3)enumerate() Function:\n",
    "# Use:\n",
    "# The enumerate() function returns a list of all Thread objects currently alive. Each Thread object is listed in the order they were created. \n",
    "# This is useful for obtaining a list of all active threads."
   ]
  },
  {
   "cell_type": "code",
   "execution_count": 13,
   "id": "e5c45a49-229f-45ef-91cc-726869f99ebb",
   "metadata": {},
   "outputs": [
    {
     "name": "stdout",
     "output_type": "stream",
     "text": [
      "Executing my_function.\n",
      "Executing my_function.\n",
      "Thread name: MainThread, Thread ID: 140094308812608\n",
      "Thread name: IOPub, Thread ID: 140094238283328\n",
      "Thread name: Heartbeat, Thread ID: 140094229890624\n",
      "Thread name: Thread-3 (_watch_pipe_fd), Thread ID: 140094204712512\n",
      "Thread name: Thread-4 (_watch_pipe_fd), Thread ID: 140094196319808\n",
      "Thread name: Control, Thread ID: 140093847238208\n",
      "Thread name: IPythonHistorySavingThread, Thread ID: 140093838845504\n",
      "Thread name: Thread-2, Thread ID: 140093830452800\n"
     ]
    }
   ],
   "source": [
    "import threading\n",
    "\n",
    "def my_function():\n",
    "    print(\"Executing my_function.\")\n",
    "\n",
    "# Create two threads\n",
    "thread1 = threading.Thread(target=my_function)\n",
    "thread2 = threading.Thread(target=my_function)\n",
    "\n",
    "# Start the threads\n",
    "thread1.start()\n",
    "thread2.start()\n",
    "\n",
    "# Print information about all active threads\n",
    "for thread in threading.enumerate():\n",
    "    print(f\"Thread name: {thread.name}, Thread ID: {thread.ident}\")\n"
   ]
  },
  {
   "cell_type": "code",
   "execution_count": 17,
   "id": "034f5f82-3498-46c0-900e-5b0cb7d58912",
   "metadata": {},
   "outputs": [],
   "source": [
    "# Q3.Explain the following functions:\n",
    "# 1. run()\n",
    "# 2. start()\n",
    "# 3. join()\n",
    "# 4. isAlive()"
   ]
  },
  {
   "cell_type": "code",
   "execution_count": null,
   "id": "0f5dccb2-1ebb-4adf-9c71-e5a24d71eb7e",
   "metadata": {},
   "outputs": [],
   "source": [
    "# run() Method:\n",
    "# The run() method is the entry point for the thread's activity. When a Thread object is created, the run() method is the code that will be executed\n",
    "# when the thread is started. This method should be overridden in a subclass to define the specific behavior of the thread.\n",
    "\n",
    "# start() Method:\n",
    "# The start() method is used to initiate the execution of the thread. When the start() method is called, it invokes the run() method of the thread in a \n",
    "# separate thread of control. It allows concurrent execution of the code within the run() method.\n",
    "\n",
    "# join() Method:\n",
    "# The join() method is used to wait for the thread to complete its execution before proceeding with the rest of the program. When join() is\n",
    "# called on a thread, the program will wait until the thread finishes execution.\n",
    "\n",
    "# isAlive() Method:\n",
    "# The isAlive() method is used to check whether a thread is still alive or has completed its execution. It returns True if the thread is alive and \n",
    "# False otherwise."
   ]
  },
  {
   "cell_type": "code",
   "execution_count": 19,
   "id": "9546ea23-31e4-4838-9c93-1f2e92cc1322",
   "metadata": {},
   "outputs": [
    {
     "name": "stdout",
     "output_type": "stream",
     "text": [
      "Thread is done.\n"
     ]
    },
    {
     "ename": "AttributeError",
     "evalue": "'Thread' object has no attribute 'isAlive'",
     "output_type": "error",
     "traceback": [
      "\u001b[0;31m---------------------------------------------------------------------------\u001b[0m",
      "\u001b[0;31mAttributeError\u001b[0m                            Traceback (most recent call last)",
      "Cell \u001b[0;32mIn[19], line 23\u001b[0m\n\u001b[1;32m     20\u001b[0m         \u001b[38;5;28mprint\u001b[39m(\u001b[38;5;124m\"\u001b[39m\u001b[38;5;124mThread has completed.\u001b[39m\u001b[38;5;124m\"\u001b[39m)\n\u001b[1;32m     22\u001b[0m \u001b[38;5;66;03m# Call the function to run the thread\u001b[39;00m\n\u001b[0;32m---> 23\u001b[0m \u001b[43mrun_thread\u001b[49m\u001b[43m(\u001b[49m\u001b[43m)\u001b[49m\n",
      "Cell \u001b[0;32mIn[19], line 17\u001b[0m, in \u001b[0;36mrun_thread\u001b[0;34m()\u001b[0m\n\u001b[1;32m     14\u001b[0m my_thread\u001b[38;5;241m.\u001b[39mjoin()\n\u001b[1;32m     16\u001b[0m \u001b[38;5;66;03m# Check if the thread is still alive\u001b[39;00m\n\u001b[0;32m---> 17\u001b[0m \u001b[38;5;28;01mif\u001b[39;00m \u001b[43mmy_thread\u001b[49m\u001b[38;5;241;43m.\u001b[39;49m\u001b[43misAlive\u001b[49m():\n\u001b[1;32m     18\u001b[0m     \u001b[38;5;28mprint\u001b[39m(\u001b[38;5;124m\"\u001b[39m\u001b[38;5;124mThread is still running.\u001b[39m\u001b[38;5;124m\"\u001b[39m)\n\u001b[1;32m     19\u001b[0m \u001b[38;5;28;01melse\u001b[39;00m:\n",
      "\u001b[0;31mAttributeError\u001b[0m: 'Thread' object has no attribute 'isAlive'"
     ]
    }
   ],
   "source": [
    "import threading\n",
    "import time\n",
    "\n",
    "def run_thread():\n",
    "    def my_function():\n",
    "        time.sleep(2)\n",
    "        print(\"Thread is done.\")\n",
    "\n",
    "    # Create and start a thread\n",
    "    my_thread = threading.Thread(target=my_function)\n",
    "    my_thread.start()\n",
    "\n",
    "    # Wait for the thread to finish\n",
    "    my_thread.join()\n",
    "\n",
    "    # Check if the thread is still alive\n",
    "    if my_thread.isAlive():\n",
    "        print(\"Thread is still running.\")\n",
    "    else:\n",
    "        print(\"Thread has completed.\")\n",
    "\n",
    "# Call the function to run the thread\n",
    "run_thread()\n"
   ]
  },
  {
   "cell_type": "code",
   "execution_count": 20,
   "id": "b0fbbcee-f67e-48e0-b4b8-5239e69ab9af",
   "metadata": {},
   "outputs": [],
   "source": [
    "# Q4. Write a python program to create two threads. Thread one must print the list of squares and thread\n",
    "# two must print the list of cubes"
   ]
  },
  {
   "cell_type": "code",
   "execution_count": 21,
   "id": "3568c2d5-b20e-4deb-9e09-d271d3d9bb0e",
   "metadata": {},
   "outputs": [
    {
     "name": "stdout",
     "output_type": "stream",
     "text": [
      "List of Squares: [1, 4, 9, 16, 25]\n",
      "List of Cubes: [1, 8, 27, 64, 125]\n",
      "Both threads have completed.\n"
     ]
    }
   ],
   "source": [
    "import threading\n",
    "\n",
    "def print_squares(numbers):\n",
    "    squares = [num ** 2 for num in numbers]\n",
    "    print(\"List of Squares:\", squares)\n",
    "\n",
    "def print_cubes(numbers):\n",
    "    cubes = [num ** 3 for num in numbers]\n",
    "    print(\"List of Cubes:\", cubes)\n",
    "\n",
    "def main():\n",
    "    numbers = [1, 2, 3, 4, 5]\n",
    "\n",
    "    # Create two threads\n",
    "    thread1 = threading.Thread(target=print_squares, args=(numbers,))\n",
    "    thread2 = threading.Thread(target=print_cubes, args=(numbers,))\n",
    "\n",
    "    # Start the threads\n",
    "    thread1.start()\n",
    "    thread2.start()\n",
    "\n",
    "    # Wait for both threads to finish\n",
    "    thread1.join()\n",
    "    thread2.join()\n",
    "\n",
    "    print(\"Both threads have completed.\")\n",
    "\n",
    "# Run the program\n",
    "main()\n"
   ]
  },
  {
   "cell_type": "code",
   "execution_count": 23,
   "id": "56120548-4e6d-4e8c-8220-8ba9a0c52a97",
   "metadata": {},
   "outputs": [],
   "source": [
    "# Q5. State advantages and disadvantages of multithreading"
   ]
  },
  {
   "cell_type": "code",
   "execution_count": 24,
   "id": "7e9956e9-c309-445f-b55c-3c64033fa25c",
   "metadata": {},
   "outputs": [],
   "source": [
    "# Advantages of Multithreading:\n",
    "\n",
    "# 1.Concurrency: Multithreading allows multiple threads to execute concurrently, making it possible to perform multiple tasks simultaneously. \n",
    "# This is particularly beneficial for applications that require responsiveness and efficient use of resources.\n",
    "\n",
    "# 2.Responsiveness: Multithreading is useful for keeping an application responsive, especially in scenarios where certain tasks, such as user input\n",
    "# processing or background operations, can be executed concurrently with the main thread.\n",
    "\n",
    "# 3.source Sharing: Threads within the same process share the same memory space, allowing for efficient communication and data sharing. This can \n",
    "# simplify the development of certain types of applications.\n",
    "\n",
    "# 4.Parallelism for I/O-Bound Tasks: In I/O-bound operations, where threads spend time waiting for external resources (such as reading from or writing \n",
    "#                                                                                                                    to files, network operations, etc.)\n",
    "# , multithreading can enhance performance by allowing other threads to execute during wait times.\n",
    "\n",
    "# 5.Modularity: Multithreading facilitates the design of modular and scalable systems. Different aspects of a program can be divided into separate \n",
    "# threads, making it easier to manage and maintain the code"
   ]
  },
  {
   "cell_type": "code",
   "execution_count": 25,
   "id": "894c4aad-aa72-42b5-ae57-d94a06190c49",
   "metadata": {},
   "outputs": [],
   "source": [
    "# Disadvantages of Multithreading:\n",
    "\n",
    "# 1.Complexity: Multithreading introduces complexity to the code. Synchronization and coordination between threads must be carefully managed to avoid \n",
    "# issues such as race conditions, deadlocks, and data inconsistencies.\n",
    "\n",
    "# 2.Difficulty in Debugging: Debugging multithreaded programs can be challenging. Issues related to thread interactions may not be easy to reproduce and \n",
    "# diagnose, making it harder to identify and fix bugs.\n",
    "\n",
    "# 3.Resource Overhead: Creating and managing threads come with some overhead in terms of system resources. Each thread has its own stack and needs to be \n",
    "# scheduled by the operating system, which can lead to increased resource consumption.\n",
    "\n",
    "# 4.Potential for Deadlocks: Deadlocks can occur when two or more threads are blocked forever, each waiting for the other to release a resource. Managing \n",
    "# and preventing deadlocks requires careful design and synchronization mechanisms.\n",
    "\n",
    "# 5.Global Interpreter Lock (GIL): In CPython, the global interpreter lock (GIL) limits the execution of multiple threads in Python. This means that in\n",
    "# CPU-bound tasks, where true parallelism is required, multithreading may not provide the expected performance improvement.\n",
    "\n",
    "# 6.Difficulty in Reproducibility: Multithreading issues may not be consistently reproducible, making it challenging to identify and fix problems. This \n",
    "# variability can make it harder to ensure the reliability of multithreaded applications."
   ]
  },
  {
   "cell_type": "code",
   "execution_count": 26,
   "id": "451d022c-094f-445c-92d0-a20d799e7e12",
   "metadata": {},
   "outputs": [],
   "source": [
    "# Q6. Explain deadlocks and race conditions."
   ]
  },
  {
   "cell_type": "code",
   "execution_count": null,
   "id": "3a127c73-4d1d-4e37-b5de-ad60a68c6647",
   "metadata": {},
   "outputs": [],
   "source": [
    "# Deadlocks:\n",
    "\n",
    "# A deadlock is a situation in a multithreaded or multiprocessing environment where two or more threads or processes cannot proceed because each is \n",
    "# waiting for the other to release a resource. In other words, each thread holds a resource that the other threads are waiting for, resulting in a \n",
    "# circular waiting condition.\n",
    "\n",
    "# Key characteristics of deadlocks:\n",
    "\n",
    "# Mutual Exclusion: At least one resource must be held in a non-shareable mode, meaning only one thread can use it at a time.\n",
    "\n",
    "# Hold and Wait: A thread must be holding at least one resource and waiting for another resource acquired by another thread.\n",
    "\n",
    "# No Preemption: Resources cannot be forcibly taken away from a thread; they must be released voluntarily.\n",
    "\n",
    "# Circular Wait: There exists a circular chain of threads, each holding a resource that the next thread in the chain needs.\n",
    "\n",
    "# Example of a deadlock:\n",
    "\n",
    "# Consider two threads, Thread A and Thread B, and two resources, Resource X and Resource Y. If Thread A holds Resource X and is waiting for Resource \n",
    "# Y,while Thread B holds Resource Y and is waiting for Resource X, a deadlock occurs. Both threads are blocked, waiting for a resource that the other \n",
    "# thread possesses.\n",
    "\n",
    "# Preventing Deadlocks:\n",
    "\n",
    "# Several strategies can be employed to prevent deadlocks, such as using locks in a consistent order, employing timeouts, or implementing resource \n",
    "# allocation strategies.\n",
    "\n",
    "# Race Conditions:\n",
    "\n",
    "# A race condition occurs in a multithreaded or multiprocessing environment when the behavior of a program depends on the relative timing of events, \n",
    "# and the outcome is unpredictable. Race conditions typically occur when multiple threads or processes access shared data concurrently, and at least \n",
    "# one of them modifies the data.\n",
    "\n",
    "# Key characteristics of race conditions:\n",
    "\n",
    "# Shared Data: Two or more threads access shared data.\n",
    "\n",
    "# At Least One Write Operation: At least one thread modifies the shared data.\n",
    "\n",
    "# Non-atomic Operations: The operations on the shared data are non-atomic, meaning they consist of multiple steps that may be interleaved with steps \n",
    "# of other threads.\n",
    "\n",
    "# Example of a race condition:\n",
    "\n",
    "# Consider two threads incrementing a shared counter. If the operation of incrementing the counter is not atomic, a race condition can occur. For \n",
    "# example:\n",
    "\n",
    "# Thread A reads the current value (e.g., 5).\n",
    "# Thread B reads the same current value (e.g., 5).\n",
    "# Thread A increments the value and writes it back (e.g., 6).\n",
    "# Thread B also increments the original value and writes it back (e.g., 6).\n",
    "# Even though both threads performed an increment operation, the final value may be 6 instead of the expected 7. This is because the increment \n",
    "# operation is not atomic, and the threads' operations can be interleaved.\n",
    "\n",
    "# Preventing Race Conditions:\n",
    "\n",
    "# To prevent race conditions, synchronization mechanisms such as locks, semaphores, and mutexes are used to ensure that only one thread can access \n",
    "# the shared data at a time. By enforcing mutual exclusion, race conditions can be avoided or mitigated."
   ]
  }
 ],
 "metadata": {
  "kernelspec": {
   "display_name": "Python 3 (ipykernel)",
   "language": "python",
   "name": "python3"
  },
  "language_info": {
   "codemirror_mode": {
    "name": "ipython",
    "version": 3
   },
   "file_extension": ".py",
   "mimetype": "text/x-python",
   "name": "python",
   "nbconvert_exporter": "python",
   "pygments_lexer": "ipython3",
   "version": "3.10.8"
  }
 },
 "nbformat": 4,
 "nbformat_minor": 5
}
