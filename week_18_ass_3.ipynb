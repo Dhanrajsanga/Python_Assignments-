{
 "cells": [
  {
   "cell_type": "code",
   "execution_count": 1,
   "id": "9c5d8316-13a6-44b0-9012-f0b7f884ad8f",
   "metadata": {},
   "outputs": [],
   "source": [
    "# Q1. Write a Python code to implement the KNN classifier algorithm on load_iris dataset in\n",
    "# sklearn.datasets."
   ]
  },
  {
   "cell_type": "code",
   "execution_count": 2,
   "id": "f7e1cd74-71e9-42b9-abf1-4f1415c63b29",
   "metadata": {},
   "outputs": [
    {
     "name": "stdout",
     "output_type": "stream",
     "text": [
      "Accuracy: 1.0\n"
     ]
    }
   ],
   "source": [
    "from sklearn.datasets import load_iris\n",
    "from sklearn.model_selection import train_test_split\n",
    "from sklearn.neighbors import KNeighborsClassifier\n",
    "from sklearn.metrics import accuracy_score\n",
    "\n",
    "# Load the dataset\n",
    "iris = load_iris()\n",
    "X = iris.data\n",
    "y = iris.target\n",
    "\n",
    "# Split the dataset into training and testing sets\n",
    "X_train, X_test, y_train, y_test = train_test_split(X, y, test_size=0.2, random_state=42)\n",
    "\n",
    "# Initialize the KNN classifier\n",
    "knn = KNeighborsClassifier(n_neighbors=3)  # Define the number of neighbors\n",
    "\n",
    "# Train the classifier\n",
    "knn.fit(X_train, y_train)\n",
    "\n",
    "# Predict on the test set\n",
    "y_pred = knn.predict(X_test)\n",
    "\n",
    "# Calculate accuracy\n",
    "accuracy = accuracy_score(y_test, y_pred)\n",
    "print(\"Accuracy:\", accuracy)\n"
   ]
  },
  {
   "cell_type": "code",
   "execution_count": 3,
   "id": "a220d780-7411-4e4c-b620-b8e11be5089c",
   "metadata": {},
   "outputs": [],
   "source": [
    "# Q2. Write a Python code to implement the KNN regressor algorithm on load_boston dataset in\n",
    "# sklearn.datasets."
   ]
  },
  {
   "cell_type": "code",
   "execution_count": 6,
   "id": "955a0bf4-ba12-403b-b155-fac27ec5b1f5",
   "metadata": {},
   "outputs": [
    {
     "name": "stdout",
     "output_type": "stream",
     "text": [
      "Column names after dropping selected columns: Index(['crim', 'indus', 'rm', 'dis', 'lstat', 'medv'], dtype='object')\n",
      "Mean Squared Error: 22.135109967873408\n",
      "R-squared: 0.5982752840780197\n"
     ]
    }
   ],
   "source": [
    "import pandas as pd\n",
    "from sklearn.model_selection import train_test_split\n",
    "from sklearn.neighbors import KNeighborsRegressor\n",
    "from sklearn.metrics import mean_squared_error, r2_score\n",
    "\n",
    "# Load the dataset from the CSV file\n",
    "file_path = \"BostonHousing.csv\"\n",
    "try:\n",
    "    boston_df = pd.read_csv(file_path)\n",
    "except Exception as e:\n",
    "    print(\"An error occurred while loading the dataset:\", str(e))\n",
    "    exit()\n",
    "\n",
    "# Automatically select columns to drop\n",
    "columns_to_drop = [col for col in boston_df.columns if col in ['zn', 'chas', 'nox', 'age', 'rad', 'tax', 'ptratio', 'b']]\n",
    "\n",
    "# Drop the specified columns from the DataFrame\n",
    "boston_df = boston_df.drop(columns=columns_to_drop)\n",
    "\n",
    "# Display the column names after dropping columns\n",
    "print(\"Column names after dropping selected columns:\", boston_df.columns)\n",
    "    \n",
    "# Check if the dataset contains any data\n",
    "if boston_df.empty:\n",
    "    print(\"Dataset is empty. Please ensure that the dataset contains valid data.\")\n",
    "    exit()\n",
    "\n",
    "# Check if the dataset has at least one feature\n",
    "if boston_df.shape[1] < 2:\n",
    "    print(\"Dataset must have at least one feature.\")\n",
    "    exit()\n",
    "\n",
    "# Extract features and target variable\n",
    "X = boston_df.drop(columns=boston_df.columns[0]).values  # Exclude the first remaining column as the target column\n",
    "y = boston_df[boston_df.columns[0]].values  # Use the first remaining column as the target column\n",
    "\n",
    "# Split the dataset into training and testing sets\n",
    "X_train, X_test, y_train, y_test = train_test_split(X, y, test_size=0.2, random_state=42)\n",
    "\n",
    "# Check if the dataset contains any features after preprocessing\n",
    "if X_train.shape[1] == 0 or X_test.shape[1] == 0:\n",
    "    print(\"No features found in the dataset after preprocessing. Please review the preprocessing steps.\")\n",
    "    exit()\n",
    "\n",
    "# Initialize the KNN regressor\n",
    "knn_regressor = KNeighborsRegressor(n_neighbors=5)  # Define the number of neighbors\n",
    "\n",
    "# Train the regressor\n",
    "knn_regressor.fit(X_train, y_train)\n",
    "\n",
    "# Predict on the test set\n",
    "y_pred = knn_regressor.predict(X_test)\n",
    "\n",
    "# Calculate mean squared error and R-squared\n",
    "mse = mean_squared_error(y_test, y_pred)\n",
    "r2 = r2_score(y_test, y_pred)\n",
    "print(\"Mean Squared Error:\", mse)\n",
    "print(\"R-squared:\", r2)\n"
   ]
  },
  {
   "cell_type": "code",
   "execution_count": 7,
   "id": "dfeb00fb-3442-428e-be75-56ea605fca26",
   "metadata": {},
   "outputs": [],
   "source": [
    "# Q3. Write a Python code snippet to find the optimal value of K for the KNN classifier algorithm using\n",
    "# cross-validation on load_iris dataset in sklearn.datasets."
   ]
  },
  {
   "cell_type": "code",
   "execution_count": 8,
   "id": "579b4d2d-4fda-45e0-8858-f20f3fc184e9",
   "metadata": {},
   "outputs": [
    {
     "name": "stdout",
     "output_type": "stream",
     "text": [
      "Optimal value of K: 3\n",
      "Accuracy with optimal K: 0.9583333333333334\n"
     ]
    }
   ],
   "source": [
    "from sklearn.datasets import load_iris\n",
    "from sklearn.model_selection import GridSearchCV, train_test_split\n",
    "from sklearn.neighbors import KNeighborsClassifier\n",
    "\n",
    "# Load the dataset\n",
    "iris = load_iris()\n",
    "X = iris.data\n",
    "y = iris.target\n",
    "\n",
    "# Split the dataset into training and testing sets\n",
    "X_train, X_test, y_train, y_test = train_test_split(X, y, test_size=0.2, random_state=42)\n",
    "\n",
    "# Define a range of values for K\n",
    "param_grid = {'n_neighbors': range(1, 31)}\n",
    "\n",
    "# Initialize the KNN classifier\n",
    "knn_classifier = KNeighborsClassifier()\n",
    "\n",
    "# Initialize GridSearchCV to find the optimal value of K\n",
    "grid_search = GridSearchCV(knn_classifier, param_grid, cv=5, scoring='accuracy')\n",
    "\n",
    "# Fit the grid search to the training data\n",
    "grid_search.fit(X_train, y_train)\n",
    "\n",
    "# Get the best parameter (K) value\n",
    "best_k = grid_search.best_params_['n_neighbors']\n",
    "print(\"Optimal value of K:\", best_k)\n",
    "\n",
    "# Get the accuracy score for the best K value\n",
    "accuracy = grid_search.best_score_\n",
    "print(\"Accuracy with optimal K:\", accuracy)\n"
   ]
  },
  {
   "cell_type": "code",
   "execution_count": 9,
   "id": "7b85176c-6f22-490d-b3c2-2c6c16ad064a",
   "metadata": {},
   "outputs": [],
   "source": [
    "# Q4. Implement the KNN regressor algorithm with feature scaling on load_boston dataset in\n",
    "# sklearn.datasets."
   ]
  },
  {
   "cell_type": "code",
   "execution_count": 11,
   "id": "77436d43-bf63-42aa-b84d-355f02fd9bcd",
   "metadata": {},
   "outputs": [
    {
     "name": "stdout",
     "output_type": "stream",
     "text": [
      "Mean Squared Error: 20.60552941176471\n",
      "R-squared: 0.7190172315709293\n"
     ]
    }
   ],
   "source": [
    "import pandas as pd\n",
    "from sklearn.model_selection import train_test_split\n",
    "from sklearn.preprocessing import StandardScaler\n",
    "from sklearn.neighbors import KNeighborsRegressor\n",
    "from sklearn.metrics import mean_squared_error, r2_score\n",
    "\n",
    "# Load the dataset from the CSV file\n",
    "file_path = \"BostonHousing.csv\"\n",
    "boston_df = pd.read_csv(file_path)\n",
    "\n",
    "# Drop any rows with missing values\n",
    "boston_df.dropna(inplace=True)\n",
    "\n",
    "# Extract features and target variable\n",
    "X = boston_df.drop(columns=[\"medv\"]).values  # Replace \"medv\" with one of the columns you mentioned\n",
    "y = boston_df[\"medv\"].values\n",
    "\n",
    "# Split the dataset into training and testing sets\n",
    "X_train, X_test, y_train, y_test = train_test_split(X, y, test_size=0.2, random_state=42)\n",
    "\n",
    "# Scale the features\n",
    "scaler = StandardScaler()\n",
    "X_train_scaled = scaler.fit_transform(X_train)\n",
    "X_test_scaled = scaler.transform(X_test)\n",
    "\n",
    "# Initialize the KNN regressor\n",
    "knn_regressor = KNeighborsRegressor(n_neighbors=5)  # Define the number of neighbors\n",
    "\n",
    "# Train the regressor\n",
    "knn_regressor.fit(X_train_scaled, y_train)\n",
    "\n",
    "# Predict on the test set\n",
    "y_pred = knn_regressor.predict(X_test_scaled)\n",
    "\n",
    "# Calculate mean squared error and R-squared\n",
    "mse = mean_squared_error(y_test, y_pred)\n",
    "r2 = r2_score(y_test, y_pred)\n",
    "print(\"Mean Squared Error:\", mse)\n",
    "print(\"R-squared:\", r2)\n"
   ]
  },
  {
   "cell_type": "code",
   "execution_count": 12,
   "id": "e5e85923-1163-4eaf-bf1e-ece0be9081ba",
   "metadata": {},
   "outputs": [],
   "source": [
    "# Q5. Write a Python code snippet to implement the KNN classifier algorithm with weighted voting on\n",
    "# load_iris dataset in sklearn.datasets."
   ]
  },
  {
   "cell_type": "code",
   "execution_count": 13,
   "id": "9889fe3f-c09c-40e5-9817-6b36fda3981c",
   "metadata": {},
   "outputs": [
    {
     "name": "stdout",
     "output_type": "stream",
     "text": [
      "Accuracy: 1.0\n"
     ]
    }
   ],
   "source": [
    "from sklearn.datasets import load_iris\n",
    "from sklearn.model_selection import train_test_split\n",
    "from sklearn.neighbors import KNeighborsClassifier\n",
    "from sklearn.metrics import accuracy_score\n",
    "\n",
    "# Load the Iris dataset\n",
    "iris_data = load_iris()\n",
    "X = iris_data.data\n",
    "y = iris_data.target\n",
    "\n",
    "# Split the dataset into training and testing sets\n",
    "X_train, X_test, y_train, y_test = train_test_split(X, y, test_size=0.2, random_state=42)\n",
    "\n",
    "# Initialize the KNN classifier with weighted voting\n",
    "knn_classifier = KNeighborsClassifier(n_neighbors=5, weights='distance')  # Using weighted voting\n",
    "\n",
    "# Train the classifier\n",
    "knn_classifier.fit(X_train, y_train)\n",
    "\n",
    "# Predict on the test set\n",
    "y_pred = knn_classifier.predict(X_test)\n",
    "\n",
    "# Calculate accuracy\n",
    "accuracy = accuracy_score(y_test, y_pred)\n",
    "print(\"Accuracy:\", accuracy)\n"
   ]
  },
  {
   "cell_type": "code",
   "execution_count": 14,
   "id": "c9c3d26b-82ab-45c8-a56a-1e3b0d953b15",
   "metadata": {},
   "outputs": [],
   "source": [
    "# Q6. Implement a function to standardise the features before applying KNN classifier."
   ]
  },
  {
   "cell_type": "code",
   "execution_count": 15,
   "id": "6e9a0202-49c5-4eb1-8f36-fdcc6541eb43",
   "metadata": {},
   "outputs": [],
   "source": [
    "from sklearn.preprocessing import StandardScaler\n",
    "\n",
    "def standardize_features(X_train, X_test):\n",
    "    \"\"\"\n",
    "    Standardize the features using StandardScaler.\n",
    "\n",
    "    Parameters:\n",
    "    - X_train: Training feature data\n",
    "    - X_test: Testing feature data\n",
    "\n",
    "    Returns:\n",
    "    - Standardized training and testing feature data\n",
    "    \"\"\"\n",
    "    # Initialize the StandardScaler\n",
    "    scaler = StandardScaler()\n",
    "\n",
    "    # Fit and transform the training data\n",
    "    X_train_scaled = scaler.fit_transform(X_train)\n",
    "\n",
    "    # Transform the testing data using the same scaler\n",
    "    X_test_scaled = scaler.transform(X_test)\n",
    "\n",
    "    return X_train_scaled, X_test_scaled\n"
   ]
  },
  {
   "cell_type": "code",
   "execution_count": 16,
   "id": "291d977b-f8cd-4f7b-8097-fd2e20389067",
   "metadata": {},
   "outputs": [],
   "source": [
    "# Q7. Write a Python function to calculate the euclidean distance between two points."
   ]
  },
  {
   "cell_type": "code",
   "execution_count": 17,
   "id": "a8e1c3ec-9114-4ead-b6da-2d0acd4e3749",
   "metadata": {},
   "outputs": [],
   "source": [
    "import numpy as np\n",
    "\n",
    "def euclidean_distance(point1, point2):\n",
    "    \"\"\"\n",
    "    Calculate the Euclidean distance between two points.\n",
    "\n",
    "    Parameters:\n",
    "    - point1: A numpy array representing the coordinates of the first point\n",
    "    - point2: A numpy array representing the coordinates of the second point\n",
    "\n",
    "    Returns:\n",
    "    - The Euclidean distance between the two points\n",
    "    \"\"\"\n",
    "    # Ensure both points have the same dimensionality\n",
    "    assert len(point1) == len(point2), \"Points must have the same dimensionality\"\n",
    "\n",
    "    # Calculate the squared differences for each dimension\n",
    "    squared_diff = np.sum((point1 - point2) ** 2)\n",
    "\n",
    "    # Take the square root of the sum of squared differences\n",
    "    distance = np.sqrt(squared_diff)\n",
    "\n",
    "    return distance\n"
   ]
  },
  {
   "cell_type": "code",
   "execution_count": 18,
   "id": "fcdfb98c-bb98-4e50-b73d-a42d5ac54852",
   "metadata": {},
   "outputs": [],
   "source": [
    "# Q8. Write a Python function to calculate the manhattan distance between two points."
   ]
  },
  {
   "cell_type": "code",
   "execution_count": 19,
   "id": "11d7420b-5cb7-4e93-98be-b614e1a92a35",
   "metadata": {},
   "outputs": [],
   "source": [
    "import numpy as np\n",
    "\n",
    "def manhattan_distance(point1, point2):\n",
    "    \"\"\"\n",
    "    Calculate the Manhattan distance between two points.\n",
    "\n",
    "    Parameters:\n",
    "    - point1: A numpy array representing the coordinates of the first point\n",
    "    - point2: A numpy array representing the coordinates of the second point\n",
    "\n",
    "    Returns:\n",
    "    - The Manhattan distance between the two points\n",
    "    \"\"\"\n",
    "    # Ensure both points have the same dimensionality\n",
    "    assert len(point1) == len(point2), \"Points must have the same dimensionality\"\n",
    "\n",
    "    # Calculate the absolute differences for each dimension\n",
    "    abs_diff = np.abs(point1 - point2)\n",
    "\n",
    "    # Sum the absolute differences across all dimensions\n",
    "    distance = np.sum(abs_diff)\n",
    "\n",
    "    return distance\n"
   ]
  },
  {
   "cell_type": "code",
   "execution_count": null,
   "id": "9340f53d-dd99-4b2a-9f9b-671379f76fdb",
   "metadata": {},
   "outputs": [],
   "source": []
  }
 ],
 "metadata": {
  "kernelspec": {
   "display_name": "Python 3 (ipykernel)",
   "language": "python",
   "name": "python3"
  },
  "language_info": {
   "codemirror_mode": {
    "name": "ipython",
    "version": 3
   },
   "file_extension": ".py",
   "mimetype": "text/x-python",
   "name": "python",
   "nbconvert_exporter": "python",
   "pygments_lexer": "ipython3",
   "version": "3.10.8"
  }
 },
 "nbformat": 4,
 "nbformat_minor": 5
}
