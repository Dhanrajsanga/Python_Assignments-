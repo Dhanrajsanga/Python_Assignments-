{
 "cells": [
  {
   "cell_type": "code",
   "execution_count": 1,
   "id": "cad9c17d-004f-4349-9331-a9ae182350d0",
   "metadata": {},
   "outputs": [],
   "source": [
    "# Q1. What is multiprocessing in python? Why is it useful?"
   ]
  },
  {
   "cell_type": "code",
   "execution_count": 2,
   "id": "1e671691-3307-4306-a216-c0d961c3548a",
   "metadata": {},
   "outputs": [],
   "source": [
    "# Multiprocessing in Python refers to the capability of the language to create and manage multiple processes. \n",
    "# A process is an independent program that runs in its own memory space and has its own Python interpreter and\n",
    "# memory. Each process runs independently, allowing parallel execution of tasks.\n",
    "\n",
    "# In Python, the multiprocessing module provides support for creating and managing processes. This module allows \n",
    "# you to parallelize your code by creating multiple processes that can run concurrently, taking advantage of multiple \n",
    "# CPU cores.\n",
    "\n",
    "# Why Multiprocessing is Useful:\n",
    "\n",
    "# Parallelism: Multiprocessing allows for parallel execution of code, enabling multiple processes to run \n",
    "# simultaneously. This is especially beneficial for CPU-bound tasks that can be split into independent subtasks.\n",
    "\n",
    "# Utilization of Multiple Cores: Modern computers often have multiple CPU cores. Multiprocessing allows you to \n",
    "# fully utilize these cores, improving the overall performance of your program.\n",
    "\n",
    "# Improved Performance: By distributing tasks among multiple processes, you can achieve improved performance, \n",
    "# particularly for computationally intensive operations. This is in contrast to single-threaded or single-process\n",
    "# execution.\n",
    "\n",
    "# Isolation: Each process in multiprocessing runs independently with its own memory space. This isolation ensures \n",
    "# that the processes do not interfere with each other's data, reducing the likelihood of bugs related to shared state.\n",
    "\n",
    "# Enhanced Fault Tolerance: If one process encounters an error or crashes, it does not affect the execution of \n",
    "# other processes. This enhanced fault tolerance improves the robustness of concurrent programs."
   ]
  },
  {
   "cell_type": "code",
   "execution_count": 3,
   "id": "2c365349-8697-4d66-8318-490197e4682e",
   "metadata": {},
   "outputs": [
    {
     "name": "stdout",
     "output_type": "stream",
     "text": [
      "[1, 4, 9, 16, 25]\n"
     ]
    }
   ],
   "source": [
    "import multiprocessing\n",
    "\n",
    "def square(x):\n",
    "    return x * x\n",
    "\n",
    "if __name__ == \"__main__\":\n",
    "    numbers = [1, 2, 3, 4, 5]\n",
    "    \n",
    "    # Create a Pool with 2 processes\n",
    "    with multiprocessing.Pool(processes=2) as pool:\n",
    "        # Use the map function to apply the square function to each number in parallel\n",
    "        result = pool.map(square, numbers)\n",
    "    \n",
    "    print(result)\n"
   ]
  },
  {
   "cell_type": "code",
   "execution_count": 4,
   "id": "f8f012cf-5118-4c44-b2fa-3ce4ed065ea9",
   "metadata": {},
   "outputs": [],
   "source": [
    "# Q2. What are the differences between multiprocessing and multithreading?"
   ]
  },
  {
   "cell_type": "code",
   "execution_count": 5,
   "id": "f9e5e793-e86e-4a55-bf1a-a9e70528a58d",
   "metadata": {},
   "outputs": [],
   "source": [
    "# Differences Between Multiprocessing and Multithreading:\n",
    "\n",
    "# 1.Definition:\n",
    "\n",
    "# Multiprocessing: In multiprocessing, multiple processes run independently, each with its own memory space and \n",
    "# Python interpreter.\n",
    "# Multithreading: In multithreading, multiple threads run within the same process and share the same memory space.\n",
    "\n",
    "# 2.Isolation:\n",
    "\n",
    "# Multiprocessing: Processes are isolated from each other. Changes in one process do not affect the others.\n",
    "# Multithreading: Threads share the same memory space, and changes in one thread can directly affect others, \n",
    "# leading to potential synchronization issues.\n",
    "\n",
    "# 3.Communication:\n",
    "\n",
    "# Multiprocessing: Communication between processes is typically achieved using inter-process communication (IPC)\n",
    "# mechanisms such as queues, pipes, or shared memory.\n",
    "# Multithreading: Communication between threads is easier since they share the same memory space. However, it \n",
    "# requires synchronization mechanisms (locks, semaphores) to prevent race conditions.\n",
    "\n",
    "# 4.Overhead:\n",
    "\n",
    "# Multiprocessing: Creating and managing processes have higher overhead due to separate memory space and Python \n",
    "# interpreters for each process.\n",
    "# Multithreading: Creating and managing threads have lower overhead since they share the same memory space.\n",
    "\n",
    "# 5.Parallelism:\n",
    "\n",
    "# Multiprocessing: Processes run in parallel on multiple CPU cores. Suitable for CPU-bound tasks.\n",
    "# Multithreading: Threads run concurrently but might not achieve true parallelism due to the Global Interpreter \n",
    "# Lock (GIL) in CPython. Better for I/O-bound tasks.\n",
    "\n",
    "# 6.GIL (Global Interpreter Lock):\n",
    "\n",
    "# Multiprocessing: GIL is not a concern, as each process has its own Python interpreter.\n",
    "# Multithreading: GIL limits true parallel execution of threads in CPython, impacting performance in CPU-bound tasks\n",
    "\n",
    "# 7.Resource Sharing:\n",
    "\n",
    "# Multiprocessing: Processes have their own memory space, reducing the need for explicit synchronization. \n",
    "# Resource sharing is more challenging.\n",
    "# Multithreading: Threads share the same memory space, making resource sharing easier but requiring careful \n",
    "# synchronization.\n",
    "\n",
    "# 8.Fault Tolerance:\n",
    "\n",
    "# Multiprocessing: If one process crashes, it does not affect others.\n",
    "# Multithreading: If one thread encounters an error, it may affect the entire process.\n",
    "\n",
    "# 9.Complexity:\n",
    "\n",
    "# Multiprocessing: Generally easier to reason about due to process isolation. Processes communicate explicitly \n",
    "# through IPC.\n",
    "# Multithreading: More complex due to shared memory. Requires careful synchronization to avoid race conditions.\n",
    "\n",
    "# 10.Use Cases:\n",
    "\n",
    "# Multiprocessing: Well-suited for CPU-bound tasks, parallelizing independent operations.\n",
    "# Multithreading: Well-suited for I/O-bound tasks, such as network operations, file I/O, or GUI applications."
   ]
  },
  {
   "cell_type": "code",
   "execution_count": 6,
   "id": "365028a5-fa00-4257-a94c-e5f29063d110",
   "metadata": {},
   "outputs": [],
   "source": [
    "# Q3. Write a python code to create a process using the multiprocessing module."
   ]
  },
  {
   "cell_type": "code",
   "execution_count": 7,
   "id": "72a27de0-72df-46bf-9778-ccfc6c4718f9",
   "metadata": {},
   "outputs": [
    {
     "name": "stdout",
     "output_type": "stream",
     "text": [
      "Process ID: 3002, Process Name: MyProcess\n",
      "Main process has completed.\n"
     ]
    }
   ],
   "source": [
    "import multiprocessing\n",
    "import os\n",
    "\n",
    "def print_process_info():\n",
    "    process_id = os.getpid()\n",
    "    process_name = multiprocessing.current_process().name\n",
    "    print(f\"Process ID: {process_id}, Process Name: {process_name}\")\n",
    "\n",
    "if __name__ == \"__main__\":\n",
    "    # Create a process\n",
    "    my_process = multiprocessing.Process(target=print_process_info, name=\"MyProcess\")\n",
    "\n",
    "    # Start the process\n",
    "    my_process.start()\n",
    "\n",
    "    # Wait for the process to finish\n",
    "    my_process.join()\n",
    "\n",
    "    print(\"Main process has completed.\")\n"
   ]
  },
  {
   "cell_type": "code",
   "execution_count": 8,
   "id": "9b302ea4-21d5-481f-a1f6-5766e45020a5",
   "metadata": {},
   "outputs": [],
   "source": [
    "# Q4. What is a multiprocessing pool in python? Why is it used?"
   ]
  },
  {
   "cell_type": "code",
   "execution_count": 9,
   "id": "5d294ff0-05da-4981-944a-1b0d17194d22",
   "metadata": {},
   "outputs": [],
   "source": [
    "# Multiprocessing Pool in Python:\n",
    "\n",
    "# A multiprocessing pool in Python, specifically in the multiprocessing module, is a high-level abstraction that\n",
    "# provides a convenient way to parallelize the execution of a function across multiple input values. It abstracts\n",
    "# the creation and management of a pool of worker processes, making it easier to distribute tasks among them.\n",
    "\n",
    "# The Pool class in the multiprocessing module is commonly used for this purpose. It allows you to parallelize \n",
    "# the execution of a function by dividing the input data into chunks and distributing those chunks across multiple\n",
    "# processes.\n",
    "\n",
    "# Why Pool is Used:\n",
    "\n",
    "# 1.Parallel Execution: The primary purpose of using a Pool is to achieve parallel execution of a function for \n",
    "# multipleinput values. This is particularly useful for CPU-bound tasks where parallel processing can lead to  \n",
    "# performance improvements.\n",
    "\n",
    "# 2.Ease of Use: The Pool class provides a simple and high-level API, abstracting the complexity of managing multipl\n",
    "# processes. Developers can parallelize functions with minimal code changes.\n",
    "\n",
    "# 3.Automatic Task Distribution: The Pool class takes care of dividing the input data into chunks and distributing \n",
    "# those chunks among worker processes, simplifying the parallelization process.\n",
    "\n",
    "# 4.Result Aggregation: The Pool class automatically collects and combines the results from individual processes, \n",
    "# providing a convenient way to obtain the final result of parallel computations.\n",
    "\n",
    "# 5.Efficient Resource Utilization: By utilizing multiple processes, a Pool can take advantage of multiple CPU cores\n",
    "# making more efficient use of available resources."
   ]
  },
  {
   "cell_type": "code",
   "execution_count": 10,
   "id": "b17b6b3d-4cb2-4c6f-a359-7436ea59901c",
   "metadata": {},
   "outputs": [],
   "source": [
    "# Q5. How can we create a pool of worker processes in python using the multiprocessing module?"
   ]
  },
  {
   "cell_type": "code",
   "execution_count": 11,
   "id": "7ea5b634-6e6e-4a11-b0a6-c5414dfe4c61",
   "metadata": {},
   "outputs": [
    {
     "name": "stdout",
     "output_type": "stream",
     "text": [
      "[1, 4, 9, 16, 25]\n"
     ]
    }
   ],
   "source": [
    "import multiprocessing\n",
    "\n",
    "# Define a function that will be parallelized\n",
    "def square(x):\n",
    "    return x * x\n",
    "\n",
    "if __name__ == \"__main__\":\n",
    "    # Input data\n",
    "    numbers = [1, 2, 3, 4, 5]\n",
    "\n",
    "    # Create a Pool with a specified number of processes\n",
    "    # The argument to Pool determines the number of worker processes\n",
    "    with multiprocessing.Pool(processes=2) as pool:\n",
    "        # Use the map function to apply the square function to each number in parallel\n",
    "        # The result is a list of squared values in the same order as the input\n",
    "        result = pool.map(square, numbers)\n",
    "\n",
    "    # Print the result\n",
    "    print(result)\n"
   ]
  },
  {
   "cell_type": "code",
   "execution_count": 12,
   "id": "222d81f0-c308-42ae-9756-360839d5f9a5",
   "metadata": {},
   "outputs": [],
   "source": [
    "# Q6. Write a python program to create 4 processes, each process should print a different number using the\n",
    "# # multiprocessing module in python."
   ]
  },
  {
   "cell_type": "code",
   "execution_count": 13,
   "id": "7344188d-9aa2-4883-b0d1-913ad50187da",
   "metadata": {},
   "outputs": [
    {
     "name": "stdout",
     "output_type": "stream",
     "text": [
      "Process ForkPoolWorker-6 is printing: 1Process ForkPoolWorker-8 is printing: 3Process ForkPoolWorker-9 is printing: 4Process ForkPoolWorker-7 is printing: 2\n",
      "\n",
      "\n",
      "\n"
     ]
    }
   ],
   "source": [
    "import multiprocessing\n",
    "\n",
    "def print_number(number):\n",
    "    process_id = multiprocessing.current_process().name\n",
    "    print(f\"Process {process_id} is printing: {number}\")\n",
    "\n",
    "if __name__ == \"__main__\":\n",
    "    # Define numbers to be printed\n",
    "    numbers_to_print = [1, 2, 3, 4]\n",
    "\n",
    "    # Create a Pool with 4 processes\n",
    "    with multiprocessing.Pool(processes=4) as pool:\n",
    "        # Use the map function to apply the print_number function to each number in parallel\n",
    "        pool.map(print_number, numbers_to_print)\n"
   ]
  },
  {
   "cell_type": "code",
   "execution_count": null,
   "id": "9065c4a0-dd22-44e6-8571-35baaf8261e4",
   "metadata": {},
   "outputs": [],
   "source": []
  }
 ],
 "metadata": {
  "kernelspec": {
   "display_name": "Python 3 (ipykernel)",
   "language": "python",
   "name": "python3"
  },
  "language_info": {
   "codemirror_mode": {
    "name": "ipython",
    "version": 3
   },
   "file_extension": ".py",
   "mimetype": "text/x-python",
   "name": "python",
   "nbconvert_exporter": "python",
   "pygments_lexer": "ipython3",
   "version": "3.10.8"
  }
 },
 "nbformat": 4,
 "nbformat_minor": 5
}
