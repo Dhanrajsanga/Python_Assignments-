{
 "cells": [
  {
   "cell_type": "code",
   "execution_count": 2,
   "id": "b5c40d1a-d512-4422-8c6f-17c64c54663c",
   "metadata": {},
   "outputs": [],
   "source": [
    "# Consider following code to answer further questions:\n",
    "import pandas as pd\n",
    "course_name = ['Data Science', 'Machine Learning', 'Big Data', 'Data Engineer']\n",
    "duration = [2,3,6,4]\n",
    "df = pd.DataFrame(data = {'course_name' : course_name, 'duration' : duration})"
   ]
  },
  {
   "cell_type": "code",
   "execution_count": 3,
   "id": "bfa4cfd1-172f-4290-8608-49a53c85f921",
   "metadata": {},
   "outputs": [],
   "source": [
    "# Q1. Write a code to print the data present in the second row of the dataframe, df."
   ]
  },
  {
   "cell_type": "code",
   "execution_count": 4,
   "id": "ff2ef6f2-0a51-4530-ae1d-470a48f77f86",
   "metadata": {},
   "outputs": [
    {
     "name": "stdout",
     "output_type": "stream",
     "text": [
      "course_name    Machine Learning\n",
      "duration                      3\n",
      "Name: 1, dtype: object\n"
     ]
    }
   ],
   "source": [
    "print(df.iloc[1])\n"
   ]
  },
  {
   "cell_type": "code",
   "execution_count": 5,
   "id": "b2e68ebc-fc8b-49ad-9f61-0396d8a6f7c6",
   "metadata": {},
   "outputs": [],
   "source": [
    "# Q2. What is the difference between the functions loc and iloc in pandas.DataFrame?"
   ]
  },
  {
   "cell_type": "code",
   "execution_count": 6,
   "id": "109ae27f-63f7-45c9-b657-ed004b9b47ce",
   "metadata": {},
   "outputs": [],
   "source": [
    "# 1)iloc (Integer-based indexing):\n",
    "\n",
    "# It is primarily integer position-based. This means you specify rows and columns by their integer index.\n",
    "# The syntax is df.iloc[row_index, column_index].\n",
    "# Example: df.iloc[1, 0] would return the value in the second row, first column.\n",
    "\n",
    "# 2)loc (Label-based indexing):\n",
    "\n",
    "# It is primarily label-based. This means you specify rows and columns by their label (index name or column name).\n",
    "# The syntax is df.loc[row_label, column_label].\n",
    "# Example: If your DataFrame's index is labeled with strings, like ['A', 'B', 'C'], then df.loc['B'] would return \n",
    "# the entire row labeled 'B'. Similarly, if you have a column named 'course_name', df.loc[:, 'course_name'] would\n",
    "# return the entire column labeled 'course_name'.\n",
    "\n",
    "# Key Differences:\n",
    "# Type of Indexing:\n",
    "\n",
    "# iloc uses integer-based indexing.\n",
    "# loc uses label-based indexing.\n",
    "# Usage:\n",
    "\n",
    "# Use iloc when you want to access data by its integer position.\n",
    "# Use loc when you want to access data by its label (index or column name).\n",
    "# Flexibility:\n",
    "\n",
    "# loc can handle slicing more intuitively with label-based slicing, e.g., df.loc['A':'C'] would include rows \n",
    "# with labels 'A', 'B', and 'C', while iloc would require specific integer positions.\n",
    "# In summary, while both loc and iloc allow for data selection in a DataFrame, they differ in the way they reference \n",
    "# data: iloc uses integer positions, whereas loc uses labels. Your choice between the two would depend on the specific\n",
    "# requirements of your data manipulation task."
   ]
  },
  {
   "cell_type": "code",
   "execution_count": 7,
   "id": "ddf9697d-c295-4ca8-9090-a86faa1606e8",
   "metadata": {},
   "outputs": [],
   "source": [
    "# Q3. Reindex the given dataframe using a variable, reindex = [3,0,1,2] and store it in the variable, new_df\n",
    "# then find the output for both new_df.loc[2] and new_df.iloc[2].\n",
    "# Did you observe any difference in both the outputs? If so then explain it."
   ]
  },
  {
   "cell_type": "code",
   "execution_count": 8,
   "id": "3bec9934-53bc-45f5-b463-796ff1d6d0b8",
   "metadata": {},
   "outputs": [
    {
     "data": {
      "text/html": [
       "<div>\n",
       "<style scoped>\n",
       "    .dataframe tbody tr th:only-of-type {\n",
       "        vertical-align: middle;\n",
       "    }\n",
       "\n",
       "    .dataframe tbody tr th {\n",
       "        vertical-align: top;\n",
       "    }\n",
       "\n",
       "    .dataframe thead th {\n",
       "        text-align: right;\n",
       "    }\n",
       "</style>\n",
       "<table border=\"1\" class=\"dataframe\">\n",
       "  <thead>\n",
       "    <tr style=\"text-align: right;\">\n",
       "      <th></th>\n",
       "      <th>course_name</th>\n",
       "      <th>duration</th>\n",
       "    </tr>\n",
       "  </thead>\n",
       "  <tbody>\n",
       "    <tr>\n",
       "      <th>0</th>\n",
       "      <td>Data Science</td>\n",
       "      <td>2</td>\n",
       "    </tr>\n",
       "    <tr>\n",
       "      <th>1</th>\n",
       "      <td>Machine Learning</td>\n",
       "      <td>3</td>\n",
       "    </tr>\n",
       "    <tr>\n",
       "      <th>2</th>\n",
       "      <td>Big Data</td>\n",
       "      <td>6</td>\n",
       "    </tr>\n",
       "    <tr>\n",
       "      <th>3</th>\n",
       "      <td>Data Engineer</td>\n",
       "      <td>4</td>\n",
       "    </tr>\n",
       "  </tbody>\n",
       "</table>\n",
       "</div>"
      ],
      "text/plain": [
       "        course_name  duration\n",
       "0      Data Science         2\n",
       "1  Machine Learning         3\n",
       "2          Big Data         6\n",
       "3     Data Engineer         4"
      ]
     },
     "execution_count": 8,
     "metadata": {},
     "output_type": "execute_result"
    }
   ],
   "source": [
    "df"
   ]
  },
  {
   "cell_type": "code",
   "execution_count": 9,
   "id": "58c6d29b-c5eb-42a4-806d-e1b1b366a40d",
   "metadata": {},
   "outputs": [
    {
     "name": "stdout",
     "output_type": "stream",
     "text": [
      "        course_name  duration\n",
      "3     Data Engineer         4\n",
      "0      Data Science         2\n",
      "1  Machine Learning         3\n",
      "2          Big Data         6\n"
     ]
    }
   ],
   "source": [
    "import pandas as pd\n",
    "\n",
    "# Given DataFrame\n",
    "course_name = ['Data Science', 'Machine Learning', 'Big Data', 'Data Engineer']\n",
    "duration = [2, 3, 6, 4]\n",
    "df = pd.DataFrame(data={'course_name': course_name, 'duration': duration})\n",
    "\n",
    "# Reindexing\n",
    "reindex = [3, 0, 1, 2]\n",
    "new_df = df.reindex(reindex)\n",
    "\n",
    "print(new_df)\n"
   ]
  },
  {
   "cell_type": "code",
   "execution_count": 10,
   "id": "0b0b6916-a200-4adf-b355-b29679a8a896",
   "metadata": {},
   "outputs": [
    {
     "name": "stdout",
     "output_type": "stream",
     "text": [
      "course_name    Big Data\n",
      "duration              6\n",
      "Name: 2, dtype: object\n",
      "course_name    Machine Learning\n",
      "duration                      3\n",
      "Name: 1, dtype: object\n"
     ]
    }
   ],
   "source": [
    "print(new_df.loc[2])\n",
    "print(new_df.iloc[2])\n"
   ]
  },
  {
   "cell_type": "code",
   "execution_count": 11,
   "id": "8223157b-9c39-40d0-9ca8-05016e2e3973",
   "metadata": {},
   "outputs": [],
   "source": [
    "# Yes, there is a difference between the outputs of new_df.loc[2] and new_df.iloc[2]. Let's break down the differences:\n",
    "\n",
    "# Row Label vs. Integer Position:\n",
    "\n",
    "# new_df.loc[2]: This uses label-based indexing. It retrieves the row with the label 2.\n",
    "# new_df.iloc[2]: This uses integer-based indexing. It retrieves the row at the integer position 2."
   ]
  },
  {
   "cell_type": "code",
   "execution_count": 12,
   "id": "0629d431-6eab-410d-8df9-e3ea33297ea1",
   "metadata": {},
   "outputs": [],
   "source": [
    "# Consider the below code to answer further questions:\n",
    "import pandas as pd\n",
    "import numpy as np\n",
    "columns = ['column_1', 'column_2', 'column_3', 'column_4', 'column_5', 'column_6']\n",
    "indices = [1,2,3,4,5,6]\n",
    "#Creating a dataframe:\n",
    "df1 = pd.DataFrame(np.random.rand(6,6), columns = columns, index = indices)"
   ]
  },
  {
   "cell_type": "code",
   "execution_count": 13,
   "id": "944378c5-eeb0-4dfc-b40e-ae62d3739a09",
   "metadata": {},
   "outputs": [],
   "source": [
    "# Q4. Write a code to find the following statistical measurements for the above dataframe df1:\n",
    "# (i) mean of each and every column present in the dataframe.\n",
    "# (ii) standard deviation of column, ‘column_2’"
   ]
  },
  {
   "cell_type": "code",
   "execution_count": 14,
   "id": "b2fc7d30-fd2b-41ae-b6be-49986fc176e3",
   "metadata": {},
   "outputs": [
    {
     "data": {
      "text/html": [
       "<div>\n",
       "<style scoped>\n",
       "    .dataframe tbody tr th:only-of-type {\n",
       "        vertical-align: middle;\n",
       "    }\n",
       "\n",
       "    .dataframe tbody tr th {\n",
       "        vertical-align: top;\n",
       "    }\n",
       "\n",
       "    .dataframe thead th {\n",
       "        text-align: right;\n",
       "    }\n",
       "</style>\n",
       "<table border=\"1\" class=\"dataframe\">\n",
       "  <thead>\n",
       "    <tr style=\"text-align: right;\">\n",
       "      <th></th>\n",
       "      <th>column_1</th>\n",
       "      <th>column_2</th>\n",
       "      <th>column_3</th>\n",
       "      <th>column_4</th>\n",
       "      <th>column_5</th>\n",
       "      <th>column_6</th>\n",
       "    </tr>\n",
       "  </thead>\n",
       "  <tbody>\n",
       "    <tr>\n",
       "      <th>1</th>\n",
       "      <td>0.938858</td>\n",
       "      <td>0.309664</td>\n",
       "      <td>0.689337</td>\n",
       "      <td>0.628726</td>\n",
       "      <td>0.760672</td>\n",
       "      <td>0.821010</td>\n",
       "    </tr>\n",
       "    <tr>\n",
       "      <th>2</th>\n",
       "      <td>0.767570</td>\n",
       "      <td>0.056102</td>\n",
       "      <td>0.893086</td>\n",
       "      <td>0.143701</td>\n",
       "      <td>0.636915</td>\n",
       "      <td>0.057981</td>\n",
       "    </tr>\n",
       "    <tr>\n",
       "      <th>3</th>\n",
       "      <td>0.556033</td>\n",
       "      <td>0.626362</td>\n",
       "      <td>0.772852</td>\n",
       "      <td>0.294530</td>\n",
       "      <td>0.150953</td>\n",
       "      <td>0.269605</td>\n",
       "    </tr>\n",
       "    <tr>\n",
       "      <th>4</th>\n",
       "      <td>0.811039</td>\n",
       "      <td>0.534200</td>\n",
       "      <td>0.201812</td>\n",
       "      <td>0.078819</td>\n",
       "      <td>0.090774</td>\n",
       "      <td>0.316889</td>\n",
       "    </tr>\n",
       "    <tr>\n",
       "      <th>5</th>\n",
       "      <td>0.694499</td>\n",
       "      <td>0.374627</td>\n",
       "      <td>0.530320</td>\n",
       "      <td>0.965440</td>\n",
       "      <td>0.874468</td>\n",
       "      <td>0.335201</td>\n",
       "    </tr>\n",
       "    <tr>\n",
       "      <th>6</th>\n",
       "      <td>0.466170</td>\n",
       "      <td>0.697596</td>\n",
       "      <td>0.134963</td>\n",
       "      <td>0.121641</td>\n",
       "      <td>0.564632</td>\n",
       "      <td>0.043736</td>\n",
       "    </tr>\n",
       "  </tbody>\n",
       "</table>\n",
       "</div>"
      ],
      "text/plain": [
       "   column_1  column_2  column_3  column_4  column_5  column_6\n",
       "1  0.938858  0.309664  0.689337  0.628726  0.760672  0.821010\n",
       "2  0.767570  0.056102  0.893086  0.143701  0.636915  0.057981\n",
       "3  0.556033  0.626362  0.772852  0.294530  0.150953  0.269605\n",
       "4  0.811039  0.534200  0.201812  0.078819  0.090774  0.316889\n",
       "5  0.694499  0.374627  0.530320  0.965440  0.874468  0.335201\n",
       "6  0.466170  0.697596  0.134963  0.121641  0.564632  0.043736"
      ]
     },
     "execution_count": 14,
     "metadata": {},
     "output_type": "execute_result"
    }
   ],
   "source": [
    "df1"
   ]
  },
  {
   "cell_type": "code",
   "execution_count": 15,
   "id": "c193e72e-ab08-4026-acd8-53c57a22732b",
   "metadata": {},
   "outputs": [
    {
     "name": "stdout",
     "output_type": "stream",
     "text": [
      "Mean of each column:\n",
      "column_1    0.705695\n",
      "column_2    0.433092\n",
      "column_3    0.537062\n",
      "column_4    0.372143\n",
      "column_5    0.513069\n",
      "column_6    0.307404\n",
      "dtype: float64\n",
      "\n",
      "Standard deviation of 'column_2': 0.2359292459032361\n"
     ]
    }
   ],
   "source": [
    "# (i) Mean of each and every column\n",
    "column_means = df1.mean()\n",
    "print(\"Mean of each column:\")\n",
    "print(column_means)\n",
    "\n",
    "# (ii) Standard deviation of column 'column_2'\n",
    "std_dev_column_2 = df1['column_2'].std()\n",
    "print(\"\\nStandard deviation of 'column_2':\", std_dev_column_2)"
   ]
  },
  {
   "cell_type": "code",
   "execution_count": 16,
   "id": "18cc1fad-750c-4523-b0d1-6a6896cb62c2",
   "metadata": {},
   "outputs": [],
   "source": [
    "# Q5. Replace the data present in the second row of column, ‘column_2’ by a string variable then find the\n",
    "# mean of column, column_2.\n",
    "# If you are getting errors in executing it then explain why.\n",
    "# [Hint: To replace the data use df1.loc[] and equate this to string data of your choice.]"
   ]
  },
  {
   "cell_type": "code",
   "execution_count": 17,
   "id": "f9072904-59b9-41f9-a6e5-f2eea32127fc",
   "metadata": {},
   "outputs": [
    {
     "name": "stdout",
     "output_type": "stream",
     "text": [
      "Error: unsupported operand type(s) for +: 'float' and 'str'\n"
     ]
    }
   ],
   "source": [
    "\n",
    "# Replace the data in the second row of 'column_2' with a string\n",
    "df1.loc[2, 'column_2'] = 'string_data'\n",
    "\n",
    "# Calculate the mean of 'column_2'\n",
    "try:\n",
    "    mean_column_2 = df1['column_2'].mean()\n",
    "    print(\"Mean of 'column_2':\", mean_column_2)\n",
    "except TypeError as e:\n",
    "    print(f\"Error: {e}\")"
   ]
  },
  {
   "cell_type": "code",
   "execution_count": 18,
   "id": "d1dd8b32-840e-48bf-a349-4f6a797d01d6",
   "metadata": {},
   "outputs": [],
   "source": [
    "# Explanation:\n",
    "# We use df1.loc[2, 'column_2'] to access and replace the value in the second row of column_2.\n",
    "\n",
    "# After replacing with a string value, the subsequent attempt to compute the mean of column_2 will \n",
    "# raise a TypeError because the column contains a mix of numeric and non-numeric (string) data. \n",
    "# The mean operation can only be performed on numeric data."
   ]
  },
  {
   "cell_type": "code",
   "execution_count": 19,
   "id": "71bb2b5f-a3dc-4c26-a001-8a2e72231acd",
   "metadata": {},
   "outputs": [],
   "source": [
    "# Q6. What do you understand about the windows function in pandas and list the types of windows\n",
    "# functions?"
   ]
  },
  {
   "cell_type": "code",
   "execution_count": 20,
   "id": "d1ff386a-94ec-4f26-b820-01d681434dc2",
   "metadata": {},
   "outputs": [],
   "source": [
    "# Windows Function in pandas:\n",
    "# In the context of pandas, a windows function is a way to perform calculations on a set of data points that\n",
    "# are related to the current data point, often defined by a sliding or rolling window. These functions are \n",
    "# particularly useful in time series data and allow analysts to compute aggregated statistics without needing\n",
    "# to iterate through the data manually.\n",
    "\n",
    "# When you apply a windows function to a DataFrame or Series in pandas, the function calculates a value \n",
    "# for each window of data (e.g., a moving average or cumulative sum) and places the result in a new Series or DataFrame.\n",
    "# Types of Window Functions in pandas:\n",
    "# Here are some common types of window functions available in pandas:"
   ]
  },
  {
   "cell_type": "code",
   "execution_count": 21,
   "id": "fe6ab8ce-cf1c-4d1d-8fc6-929374930513",
   "metadata": {},
   "outputs": [
    {
     "data": {
      "text/html": [
       "<div>\n",
       "<style scoped>\n",
       "    .dataframe tbody tr th:only-of-type {\n",
       "        vertical-align: middle;\n",
       "    }\n",
       "\n",
       "    .dataframe tbody tr th {\n",
       "        vertical-align: top;\n",
       "    }\n",
       "\n",
       "    .dataframe thead th {\n",
       "        text-align: right;\n",
       "    }\n",
       "</style>\n",
       "<table border=\"1\" class=\"dataframe\">\n",
       "  <thead>\n",
       "    <tr style=\"text-align: right;\">\n",
       "      <th></th>\n",
       "      <th>column_1</th>\n",
       "      <th>column_2</th>\n",
       "      <th>column_3</th>\n",
       "      <th>column_4</th>\n",
       "      <th>column_5</th>\n",
       "      <th>column_6</th>\n",
       "      <th>expanding_sum</th>\n",
       "    </tr>\n",
       "  </thead>\n",
       "  <tbody>\n",
       "    <tr>\n",
       "      <th>1</th>\n",
       "      <td>0.938858</td>\n",
       "      <td>0.309664</td>\n",
       "      <td>0.689337</td>\n",
       "      <td>0.628726</td>\n",
       "      <td>0.760672</td>\n",
       "      <td>0.821010</td>\n",
       "      <td>0.938858</td>\n",
       "    </tr>\n",
       "    <tr>\n",
       "      <th>2</th>\n",
       "      <td>0.767570</td>\n",
       "      <td>string_data</td>\n",
       "      <td>0.893086</td>\n",
       "      <td>0.143701</td>\n",
       "      <td>0.636915</td>\n",
       "      <td>0.057981</td>\n",
       "      <td>1.706428</td>\n",
       "    </tr>\n",
       "    <tr>\n",
       "      <th>3</th>\n",
       "      <td>0.556033</td>\n",
       "      <td>0.626362</td>\n",
       "      <td>0.772852</td>\n",
       "      <td>0.294530</td>\n",
       "      <td>0.150953</td>\n",
       "      <td>0.269605</td>\n",
       "      <td>2.262461</td>\n",
       "    </tr>\n",
       "    <tr>\n",
       "      <th>4</th>\n",
       "      <td>0.811039</td>\n",
       "      <td>0.5342</td>\n",
       "      <td>0.201812</td>\n",
       "      <td>0.078819</td>\n",
       "      <td>0.090774</td>\n",
       "      <td>0.316889</td>\n",
       "      <td>3.073500</td>\n",
       "    </tr>\n",
       "    <tr>\n",
       "      <th>5</th>\n",
       "      <td>0.694499</td>\n",
       "      <td>0.374627</td>\n",
       "      <td>0.530320</td>\n",
       "      <td>0.965440</td>\n",
       "      <td>0.874468</td>\n",
       "      <td>0.335201</td>\n",
       "      <td>3.767998</td>\n",
       "    </tr>\n",
       "    <tr>\n",
       "      <th>6</th>\n",
       "      <td>0.466170</td>\n",
       "      <td>0.697596</td>\n",
       "      <td>0.134963</td>\n",
       "      <td>0.121641</td>\n",
       "      <td>0.564632</td>\n",
       "      <td>0.043736</td>\n",
       "      <td>4.234168</td>\n",
       "    </tr>\n",
       "  </tbody>\n",
       "</table>\n",
       "</div>"
      ],
      "text/plain": [
       "   column_1     column_2  column_3  column_4  column_5  column_6  \\\n",
       "1  0.938858     0.309664  0.689337  0.628726  0.760672  0.821010   \n",
       "2  0.767570  string_data  0.893086  0.143701  0.636915  0.057981   \n",
       "3  0.556033     0.626362  0.772852  0.294530  0.150953  0.269605   \n",
       "4  0.811039       0.5342  0.201812  0.078819  0.090774  0.316889   \n",
       "5  0.694499     0.374627  0.530320  0.965440  0.874468  0.335201   \n",
       "6  0.466170     0.697596  0.134963  0.121641  0.564632  0.043736   \n",
       "\n",
       "   expanding_sum  \n",
       "1       0.938858  \n",
       "2       1.706428  \n",
       "3       2.262461  \n",
       "4       3.073500  \n",
       "5       3.767998  \n",
       "6       4.234168  "
      ]
     },
     "execution_count": 21,
     "metadata": {},
     "output_type": "execute_result"
    }
   ],
   "source": [
    "# Rolling: This is the most common type of window function in pandas. \n",
    "# It computes a statistic (like mean, sum, etc.) over a specified window of data points.\n",
    "\n",
    "# Example:\n",
    "df1['expanding_sum'] = df1['column_1'].expanding().sum()\n",
    "df1"
   ]
  },
  {
   "cell_type": "code",
   "execution_count": 22,
   "id": "db87978e-2e0f-4d3d-a162-526022137830",
   "metadata": {},
   "outputs": [
    {
     "data": {
      "text/html": [
       "<div>\n",
       "<style scoped>\n",
       "    .dataframe tbody tr th:only-of-type {\n",
       "        vertical-align: middle;\n",
       "    }\n",
       "\n",
       "    .dataframe tbody tr th {\n",
       "        vertical-align: top;\n",
       "    }\n",
       "\n",
       "    .dataframe thead th {\n",
       "        text-align: right;\n",
       "    }\n",
       "</style>\n",
       "<table border=\"1\" class=\"dataframe\">\n",
       "  <thead>\n",
       "    <tr style=\"text-align: right;\">\n",
       "      <th></th>\n",
       "      <th>column_1</th>\n",
       "      <th>column_2</th>\n",
       "      <th>column_3</th>\n",
       "      <th>column_4</th>\n",
       "      <th>column_5</th>\n",
       "      <th>column_6</th>\n",
       "      <th>expanding_sum</th>\n",
       "      <th>rolling_mean</th>\n",
       "    </tr>\n",
       "  </thead>\n",
       "  <tbody>\n",
       "    <tr>\n",
       "      <th>1</th>\n",
       "      <td>0.938858</td>\n",
       "      <td>0.309664</td>\n",
       "      <td>0.689337</td>\n",
       "      <td>0.628726</td>\n",
       "      <td>0.760672</td>\n",
       "      <td>0.821010</td>\n",
       "      <td>0.938858</td>\n",
       "      <td>NaN</td>\n",
       "    </tr>\n",
       "    <tr>\n",
       "      <th>2</th>\n",
       "      <td>0.767570</td>\n",
       "      <td>string_data</td>\n",
       "      <td>0.893086</td>\n",
       "      <td>0.143701</td>\n",
       "      <td>0.636915</td>\n",
       "      <td>0.057981</td>\n",
       "      <td>1.706428</td>\n",
       "      <td>NaN</td>\n",
       "    </tr>\n",
       "    <tr>\n",
       "      <th>3</th>\n",
       "      <td>0.556033</td>\n",
       "      <td>0.626362</td>\n",
       "      <td>0.772852</td>\n",
       "      <td>0.294530</td>\n",
       "      <td>0.150953</td>\n",
       "      <td>0.269605</td>\n",
       "      <td>2.262461</td>\n",
       "      <td>0.754154</td>\n",
       "    </tr>\n",
       "    <tr>\n",
       "      <th>4</th>\n",
       "      <td>0.811039</td>\n",
       "      <td>0.5342</td>\n",
       "      <td>0.201812</td>\n",
       "      <td>0.078819</td>\n",
       "      <td>0.090774</td>\n",
       "      <td>0.316889</td>\n",
       "      <td>3.073500</td>\n",
       "      <td>0.711547</td>\n",
       "    </tr>\n",
       "    <tr>\n",
       "      <th>5</th>\n",
       "      <td>0.694499</td>\n",
       "      <td>0.374627</td>\n",
       "      <td>0.530320</td>\n",
       "      <td>0.965440</td>\n",
       "      <td>0.874468</td>\n",
       "      <td>0.335201</td>\n",
       "      <td>3.767998</td>\n",
       "      <td>0.687190</td>\n",
       "    </tr>\n",
       "    <tr>\n",
       "      <th>6</th>\n",
       "      <td>0.466170</td>\n",
       "      <td>0.697596</td>\n",
       "      <td>0.134963</td>\n",
       "      <td>0.121641</td>\n",
       "      <td>0.564632</td>\n",
       "      <td>0.043736</td>\n",
       "      <td>4.234168</td>\n",
       "      <td>0.657236</td>\n",
       "    </tr>\n",
       "  </tbody>\n",
       "</table>\n",
       "</div>"
      ],
      "text/plain": [
       "   column_1     column_2  column_3  column_4  column_5  column_6  \\\n",
       "1  0.938858     0.309664  0.689337  0.628726  0.760672  0.821010   \n",
       "2  0.767570  string_data  0.893086  0.143701  0.636915  0.057981   \n",
       "3  0.556033     0.626362  0.772852  0.294530  0.150953  0.269605   \n",
       "4  0.811039       0.5342  0.201812  0.078819  0.090774  0.316889   \n",
       "5  0.694499     0.374627  0.530320  0.965440  0.874468  0.335201   \n",
       "6  0.466170     0.697596  0.134963  0.121641  0.564632  0.043736   \n",
       "\n",
       "   expanding_sum  rolling_mean  \n",
       "1       0.938858           NaN  \n",
       "2       1.706428           NaN  \n",
       "3       2.262461      0.754154  \n",
       "4       3.073500      0.711547  \n",
       "5       3.767998      0.687190  \n",
       "6       4.234168      0.657236  "
      ]
     },
     "execution_count": 22,
     "metadata": {},
     "output_type": "execute_result"
    }
   ],
   "source": [
    "# Expanding: This function starts from the beginning of the time series and \n",
    "# increases the window size until it encompasses all the data.\n",
    "\n",
    "# Example:\n",
    "df1['rolling_mean'] = df1['column_1'].rolling(window=3).mean()\n",
    "df1"
   ]
  },
  {
   "cell_type": "code",
   "execution_count": 23,
   "id": "eb3c7822-3126-43b1-a37f-0af96502d9a8",
   "metadata": {},
   "outputs": [
    {
     "data": {
      "text/html": [
       "<div>\n",
       "<style scoped>\n",
       "    .dataframe tbody tr th:only-of-type {\n",
       "        vertical-align: middle;\n",
       "    }\n",
       "\n",
       "    .dataframe tbody tr th {\n",
       "        vertical-align: top;\n",
       "    }\n",
       "\n",
       "    .dataframe thead th {\n",
       "        text-align: right;\n",
       "    }\n",
       "</style>\n",
       "<table border=\"1\" class=\"dataframe\">\n",
       "  <thead>\n",
       "    <tr style=\"text-align: right;\">\n",
       "      <th></th>\n",
       "      <th>column_1</th>\n",
       "      <th>column_2</th>\n",
       "      <th>column_3</th>\n",
       "      <th>column_4</th>\n",
       "      <th>column_5</th>\n",
       "      <th>column_6</th>\n",
       "      <th>expanding_sum</th>\n",
       "      <th>rolling_mean</th>\n",
       "      <th>ewma</th>\n",
       "    </tr>\n",
       "  </thead>\n",
       "  <tbody>\n",
       "    <tr>\n",
       "      <th>1</th>\n",
       "      <td>0.938858</td>\n",
       "      <td>0.309664</td>\n",
       "      <td>0.689337</td>\n",
       "      <td>0.628726</td>\n",
       "      <td>0.760672</td>\n",
       "      <td>0.821010</td>\n",
       "      <td>0.938858</td>\n",
       "      <td>NaN</td>\n",
       "      <td>0.938858</td>\n",
       "    </tr>\n",
       "    <tr>\n",
       "      <th>2</th>\n",
       "      <td>0.767570</td>\n",
       "      <td>string_data</td>\n",
       "      <td>0.893086</td>\n",
       "      <td>0.143701</td>\n",
       "      <td>0.636915</td>\n",
       "      <td>0.057981</td>\n",
       "      <td>1.706428</td>\n",
       "      <td>NaN</td>\n",
       "      <td>0.836085</td>\n",
       "    </tr>\n",
       "    <tr>\n",
       "      <th>3</th>\n",
       "      <td>0.556033</td>\n",
       "      <td>0.626362</td>\n",
       "      <td>0.772852</td>\n",
       "      <td>0.294530</td>\n",
       "      <td>0.150953</td>\n",
       "      <td>0.269605</td>\n",
       "      <td>2.262461</td>\n",
       "      <td>0.754154</td>\n",
       "      <td>0.703429</td>\n",
       "    </tr>\n",
       "    <tr>\n",
       "      <th>4</th>\n",
       "      <td>0.811039</td>\n",
       "      <td>0.5342</td>\n",
       "      <td>0.201812</td>\n",
       "      <td>0.078819</td>\n",
       "      <td>0.090774</td>\n",
       "      <td>0.316889</td>\n",
       "      <td>3.073500</td>\n",
       "      <td>0.711547</td>\n",
       "      <td>0.748128</td>\n",
       "    </tr>\n",
       "    <tr>\n",
       "      <th>5</th>\n",
       "      <td>0.694499</td>\n",
       "      <td>0.374627</td>\n",
       "      <td>0.530320</td>\n",
       "      <td>0.965440</td>\n",
       "      <td>0.874468</td>\n",
       "      <td>0.335201</td>\n",
       "      <td>3.767998</td>\n",
       "      <td>0.687190</td>\n",
       "      <td>0.727541</td>\n",
       "    </tr>\n",
       "    <tr>\n",
       "      <th>6</th>\n",
       "      <td>0.466170</td>\n",
       "      <td>0.697596</td>\n",
       "      <td>0.134963</td>\n",
       "      <td>0.121641</td>\n",
       "      <td>0.564632</td>\n",
       "      <td>0.043736</td>\n",
       "      <td>4.234168</td>\n",
       "      <td>0.657236</td>\n",
       "      <td>0.632032</td>\n",
       "    </tr>\n",
       "  </tbody>\n",
       "</table>\n",
       "</div>"
      ],
      "text/plain": [
       "   column_1     column_2  column_3  column_4  column_5  column_6  \\\n",
       "1  0.938858     0.309664  0.689337  0.628726  0.760672  0.821010   \n",
       "2  0.767570  string_data  0.893086  0.143701  0.636915  0.057981   \n",
       "3  0.556033     0.626362  0.772852  0.294530  0.150953  0.269605   \n",
       "4  0.811039       0.5342  0.201812  0.078819  0.090774  0.316889   \n",
       "5  0.694499     0.374627  0.530320  0.965440  0.874468  0.335201   \n",
       "6  0.466170     0.697596  0.134963  0.121641  0.564632  0.043736   \n",
       "\n",
       "   expanding_sum  rolling_mean      ewma  \n",
       "1       0.938858           NaN  0.938858  \n",
       "2       1.706428           NaN  0.836085  \n",
       "3       2.262461      0.754154  0.703429  \n",
       "4       3.073500      0.711547  0.748128  \n",
       "5       3.767998      0.687190  0.727541  \n",
       "6       4.234168      0.657236  0.632032  "
      ]
     },
     "execution_count": 23,
     "metadata": {},
     "output_type": "execute_result"
    }
   ],
   "source": [
    "# EWMA (Exponentially Weighted Moving Average): It gives more weight to the most recent \n",
    "# observations, making it sensitive to sudden changes in the data.\n",
    "\n",
    "# Example:\n",
    "df1['ewma'] = df1['column_1'].ewm(span=5).mean()\n",
    "df1"
   ]
  },
  {
   "cell_type": "code",
   "execution_count": 24,
   "id": "5659986d-d740-4345-9133-18062babe63c",
   "metadata": {},
   "outputs": [],
   "source": [
    "# Q7. Write a code to print only the current month and year at the time of answering this question.\n",
    "# [Hint: Use pandas.datetime function]"
   ]
  },
  {
   "cell_type": "code",
   "execution_count": 25,
   "id": "df5c7fd2-a79e-4d52-a460-f3e37df2bc3e",
   "metadata": {},
   "outputs": [
    {
     "name": "stdout",
     "output_type": "stream",
     "text": [
      "Current Month: 12\n",
      "Current Year: 2023\n"
     ]
    }
   ],
   "source": [
    "import pandas as pd\n",
    "\n",
    "# Get the current timestamp\n",
    "current_timestamp = pd.Timestamp.now()\n",
    "\n",
    "# Extract the month and year\n",
    "current_month = current_timestamp.month\n",
    "current_year = current_timestamp.year\n",
    "\n",
    "print(f\"Current Month: {current_month}\")\n",
    "print(f\"Current Year: {current_year}\")\n"
   ]
  },
  {
   "cell_type": "code",
   "execution_count": 26,
   "id": "76fa2d90-65fd-43bf-9389-49955912eb22",
   "metadata": {},
   "outputs": [],
   "source": [
    "# Q8. Write a Python program that takes in two dates as input (in the format YYYY-MM-DD) and\n",
    "# calculates the difference between them in days, hours, and minutes using Pandas time delta. The\n",
    "# program should prompt the user to enter the dates and display the result."
   ]
  },
  {
   "cell_type": "code",
   "execution_count": 30,
   "id": "d382de45-7cfb-459f-8802-9572a7ccaf0d",
   "metadata": {},
   "outputs": [
    {
     "name": "stdin",
     "output_type": "stream",
     "text": [
      "Enter the start date (YYYY-MM-DD format):  2002-02-08\n",
      "Enter the end date (YYYY-MM-DD format):  2022-02-02\n"
     ]
    },
    {
     "name": "stdout",
     "output_type": "stream",
     "text": [
      "\n",
      "Difference between 2002-02-08 and 2022-02-02:\n",
      "Days: 7299, Hours: 0, Minutes: 0\n"
     ]
    }
   ],
   "source": [
    "import pandas as pd\n",
    "\n",
    "def calculate_time_difference(start_date, end_date):\n",
    "    \"\"\"\n",
    "    Calculate the difference between two dates in days, hours, and minutes.\n",
    "    \"\"\"\n",
    "    # Convert the dates to pandas Timestamp objects\n",
    "    start_timestamp = pd.Timestamp(start_date)\n",
    "    end_timestamp = pd.Timestamp(end_date)\n",
    "    \n",
    "    # Calculate the time difference\n",
    "    time_difference = end_timestamp - start_timestamp\n",
    "    \n",
    "    # Extract days, hours, and minutes from the time difference\n",
    "    days = time_difference.days\n",
    "    hours = time_difference.components.hours\n",
    "    minutes = time_difference.components.minutes\n",
    "    \n",
    "    return days, hours, minutes\n",
    "\n",
    "def main():\n",
    "    # Prompt the user to enter the two dates\n",
    "    start_date = input(\"Enter the start date (YYYY-MM-DD format): \")\n",
    "    end_date = input(\"Enter the end date (YYYY-MM-DD format): \")\n",
    "    \n",
    "    # Calculate the time difference\n",
    "    days, hours, minutes = calculate_time_difference(start_date, end_date)\n",
    "    \n",
    "    # Display the result\n",
    "    print(f\"\\nDifference between {start_date} and {end_date}:\")\n",
    "    print(f\"Days: {days}, Hours: {hours}, Minutes: {minutes}\")\n",
    "\n",
    "if __name__ == \"__main__\":\n",
    "    main()\n"
   ]
  },
  {
   "cell_type": "code",
   "execution_count": 31,
   "id": "7c525e03-6179-4b7a-a2af-2dff03faebe7",
   "metadata": {},
   "outputs": [],
   "source": [
    "# Q9. Write a Python program that reads a CSV file containing categorical data and converts a specified\n",
    "# column to a categorical data type. The program should prompt the user to enter the file path, column\n",
    "# name, and category order, and then display the sorted data."
   ]
  },
  {
   "cell_type": "code",
   "execution_count": 32,
   "id": "a297b4d1-37ae-4b6a-872b-c83acd66fc13",
   "metadata": {},
   "outputs": [
    {
     "name": "stdin",
     "output_type": "stream",
     "text": [
      "Enter the CSV file path:  sales_data.csv\n",
      "Enter the column name to convert:  Sales\n",
      "Enter the category order separated by commas (e.g., Cat1,Cat2,...):  2000,5000\n"
     ]
    },
    {
     "name": "stdout",
     "output_type": "stream",
     "text": [
      "\n",
      "Sorted Data:\n",
      "         Date Product_Category Sales\n",
      "0  2023-01-01      Electronics   NaN\n",
      "1  2023-01-02         Clothing   NaN\n",
      "2  2023-01-03      Electronics   NaN\n",
      "3  2023-01-04          Grocery   NaN\n",
      "4  2023-01-05         Clothing   NaN\n"
     ]
    }
   ],
   "source": [
    "import pandas as pd\n",
    "\n",
    "def convert_to_categorical(df, column_name, category_order):\n",
    "    \"\"\"\n",
    "    Convert a specified column to categorical data type and sort the data based on category order.\n",
    "    \"\"\"\n",
    "    # Convert the specified column to categorical\n",
    "    df[column_name] = pd.Categorical(df[column_name], categories=category_order, ordered=True)\n",
    "    \n",
    "    # Sort the DataFrame based on the categorical column\n",
    "    sorted_df = df.sort_values(column_name)\n",
    "    \n",
    "    return sorted_df\n",
    "\n",
    "def main():\n",
    "    # Prompt the user to enter the file path, column name, and category order\n",
    "    file_path = input(\"Enter the CSV file path: \")\n",
    "    column_name = input(\"Enter the column name to convert: \")\n",
    "    category_order_str = input(\"Enter the category order separated by commas (e.g., Cat1,Cat2,...): \")\n",
    "    category_order = category_order_str.split(',')\n",
    "    \n",
    "    # Read the CSV file into a DataFrame\n",
    "    df = pd.read_csv(file_path)\n",
    "    \n",
    "    # Convert the specified column to categorical and sort the data\n",
    "    sorted_df = convert_to_categorical(df, column_name, category_order)\n",
    "    \n",
    "    # Display the sorted data\n",
    "    print(\"\\nSorted Data:\")\n",
    "    print(sorted_df)\n",
    "\n",
    "if __name__ == \"__main__\":\n",
    "    main()\n"
   ]
  },
  {
   "cell_type": "code",
   "execution_count": 33,
   "id": "ee3eef0a-3fce-4d74-89c2-a2d1514ef202",
   "metadata": {},
   "outputs": [],
   "source": [
    "# Q10. Write a Python program that reads a CSV file containing sales data for different products and\n",
    "# visualizes the data using a stacked bar chart to show the sales of each product category over time. The\n",
    "# program should prompt the user to enter the file path and display the chart."
   ]
  },
  {
   "cell_type": "code",
   "execution_count": 34,
   "id": "879f4054-7976-4f98-830e-49fac1f8c9bc",
   "metadata": {},
   "outputs": [
    {
     "name": "stdout",
     "output_type": "stream",
     "text": [
      "CSV file containing sales data created successfully!\n"
     ]
    }
   ],
   "source": [
    "import csv\n",
    "\n",
    "def create_sales_csv(file_name, sales_data):\n",
    "    \"\"\"\n",
    "    Create a CSV file containing sales data.\n",
    "    \"\"\"\n",
    "    with open(file_name, 'w', newline='') as csvfile:\n",
    "        csvwriter = csv.writer(csvfile)\n",
    "        \n",
    "        # Write the header\n",
    "        csvwriter.writerow(['Date', 'Product_Category', 'Sales'])\n",
    "        \n",
    "        # Write the sales data\n",
    "        for sale in sales_data:\n",
    "            csvwriter.writerow(sale)\n",
    "\n",
    "def main():\n",
    "    # Define the sales data\n",
    "    sales_data = [\n",
    "        ['2023-01-01', 'Electronics', 5000],\n",
    "        ['2023-01-02', 'Clothing', 3000],\n",
    "        ['2023-01-03', 'Electronics', 5500],\n",
    "        ['2023-01-04', 'Grocery', 2000],\n",
    "        ['2023-01-05', 'Clothing', 3200]\n",
    "    ]\n",
    "    \n",
    "    # Create the sales CSV file\n",
    "    create_sales_csv('sales_data.csv', sales_data)\n",
    "    print(\"CSV file containing sales data created successfully!\")\n",
    "\n",
    "if __name__ == \"__main__\":\n",
    "    main()\n"
   ]
  },
  {
   "cell_type": "code",
   "execution_count": 35,
   "id": "5b0216f0-5621-4221-be4a-7bb10dfb377e",
   "metadata": {},
   "outputs": [
    {
     "name": "stdin",
     "output_type": "stream",
     "text": [
      "Enter the CSV file path:  sales_data.csv\n"
     ]
    },
    {
     "data": {
      "image/png": "[encoded data removed]",
      "text/plain": [
       "<Figure size 1200x600 with 1 Axes>"
      ]
     },
     "metadata": {},
     "output_type": "display_data"
    }
   ],
   "source": [
    "import pandas as pd\n",
    "import matplotlib.pyplot as plt\n",
    "\n",
    "def visualize_sales_data(file_path):\n",
    "    \"\"\"\n",
    "    Read the CSV file and visualize sales data using a stacked bar chart.\n",
    "    \"\"\"\n",
    "    # Read the CSV file into a DataFrame\n",
    "    df = pd.read_csv(file_path)\n",
    "    \n",
    "    # Assuming the DataFrame has columns 'Date', 'Product_Category', and 'Sales'\n",
    "    # Convert 'Date' column to datetime format\n",
    "    df['Date'] = pd.to_datetime(df['Date'])\n",
    "    \n",
    "    # Group the data by 'Date' and 'Product_Category' and sum the sales\n",
    "    grouped_data = df.groupby(['Date', 'Product_Category'])['Sales'].sum().unstack(fill_value=0)\n",
    "    \n",
    "    # Create a stacked bar chart\n",
    "    stacked_bar = grouped_data.plot(kind='bar', stacked=True, figsize=(12, 6))\n",
    "    \n",
    "    # Add titles and labels\n",
    "    plt.title('Sales of Each Product Category Over Time')\n",
    "    plt.xlabel('Date')\n",
    "    plt.ylabel('Sales')\n",
    "    plt.legend(title='Product Category', bbox_to_anchor=(1.05, 1), loc='upper left')\n",
    "    \n",
    "    # Display the chart\n",
    "    plt.tight_layout()\n",
    "    plt.show()\n",
    "\n",
    "def main():\n",
    "    # Prompt the user to enter the file path\n",
    "    file_path = input(\"Enter the CSV file path: \")\n",
    "    \n",
    "    # Visualize the sales data\n",
    "    visualize_sales_data(file_path)\n",
    "\n",
    "if __name__ == \"__main__\":\n",
    "    main()\n"
   ]
  },
  {
   "cell_type": "code",
   "execution_count": 36,
   "id": "f23381c0-b8d5-40a0-a733-2142db50c8e9",
   "metadata": {},
   "outputs": [],
   "source": [
    "# Q11. You are given a CSV file containing student data that includes the student ID and their test score. Write\n",
    "# a Python program that reads the CSV file, calculates the mean, median, and mode of the test scores, and\n",
    "# displays the results in a table.\n",
    "# The program should do the followingM\n",
    "# I Prompt the user to enter the file path of the CSV file containing the student dataR\n",
    "# I Read the CSV file into a Pandas DataFrameR\n",
    "# I Calculate the mean, median, and mode of the test scores using Pandas toolsR\n",
    "# I Display the mean, median, and mode in a table.\n",
    "# Assume the CSV file contains the following columnsM\n",
    "# I Student ID: The ID of the studentR\n",
    "# I Test Score: The score of the student's test.\n",
    "# Example usage of the program:\n",
    "# Enter the file path of the CSV file containing the student data: student_data.csv"
   ]
  },
  {
   "cell_type": "code",
   "execution_count": 37,
   "id": "e0a1dbe8-68d2-4677-b555-7625db9bf984",
   "metadata": {},
   "outputs": [
    {
     "name": "stdout",
     "output_type": "stream",
     "text": [
      "CSV file containing student data created successfully!\n"
     ]
    }
   ],
   "source": [
    "import csv\n",
    "\n",
    "def create_student_data_csv(file_name, data):\n",
    "    \"\"\"\n",
    "    Create a CSV file containing student data.\n",
    "    \"\"\"\n",
    "    with open(file_name, 'w', newline='') as csvfile:\n",
    "        csvwriter = csv.writer(csvfile)\n",
    "        \n",
    "        # Write the header\n",
    "        csvwriter.writerow(['Student ID', 'Test Score'])\n",
    "        \n",
    "        # Write the data\n",
    "        for row in data:\n",
    "            csvwriter.writerow(row)\n",
    "\n",
    "def main():\n",
    "    # Define the student data\n",
    "    data = [\n",
    "        [1, 85],\n",
    "        [2, 90],\n",
    "        [3, 80],\n",
    "        [4, 75],\n",
    "        [5, 85],\n",
    "        [6, 82],\n",
    "        [7, 78],\n",
    "        [8, 85],\n",
    "        [9, 90],\n",
    "        [10, 85]\n",
    "    ]\n",
    "    \n",
    "    # Create the CSV file\n",
    "    create_student_data_csv('student_data.csv', data)\n",
    "    print(\"CSV file containing student data created successfully!\")\n",
    "\n",
    "if __name__ == \"__main__\":\n",
    "    main()\n"
   ]
  },
  {
   "cell_type": "code",
   "execution_count": 38,
   "id": "c86e4bf5-d42b-4b39-8886-0c9765c74c71",
   "metadata": {},
   "outputs": [
    {
     "name": "stdin",
     "output_type": "stream",
     "text": [
      "Enter the file path of the CSV file containing the student data:  student_data.csv\n"
     ]
    },
    {
     "name": "stdout",
     "output_type": "stream",
     "text": [
      "\n",
      "Statistics of Test Scores:\n",
      "  Statistic  Value\n",
      "0      Mean   83.5\n",
      "1    Median   85.0\n",
      "2      Mode   85.0\n"
     ]
    }
   ],
   "source": [
    "import pandas as pd\n",
    "from scipy import stats\n",
    "\n",
    "def calculate_stats(file_path):\n",
    "    \"\"\"\n",
    "    Read the CSV file and calculate the mean, median, and mode of the test scores.\n",
    "    \"\"\"\n",
    "    # Read the CSV file into a DataFrame\n",
    "    df = pd.read_csv(file_path)\n",
    "    \n",
    "    # Calculate the mean, median, and mode of the test scores\n",
    "    mean_score = df['Test Score'].mean()\n",
    "    median_score = df['Test Score'].median()\n",
    "    mode_score = stats.mode(df['Test Score'],keepdims=True)[0][0]\n",
    "    \n",
    "    # Create a DataFrame to display the results\n",
    "    results_df = pd.DataFrame({\n",
    "        'Statistic': ['Mean', 'Median', 'Mode'],\n",
    "        'Value': [mean_score, median_score, mode_score]\n",
    "    })\n",
    "    \n",
    "    return results_df\n",
    "\n",
    "def main():\n",
    "    # Prompt the user to enter the file path\n",
    "    file_path = input(\"Enter the file path of the CSV file containing the student data: \")\n",
    "    \n",
    "    # Calculate the statistics\n",
    "    results_df = calculate_stats(file_path)\n",
    "    \n",
    "    # Display the results\n",
    "    print(\"\\nStatistics of Test Scores:\")\n",
    "    print(results_df)\n",
    "\n",
    "if __name__ == \"__main__\":\n",
    "    main()\n"
   ]
  },
  {
   "cell_type": "code",
   "execution_count": null,
   "id": "20ffa82d-ea0c-4fb6-ba95-27346f363e2f",
   "metadata": {},
   "outputs": [],
   "source": [
    "import pandas as pd\n",
    "from scipy import stats\n",
    "\n",
    "def calculate_stats(file_path):\n",
    "    \"\"\"\n",
    "    Read the CSV file and calculate the mean, median, and mode of the test scores.\n",
    "    \"\"\"\n",
    "    # Read the CSV file into a DataFrame\n",
    "    df = pd.read_csv(file_path)\n",
    "    \n",
    "    # Calculate the mean, median, and mode of the test scores\n",
    "    mean_score = df['Test Score'].mean()\n",
    "    median_score = df['Test Score'].median()\n",
    "    mode_score = stats.mode(df['Test Score'])[0][0]\n",
    "    \n",
    "    # Create a DataFrame to display the results\n",
    "    results_df = pd.DataFrame({\n",
    "        'Statistic': ['Mean', 'Median', 'Mode'],\n",
    "        'Value': [mean_score, median_score, f\"{', '.join(map(str, mode_score))}\"]\n",
    "    })\n",
    "    \n",
    "    return results_df\n",
    "\n",
    "def main():\n",
    "    # Prompt the user to enter the file path\n",
    "    file_path = input(\"Enter the file path of the CSV file containing the student data: \")\n",
    "    \n",
    "    # Calculate the statistics\n",
    "    results_df = calculate_stats(file_path)\n",
    "    \n",
    "    # Display the results\n",
    "    print(\"\\nStatistics of Test Scores:\")\n",
    "    print(results_df.to_string(index=False))\n",
    "\n",
    "if __name__ == \"__main__\":\n",
    "    main()\n"
   ]
  },
  {
   "cell_type": "code",
   "execution_count": null,
   "id": "ee126b1d-9418-4b4f-a8cb-0544228d0785",
   "metadata": {},
   "outputs": [],
   "source": []
  },
  {
   "cell_type": "code",
   "execution_count": null,
   "id": "d4304376-0eb2-4416-b215-f725f8a9c563",
   "metadata": {},
   "outputs": [],
   "source": []
  }
 ],
 "metadata": {
  "kernelspec": {
   "display_name": "Python 3 (ipykernel)",
   "language": "python",
   "name": "python3"
  },
  "language_info": {
   "codemirror_mode": {
    "name": "ipython",
    "version": 3
   },
   "file_extension": ".py",
   "mimetype": "text/x-python",
   "name": "python",
   "nbconvert_exporter": "python",
   "pygments_lexer": "ipython3",
   "version": "3.10.8"
  }
 },
 "nbformat": 4,
 "nbformat_minor": 5
}
