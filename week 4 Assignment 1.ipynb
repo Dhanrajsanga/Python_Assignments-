{
 "cells": [
  {
   "cell_type": "code",
   "execution_count": 1,
   "id": "14cac3d3-1ad0-49fe-9ba9-8b32624b1664",
   "metadata": {},
   "outputs": [],
   "source": [
    "# Q1, Create a vehicle class with an init method having instance variables as name_of_vehicle, max_speed\n",
    "# and average_of_vehicle."
   ]
  },
  {
   "cell_type": "code",
   "execution_count": 2,
   "id": "e95324db-5e77-403b-b0fa-591cfb526846",
   "metadata": {},
   "outputs": [],
   "source": [
    "class Vehicle:\n",
    "    def __init__(self, name_of_vehicle, max_speed, average_of_vehicle):\n",
    "        self.name_of_vehicle = name_of_vehicle\n",
    "        self.max_speed = max_speed\n",
    "        self.average_of_vehicle = average_of_vehicle\n",
    "\n",
    "# Example usage:\n",
    "car = Vehicle(name_of_vehicle=\"Car\", max_speed=200, average_of_vehicle=30)\n"
   ]
  },
  {
   "cell_type": "code",
   "execution_count": 3,
   "id": "47e5244d-b9bf-4a1a-8f1e-d08c30cf09ad",
   "metadata": {},
   "outputs": [],
   "source": [
    "# Q2. Create a child class car from the vehicle class created in Que 1, which will inherit the vehicle class.\n",
    "# Create a method named seating_capacity which takes capacity as an argument and returns the name of\n",
    "# the vehicle and its seating capacity."
   ]
  },
  {
   "cell_type": "code",
   "execution_count": 4,
   "id": "3439c5ee-f4b3-4a96-bb2d-9a65342e42e9",
   "metadata": {},
   "outputs": [
    {
     "name": "stdout",
     "output_type": "stream",
     "text": [
      "Car has a seating capacity of 5 people.\n"
     ]
    }
   ],
   "source": [
    "class Vehicle:\n",
    "    def __init__(self, name_of_vehicle, max_speed, average_of_vehicle):\n",
    "        self.name_of_vehicle = name_of_vehicle\n",
    "        self.max_speed = max_speed\n",
    "        self.average_of_vehicle = average_of_vehicle\n",
    "\n",
    "class Car(Vehicle):\n",
    "    def seating_capacity(self, capacity):\n",
    "        return f\"{self.name_of_vehicle} has a seating capacity of {capacity} people.\"\n",
    "\n",
    "# Example usage:\n",
    "car_instance = Car(name_of_vehicle=\"Car\", max_speed=200, average_of_vehicle=30)\n",
    "capacity_result = car_instance.seating_capacity(capacity=5)\n",
    "print(capacity_result)\n"
   ]
  },
  {
   "cell_type": "code",
   "execution_count": 5,
   "id": "acbe902f-377c-459c-b65e-98ac05011c88",
   "metadata": {},
   "outputs": [],
   "source": [
    "# Q3. What is multiple inheritance? Write a python code to demonstrate multiple inheritance."
   ]
  },
  {
   "cell_type": "code",
   "execution_count": 6,
   "id": "458b62eb-fcdc-426f-a435-a3e0985b4ee9",
   "metadata": {},
   "outputs": [
    {
     "name": "stdout",
     "output_type": "stream",
     "text": [
      "Engine started.\n",
      "Electric motor charging.\n",
      "Hybrid car is driving.\n"
     ]
    }
   ],
   "source": [
    "# Multiple inheritance in Python refers to a situation in which a class can inherit attributes and \n",
    "# methods from more than one parent class. \n",
    "# This means that a child class can inherit from multiple parent classes.\n",
    "\n",
    "class Engine:\n",
    "    def start(self):\n",
    "        return \"Engine started.\"\n",
    "\n",
    "class ElectricMotor:\n",
    "    def charge(self):\n",
    "        return \"Electric motor charging.\"\n",
    "\n",
    "class HybridCar(Engine, ElectricMotor):\n",
    "    def drive(self):\n",
    "        return \"Hybrid car is driving.\"\n",
    "\n",
    "# Create an instance of the HybridCar class\n",
    "my_hybrid_car = HybridCar()\n",
    "\n",
    "# Demonstrate multiple inheritance\n",
    "print(my_hybrid_car.start())   # Inherited from Engine class\n",
    "print(my_hybrid_car.charge())  # Inherited from ElectricMotor class\n",
    "print(my_hybrid_car.drive())   # Defined in HybridCar class\n",
    "\n"
   ]
  },
  {
   "cell_type": "code",
   "execution_count": 7,
   "id": "5bc547f4-6cd1-47c3-be33-d956d5fae2bd",
   "metadata": {},
   "outputs": [],
   "source": [
    "# Q4. What are getter and setter in python? Create a class and create a getter and a setter method in this\n",
    "# class."
   ]
  },
  {
   "cell_type": "code",
   "execution_count": 8,
   "id": "7bb395e2-c26e-4aff-8bff-aa7a2f2dfc0f",
   "metadata": {},
   "outputs": [
    {
     "name": "stdout",
     "output_type": "stream",
     "text": [
      "Width: 10\n",
      "Height: 5\n",
      "Updated Width: 15\n",
      "Updated Height: 8\n"
     ]
    }
   ],
   "source": [
    "class Rectangle:\n",
    "    def __init__(self, width, height):\n",
    "        self._width = width  # Private attribute\n",
    "        self._height = height  # Private attribute\n",
    "\n",
    "    # Getter method for width\n",
    "    def get_width(self):\n",
    "        return self._width\n",
    "\n",
    "    # Getter method for height\n",
    "    def get_height(self):\n",
    "        return self._height\n",
    "\n",
    "    # Setter method for width\n",
    "    def set_width(self, width):\n",
    "        if width > 0:\n",
    "            self._width = width\n",
    "        else:\n",
    "            print(\"Width must be greater than 0.\")\n",
    "\n",
    "    # Setter method for height\n",
    "    def set_height(self, height):\n",
    "        if height > 0:\n",
    "            self._height = height\n",
    "        else:\n",
    "            print(\"Height must be greater than 0.\")\n",
    "\n",
    "# Example usage:\n",
    "rectangle = Rectangle(width=10, height=5)\n",
    "\n",
    "# Using the getter methods\n",
    "print(\"Width:\", rectangle.get_width())\n",
    "print(\"Height:\", rectangle.get_height())\n",
    "\n",
    "# Using the setter methods\n",
    "rectangle.set_width(15)\n",
    "rectangle.set_height(8)\n",
    "\n",
    "# Check the updated values using the getter methods\n",
    "print(\"Updated Width:\", rectangle.get_width())\n",
    "print(\"Updated Height:\", rectangle.get_height())\n"
   ]
  },
  {
   "cell_type": "code",
   "execution_count": 9,
   "id": "4956e028-aa7f-45ae-96fb-de4910b7446b",
   "metadata": {},
   "outputs": [],
   "source": [
    "# Q5.What is method overriding in python? Write a python code to demonstrate method overriding.\n",
    "\n",
    "# Method overriding in Python refers to the ability of a child class to provide a specific implementation for a method that \n",
    "# is already defined in its parent class. .\n",
    "# This allows the child class to customize or extend the behavior of the inherited method."
   ]
  },
  {
   "cell_type": "code",
   "execution_count": 10,
   "id": "963ba59d-239a-467e-971a-5badf40358e4",
   "metadata": {},
   "outputs": [
    {
     "name": "stdout",
     "output_type": "stream",
     "text": [
      "Animal speaks.\n",
      "Dog barks.\n",
      "Cat meows.\n"
     ]
    }
   ],
   "source": [
    "class Animal:\n",
    "    def speak(self):\n",
    "        return \"Animal speaks.\"\n",
    "\n",
    "class Dog(Animal):\n",
    "    def speak(self):\n",
    "        return \"Dog barks.\"\n",
    "\n",
    "class Cat(Animal):\n",
    "    def speak(self):\n",
    "        return \"Cat meows.\"\n",
    "\n",
    "# Create instances of the classes\n",
    "animal = Animal()\n",
    "dog = Dog()\n",
    "cat = Cat()\n",
    "\n",
    "# Demonstrate method overriding\n",
    "print(animal.speak())  # Output: Animal speaks.\n",
    "print(dog.speak())     # Output: Dog barks.\n",
    "print(cat.speak())     # Output: Cat meows.\n"
   ]
  },
  {
   "cell_type": "code",
   "execution_count": null,
   "id": "bbb80c15-fcd4-41e3-b703-67aca20ec391",
   "metadata": {},
   "outputs": [],
   "source": []
  }
 ],
 "metadata": {
  "kernelspec": {
   "display_name": "Python 3 (ipykernel)",
   "language": "python",
   "name": "python3"
  },
  "language_info": {
   "codemirror_mode": {
    "name": "ipython",
    "version": 3
   },
   "file_extension": ".py",
   "mimetype": "text/x-python",
   "name": "python",
   "nbconvert_exporter": "python",
   "pygments_lexer": "ipython3",
   "version": "3.10.8"
  }
 },
 "nbformat": 4,
 "nbformat_minor": 5
}
