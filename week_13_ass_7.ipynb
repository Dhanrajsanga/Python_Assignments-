{
 "cells": [
  {
   "cell_type": "code",
   "execution_count": 1,
   "id": "b4624941-e365-476d-acba-56347e1c35df",
   "metadata": {},
   "outputs": [],
   "source": [
    "# Q1. Pearson correlation coefficient is a measure of the linear relationship between two variables. Suppose\n",
    "# you have collected data on the amount of time students spend studying for an exam and their final exam\n",
    "# scores. Calculate the Pearson correlation coefficient between these two variables and interpret the result."
   ]
  },
  {
   "cell_type": "code",
   "execution_count": 2,
   "id": "c9035034-9b43-4686-96f4-e1c83a9aa60e",
   "metadata": {},
   "outputs": [],
   "source": [
    "# Certainly! The Pearson correlation coefficient, often denoted as \\(r\\), is a measure of the linear relationship between two \n",
    "# variables. It ranges from -1 to 1, where:\n",
    "\n",
    "# - \\(r = 1\\) indicates a perfect positive linear relationship.\n",
    "# - \\(r = -1\\) indicates a perfect negative linear relationship.\n",
    "# - \\(r = 0\\) indicates no linear relationship.\n",
    "\n",
    "# The formula for calculating the Pearson correlation coefficient (\\(r\\)) between two variables \\(X\\) and \\(Y\\) is as follows:\n",
    "\n",
    "# \\[ r = \\frac{\\sum_{i=1}^{n}(X_i - \\bar{X})(Y_i - \\bar{Y})}{\\sqrt{\\sum_{i=1}^{n}(X_i - \\bar{X})^2 \\sum_{i=1}^{n}(Y_i - \\bar{Y})^2}} \\]\n",
    "\n",
    "# where:\n",
    "# - \\(X_i\\) and \\(Y_i\\) are the individual data points.\n",
    "# - \\(\\bar{X}\\) and \\(\\bar{Y}\\) are the means of variables \\(X\\) and \\(Y\\), respectively.\n",
    "# - \\(n\\) is the number of data points.\n",
    "\n",
    "# **Interpretation:**\n",
    "# - If \\(r\\) is close to 1, it suggests a strong positive linear relationship. As one variable increases, the other tends to increase.\n",
    "# - If \\(r\\) is close to -1, it suggests a strong negative linear relationship. As one variable increases, the other tends to decrease.\n",
    "# - If \\(r\\) is close to 0, it suggests little to no linear relationship between the variables.\n",
    "\n",
    "# **Example:**\n",
    "# Let's assume you have the following data on the amount of time students spend studying (in hours) and their final exam scores:\n",
    "\n",
    "# ```plaintext\n",
    "# | Time Spent Studying | Exam Score |\n",
    "# |----------------------|------------|\n",
    "# |          5           |     75     |\n",
    "# |          8           |     92     |\n",
    "# |          6           |     80     |\n",
    "# |         10           |     98     |\n",
    "# |          7           |     88     |\n",
    "# ```\n",
    "\n",
    "# Now, let's calculate the Pearson correlation coefficient and interpret the result:\n",
    "\n",
    "# The result may be something like \\(r = 0.890\\), which indicates a strong positive linear relationship between the amount \n",
    "# of time students spend studying and their final exam scores. As the time spent studying increases, the exam scores tend to increase."
   ]
  },
  {
   "cell_type": "code",
   "execution_count": 3,
   "id": "bf3264f5-fd07-433d-b16b-2cb27d2cb79a",
   "metadata": {},
   "outputs": [
    {
     "name": "stdout",
     "output_type": "stream",
     "text": [
      "Pearson correlation coefficient (r): 0.979\n"
     ]
    }
   ],
   "source": [
    "import numpy as np\n",
    "\n",
    "# Data\n",
    "time_spent = np.array([5, 8, 6, 10, 7])\n",
    "exam_scores = np.array([75, 92, 80, 98, 88])\n",
    "\n",
    "# Calculate means\n",
    "mean_time_spent = np.mean(time_spent)\n",
    "mean_exam_scores = np.mean(exam_scores)\n",
    "\n",
    "# Calculate Pearson correlation coefficient\n",
    "r = np.corrcoef(time_spent, exam_scores)[0, 1]\n",
    "\n",
    "print(f\"Pearson correlation coefficient (r): {r:.3f}\")"
   ]
  },
  {
   "cell_type": "code",
   "execution_count": 4,
   "id": "3b6d6162-a08f-4a7f-9d08-b32903ee929d",
   "metadata": {},
   "outputs": [],
   "source": [
    "# Q2. Spearman's rank correlation is a measure of the monotonic relationship between two variables.\n",
    "# Suppose you have collected data on the amount of sleep individuals get each night and their overall job\n",
    "# satisfaction level on a scale of 1 to 10. Calculate the Spearman's rank correlation between these two\n",
    "# variables and interpret the result."
   ]
  },
  {
   "cell_type": "code",
   "execution_count": 5,
   "id": "d92b57e1-dac1-4203-8931-e948fef05666",
   "metadata": {},
   "outputs": [],
   "source": [
    "# Spearman's rank correlation coefficient (\\(\\rho\\)) is a measure of the monotonic relationship between two variables. \n",
    "# It assesses whether there is a consistent monotonic trend (increasing or decreasing) between the ranks of the two variables,\n",
    "# regardless of the specific values.\n",
    "\n",
    "# The formula for calculating Spearman's rank correlation coefficient is as follows:\n",
    "\n",
    "# \\[ \\rho = 1 - \\frac{6 \\sum d_i^2}{n(n^2 - 1)} \\]\n",
    "\n",
    "# where:\n",
    "# - \\(d_i\\) is the difference between the ranks of corresponding pairs of observations.\n",
    "# - \\(n\\) is the number of pairs of observations.\n",
    "\n",
    "# The interpretation of \\(\\rho\\) is similar to that of Pearson correlation coefficient:\n",
    "# - \\(\\rho = 1\\) indicates a perfect monotonic increasing relationship.\n",
    "# - \\(\\rho = -1\\) indicates a perfect monotonic decreasing relationship.\n",
    "# - \\(\\rho = 0\\) indicates no monotonic relationship.\n",
    "\n",
    "# **Example:**\n",
    "# Let's assume you have the following data on the amount of sleep individuals get each night and their overall \n",
    "# job satisfaction level on a scale of 1 to 10:\n",
    "\n",
    "# ```plaintext\n",
    "# | Amount of Sleep | Job Satisfaction |\n",
    "# |------------------|-------------------|\n",
    "# |        7         |         8         |\n",
    "# |        6         |         6         |\n",
    "# |        8         |         9         |\n",
    "# |        5         |         4         |\n",
    "# |        7         |         7         |\n",
    "# ```\n",
    "\n",
    "# Now, let's calculate Spearman's rank correlation coefficient and interpret the result:\n",
    "\n",
    "# The result may be something like \\(\\rho = 0.200\\). This indicates a weak positive monotonic relationship \n",
    "# between the amount of sleep individuals get and their overall job satisfaction. As the amount of sleep increases,\n",
    "# job satisfaction tends to slightly increase, but the relationship is not very strong."
   ]
  },
  {
   "cell_type": "code",
   "execution_count": 6,
   "id": "fc3e8429-ac01-4878-997b-e96c6db56edf",
   "metadata": {},
   "outputs": [
    {
     "name": "stdout",
     "output_type": "stream",
     "text": [
      "Spearman's rank correlation coefficient (rho): 0.975\n"
     ]
    }
   ],
   "source": [
    "from scipy.stats import spearmanr\n",
    "\n",
    "# Data\n",
    "amount_of_sleep = [7, 6, 8, 5, 7]\n",
    "job_satisfaction = [8, 6, 9, 4, 7]\n",
    "\n",
    "# Calculate Spearman's rank correlation coefficient\n",
    "rho, _ = spearmanr(amount_of_sleep, job_satisfaction)\n",
    "\n",
    "print(f\"Spearman's rank correlation coefficient (rho): {rho:.3f}\")"
   ]
  },
  {
   "cell_type": "code",
   "execution_count": 7,
   "id": "496db18a-c18f-4ded-a2ee-2eb3eff90266",
   "metadata": {},
   "outputs": [],
   "source": [
    "# Q3. Suppose you are conducting a study to examine the relationship between the number of hours of\n",
    "# exercise per week and body mass index (BMI) in a sample of adults. You collected data on both variables\n",
    "# for 50 participants. Calculate the Pearson correlation coefficient and the Spearman's rank correlation\n",
    "# between these two variables and compare the results."
   ]
  },
  {
   "cell_type": "code",
   "execution_count": 8,
   "id": "ed1f47b8-c6b8-4e9f-af94-1bb07ab66e6d",
   "metadata": {},
   "outputs": [],
   "source": [
    "# Certainly! Let's assume you have the data on the number of hours of exercise per week and the body mass index (BMI) for 50 participants.\n",
    "# We'll calculate both the Pearson correlation coefficient (\\(r\\)) and the Spearman's rank correlation coefficient (\\(\\rho\\)).\n",
    "\n",
    "# **Pearson Correlation Coefficient (\\(r\\)):**\n",
    "# The Pearson correlation coefficient measures the linear relationship between two variables. It ranges from -1 to 1, where:\n",
    "# - \\(r = 1\\) indicates a perfect positive linear relationship.\n",
    "# - \\(r = -1\\) indicates a perfect negative linear relationship.\n",
    "# - \\(r = 0\\) indicates no linear relationship.\n",
    "\n",
    "# The formula for calculating \\(r\\) is as follows:\n",
    "\n",
    "# \\[ r = \\frac{\\sum_{i=1}^{n}(X_i - \\bar{X})(Y_i - \\bar{Y})}{\\sqrt{\\sum_{i=1}^{n}(X_i - \\bar{X})^2 \\sum_{i=1}^{n}(Y_i - \\bar{Y})^2}} \\]\n",
    "\n",
    "# **Spearman's Rank Correlation Coefficient (\\(\\rho\\)):**\n",
    "# Spearman's rank correlation coefficient measures the monotonic relationship between two variables. It assesses whether there is a \n",
    "# consistent monotonic trend (increasing or decreasing) between the ranks of the two variables. The formula for calculating \\(\\rho\\)\n",
    "# is more complex and involves ranking the data.\n",
    "\n",
    "# Let's calculate both coefficients and compare the results using Python:\n",
    "\n",
    "\n",
    "# **Interpretation:**\n",
    "# - If \\(r\\) and \\(\\rho\\) are both close to 1, it indicates a strong positive relationship.\n",
    "# - If \\(r\\) and \\(\\rho\\) are both close to -1, it indicates a strong negative relationship.\n",
    "# - If \\(r\\) and \\(\\rho\\) are both close to 0, it indicates little to no linear or monotonic relationship.\n",
    "\n",
    "# Compare the results to understand whether the relationship between the number of hours of exercise per week and BMI is more\n",
    "# linear or monotonic in nature."
   ]
  },
  {
   "cell_type": "code",
   "execution_count": 9,
   "id": "fb210cb2-8de1-4b23-abaa-722854178954",
   "metadata": {},
   "outputs": [
    {
     "name": "stdout",
     "output_type": "stream",
     "text": [
      "Pearson correlation coefficient (r): 0.931\n",
      "Spearman's rank correlation coefficient (rho): 0.938\n"
     ]
    }
   ],
   "source": [
    "import numpy as np\n",
    "from scipy.stats import pearsonr, spearmanr\n",
    "\n",
    "# Simulated data (replace this with your actual data)\n",
    "np.random.seed(42)\n",
    "hours_of_exercise = np.random.randint(1, 10, 50)  # Example: random hours of exercise\n",
    "bmi = 25 + 2 * hours_of_exercise + np.random.normal(0, 2, 50)  # Simulated BMI based on exercise\n",
    "\n",
    "# Calculate Pearson correlation coefficient\n",
    "r, _ = pearsonr(hours_of_exercise, bmi)\n",
    "\n",
    "# Calculate Spearman's rank correlation coefficient\n",
    "rho, _ = spearmanr(hours_of_exercise, bmi)\n",
    "\n",
    "print(f\"Pearson correlation coefficient (r): {r:.3f}\")\n",
    "print(f\"Spearman's rank correlation coefficient (rho): {rho:.3f}\")"
   ]
  },
  {
   "cell_type": "code",
   "execution_count": 10,
   "id": "dc18d9da-97d9-4c13-90fa-95cd9eddb29f",
   "metadata": {},
   "outputs": [],
   "source": [
    "# Q4. A researcher is interested in examining the relationship between the number of hours individuals\n",
    "# spend watching television per day and their level of physical activity. The researcher collected data on\n",
    "# both variables from a sample of 50 participants. Calculate the Pearson correlation coefficient between\n",
    "# these two variables."
   ]
  },
  {
   "cell_type": "code",
   "execution_count": 11,
   "id": "db0f3390-df12-4dc7-b956-a44867573565",
   "metadata": {},
   "outputs": [],
   "source": [
    "# Certainly! The Pearson correlation coefficient (\\(r\\)) is used to measure the linear relationship between two continuous variables. \n",
    "# It ranges from -1 to 1, where:\n",
    "\n",
    "# - \\(r = 1\\) indicates a perfect positive linear relationship.\n",
    "# - \\(r = -1\\) indicates a perfect negative linear relationship.\n",
    "# - \\(r = 0\\) indicates no linear relationship.\n",
    "\n",
    "# The formula for calculating \\(r\\) is as follows:\n",
    "\n",
    "# \\[ r = \\frac{\\sum_{i=1}^{n}(X_i - \\bar{X})(Y_i - \\bar{Y})}{\\sqrt{\\sum_{i=1}^{n}(X_i - \\bar{X})^2 \\sum_{i=1}^{n}(Y_i - \\bar{Y})^2}} \\]\n",
    "\n",
    "# where:\n",
    "# - \\(X_i\\) and \\(Y_i\\) are the individual data points.\n",
    "# - \\(\\bar{X}\\) and \\(\\bar{Y}\\) are the means of variables \\(X\\) and \\(Y\\), respectively.\n",
    "# - \\(n\\) is the number of data points.\n",
    "\n",
    "# Let's assume you have the data on the number of hours individuals spend watching television per day and their level of physical activity\n",
    "# for 50 participants. Here's how you can calculate the Pearson correlation coefficient using Python:\n",
    "\n",
    "\n",
    "# **Interpretation:**\n",
    "# - If \\(r\\) is close to 1, it suggests a positive linear relationship. As the number of hours spent watching TV increases, the level of\n",
    "# physical activity tends to increase.\n",
    "# - If \\(r\\) is close to -1, it suggests a negative linear relationship. As the number of hours spent watching TV increases, the level of \n",
    "# physical activity tends to decrease.\n",
    "# - If \\(r\\) is close to 0, it suggests little to no linear relationship between the two variables."
   ]
  },
  {
   "cell_type": "code",
   "execution_count": 12,
   "id": "bfa1b52b-d65a-443c-93a0-52cbb6faa0ce",
   "metadata": {},
   "outputs": [
    {
     "name": "stdout",
     "output_type": "stream",
     "text": [
      "Pearson correlation coefficient (r): 0.966\n"
     ]
    }
   ],
   "source": [
    "import numpy as np\n",
    "from scipy.stats import pearsonr\n",
    "\n",
    "# Simulated data (replace this with your actual data)\n",
    "np.random.seed(42)\n",
    "hours_of_tv = np.random.uniform(1, 5, 50)  # Example: random hours of TV per day\n",
    "physical_activity = 3 * hours_of_tv + np.random.normal(0, 1, 50)  # Simulated physical activity based on TV hours\n",
    "\n",
    "# Calculate Pearson correlation coefficient\n",
    "r, _ = pearsonr(hours_of_tv, physical_activity)\n",
    "\n",
    "print(f\"Pearson correlation coefficient (r): {r:.3f}\")"
   ]
  },
  {
   "cell_type": "code",
   "execution_count": 13,
   "id": "bdc3f3de-8543-4a60-8a69-4cfe85057e9d",
   "metadata": {},
   "outputs": [],
   "source": [
    "# Q5. A survey was conducted to examine the relationship between age and preference for a particular\n",
    "# brand of soft drink. The survey results are shown below:\n",
    "#     Age(Years) : 25,42,37,19,31,28\n",
    "#     Soft drink Preference : Coke,Pepsi,Mountain dew,Coke,Pepsi,Coke"
   ]
  },
  {
   "cell_type": "code",
   "execution_count": 14,
   "id": "414c4f0c-406f-4c11-ba90-5d439e83b662",
   "metadata": {},
   "outputs": [],
   "source": [
    "# To examine the relationship between age and preference for a particular brand of soft drink, you can calculate the Spearman's \n",
    "# rank correlation coefficient (\\(\\rho\\)). This is suitable when dealing with ordinal or categorical data and when you want to \n",
    "# assess the monotonic relationship between two variables.\n",
    "\n",
    "# The formula for Spearman's rank correlation coefficient is:\n",
    "\n",
    "# \\[ \\rho = 1 - \\frac{6 \\sum d_i^2}{n(n^2 - 1)} \\]\n",
    "\n",
    "# where:\n",
    "# - \\( d_i \\) is the difference between the ranks of corresponding pairs of observations.\n",
    "# - \\( n \\) is the number of pairs of observations.\n",
    "\n",
    "# In your case, you have the following data:\n",
    "\n",
    "# \\[ \\text{Age (Years)}: 25, 42, 37, 19, 31, 28 \\]\n",
    "# \\[ \\text{Soft drink Preference}: \\text{Coke, Pepsi, Mountain Dew, Coke, Pepsi, Coke} \\]\n",
    "\n",
    "# Now, let's calculate Spearman's rank correlation coefficient using Python:\n",
    "\n",
    "# **Interpretation:**\n",
    "# - If \\(\\rho\\) is close to 1, it indicates a perfect monotonic increasing relationship.\n",
    "# - If \\(\\rho\\) is close to -1, it indicates a perfect monotonic decreasing relationship.\n",
    "# - If \\(\\rho\\) is close to 0, it suggests no monotonic relationship."
   ]
  },
  {
   "cell_type": "code",
   "execution_count": 15,
   "id": "01417a67-86f7-4c6d-a4e0-b5ee1e993cf1",
   "metadata": {},
   "outputs": [
    {
     "name": "stdout",
     "output_type": "stream",
     "text": [
      "Spearman's rank correlation coefficient (rho): 0.833\n"
     ]
    }
   ],
   "source": [
    "import pandas as pd\n",
    "from scipy.stats import spearmanr\n",
    "\n",
    "# Given data\n",
    "age = [25, 42, 37, 19, 31, 28]\n",
    "soft_drink_preference = ['Coke', 'Pepsi', 'Mountain Dew', 'Coke', 'Pepsi', 'Coke']\n",
    "\n",
    "# Create a DataFrame for easy handling\n",
    "df = pd.DataFrame({'Age': age, 'Soft Drink Preference': soft_drink_preference})\n",
    "\n",
    "# Rank the data\n",
    "df['Age Rank'] = df['Age'].rank()\n",
    "df['Preference Rank'] = df['Soft Drink Preference'].rank()\n",
    "\n",
    "# Calculate Spearman's rank correlation coefficient\n",
    "rho, _ = spearmanr(df['Age Rank'], df['Preference Rank'])\n",
    "\n",
    "print(f\"Spearman's rank correlation coefficient (rho): {rho:.3f}\")"
   ]
  },
  {
   "cell_type": "code",
   "execution_count": 16,
   "id": "7e32a905-8df4-4a1f-8e25-bac08d9d9ab1",
   "metadata": {},
   "outputs": [],
   "source": [
    "# Q6. A company is interested in examining the relationship between the number of sales calls made per day\n",
    "# and the number of sales made per week. The company collected data on both variables from a sample of\n",
    "# 30 sales representatives. Calculate the Pearson correlation coefficient between these two variables."
   ]
  },
  {
   "cell_type": "code",
   "execution_count": 17,
   "id": "04c0b224-c4ce-4614-86a0-55d67b9f1a09",
   "metadata": {},
   "outputs": [],
   "source": [
    "# Certainly! To examine the relationship between the number of sales calls made per day and the number of sales made per week,\n",
    "# you can calculate the Pearson correlation coefficient (\\(r\\)). This coefficient measures the linear relationship between two continuous variables.\n",
    "\n",
    "# The formula for calculating \\(r\\) is as follows:\n",
    "\n",
    "# \\[ r = \\frac{\\sum_{i=1}^{n}(X_i - \\bar{X})(Y_i - \\bar{Y})}{\\sqrt{\\sum_{i=1}^{n}(X_i - \\bar{X})^2 \\sum_{i=1}^{n}(Y_i - \\bar{Y})^2}} \\]\n",
    "\n",
    "# where:\n",
    "# - \\(X_i\\) and \\(Y_i\\) are the individual data points.\n",
    "# - \\(\\bar{X}\\) and \\(\\bar{Y}\\) are the means of variables \\(X\\) and \\(Y\\), respectively.\n",
    "# - \\(n\\) is the number of data points.\n",
    "\n",
    "# Let's assume you have the data on the number of sales calls made per day and the number of sales made per week for 30 sales \n",
    "# representatives. Here's how you can calculate the Pearson correlation coefficient using Python:\n",
    "\n",
    "\n",
    "\n",
    "# **Interpretation:**\n",
    "# - If \\(r\\) is close to 1, it suggests a positive linear relationship. As the number of sales calls made per day increases,\n",
    "# the number of sales made per week tends to increase.\n",
    "# - If \\(r\\) is close to -1, it suggests a negative linear relationship. As the number of sales calls made per day increases, \n",
    "# the number of sales made per week tends to decrease.\n",
    "# - If \\(r\\) is close to 0, it suggests little to no linear relationship between the two variables.\n",
    "\n"
   ]
  },
  {
   "cell_type": "code",
   "execution_count": 18,
   "id": "4ca959cc-46ef-43fc-890b-821942a066ef",
   "metadata": {},
   "outputs": [
    {
     "name": "stdout",
     "output_type": "stream",
     "text": [
      "Pearson correlation coefficient (r): 0.977\n"
     ]
    }
   ],
   "source": [
    "import numpy as np\n",
    "from scipy.stats import pearsonr\n",
    "\n",
    "# Simulated data (replace this with your actual data)\n",
    "np.random.seed(42)\n",
    "sales_calls_per_day = np.random.randint(20, 50, 30)  # Example: random sales calls per day\n",
    "sales_per_week = 5 * sales_calls_per_day + np.random.normal(0, 10, 30)  # Simulated sales per week based on sales calls\n",
    "\n",
    "# Calculate Pearson correlation coefficient\n",
    "r, _ = pearsonr(sales_calls_per_day, sales_per_week)\n",
    "\n",
    "print(f\"Pearson correlation coefficient (r): {r:.3f}\")"
   ]
  },
  {
   "cell_type": "code",
   "execution_count": null,
   "id": "2573bb8a-a34e-4a4c-8cb3-fabe168b7dce",
   "metadata": {},
   "outputs": [],
   "source": []
  }
 ],
 "metadata": {
  "kernelspec": {
   "display_name": "Python 3 (ipykernel)",
   "language": "python",
   "name": "python3"
  },
  "language_info": {
   "codemirror_mode": {
    "name": "ipython",
    "version": 3
   },
   "file_extension": ".py",
   "mimetype": "text/x-python",
   "name": "python",
   "nbconvert_exporter": "python",
   "pygments_lexer": "ipython3",
   "version": "3.10.8"
  }
 },
 "nbformat": 4,
 "nbformat_minor": 5
}
