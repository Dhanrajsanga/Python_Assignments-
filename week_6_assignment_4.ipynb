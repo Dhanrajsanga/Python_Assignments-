{
 "cells": [
  {
   "cell_type": "code",
   "execution_count": 1,
   "id": "0bba2835-86b6-49a3-9323-22f0c39c197d",
   "metadata": {},
   "outputs": [],
   "source": [
    "# Q1. What is Flask Framework? What are the advantages of Flask Framework?"
   ]
  },
  {
   "cell_type": "code",
   "execution_count": 2,
   "id": "29814ae6-1f8e-4d6f-9512-97ccb3fef689",
   "metadata": {},
   "outputs": [],
   "source": [
    "# Flask Framework:\n",
    "\n",
    "# Flask is a micro web framework for Python, designed to be lightweight and modular. It provides the essentials for building web applications without imposing rigid structures \n",
    "# or dependencies. Flask is often referred to as a \"micro\" framework because it focuses on simplicity and allows developers to choose the tools and libraries they want to use. \n",
    "# It is well-suited for small to medium-sized projects and is widely used in the Python web development community.\n",
    "\n",
    "# Key features of Flask include:\n",
    "\n",
    "# Routing: Flask allows developers to define routes easily, specifying the URL patterns and the functions that should handle requests for those patterns.\n",
    "\n",
    "# Templates: Flask comes with a template engine (Jinja2) that enables developers to generate HTML dynamically by embedding variables and control structures in templates.\n",
    "\n",
    "# HTTP Request Handling: Flask simplifies the handling of HTTP requests by providing request and response objects. Developers can easily access request parameters, headers, and form data\n",
    "\n",
    "# Extensibility: Flask is extensible, and developers can choose and integrate various extensions for features such as authentication, database integration, and more.\n",
    "\n",
    "# Werkzeug and Jinja2 Integration: Flask is built on top of the Werkzeug WSGI toolkit and uses the Jinja2 template engine. Werkzeug provides a set of utilities for building web \n",
    "# applications, while Jinja2 handles template rendering.\n",
    "\n",
    "# Advantages of Flask Framework:\n",
    "\n",
    "# Lightweight and Modular: Flask follows a micro-framework philosophy, allowing developers to use only what they need. This makes it lightweight and well-suited for \n",
    "# small to medium-sized projects.\n",
    "\n",
    "# Flexibility: Flask gives developers the flexibility to choose their components and libraries for tasks such as database integration, authentication, and more. This \n",
    "# flexibility allows for a more tailored development experience.\n",
    "\n",
    "# Easy to Learn and Use: Flask has a simple and intuitive syntax, making it easy for developers to learn and use, especially for those who are new to web development.\n",
    "\n",
    "# Extensive Documentation: Flask has comprehensive documentation that is well-organized and easy to follow. This makes it easier for developers to get started and find\n",
    "# answers to their questions.\n",
    "\n",
    "# Active Community: Flask has a vibrant and active community of developers. This means there are many resources, tutorials, and third-party extensions available, making \n",
    "# it easier for developers to find solutions to common problems.\n",
    "\n",
    "# Built-in Development Server: Flask comes with a built-in development server, making it easy for developers to test and debug their applications during the development process.\n",
    "\n",
    "# Scalability: While Flask is often chosen for smaller projects, it can be used for larger projects as well. With careful design and the integration of appropriate extensions, \n",
    "# Flask applications can scale effectively.\n",
    "\n",
    "# RESTful Support: Flask provides support for building RESTful APIs (Application Programming Interfaces), making it a good choice for developing backend services for web and \n",
    "# mobile applications.\n",
    "\n",
    "# In summary, Flask is a versatile and user-friendly web framework that strikes a balance between simplicity and extensibility. Its advantages include flexibility, ease of \n",
    "# learning, an active community, and the ability to scale from small to larger projects."
   ]
  },
  {
   "cell_type": "code",
   "execution_count": 3,
   "id": "ca749e53-cd1d-4b1d-95da-e38a0d76557c",
   "metadata": {},
   "outputs": [],
   "source": [
    "# Q2. Create a simple Flask application to display ‘Hello World!!’. Attach the screenshot of the output in\n",
    "# Jupyter Notebook."
   ]
  },
  {
   "cell_type": "code",
   "execution_count": null,
   "id": "b073e446-afaa-466b-a07f-7acad547c369",
   "metadata": {},
   "outputs": [],
   "source": [
    "# from flask import Flask\n",
    "# from flask import request\n",
    "# app = Flask(__name__)\n",
    "\n",
    "# @app.route(\"/\")\n",
    "# def hello_world():\n",
    "#     return \"<h1>Hello, World!</h1> \"\n",
    "\n",
    "# if __name__==\"__main__\":\n",
    "#     app.run(host=\"0.0.0.0\")\n",
    "\n",
    "# # https://brown-salesmen-ghvfs.pwskills.app:5000/\n"
   ]
  },
  {
   "cell_type": "code",
   "execution_count": 8,
   "id": "9174c030-6312-4283-842c-88538dbe226f",
   "metadata": {},
   "outputs": [],
   "source": [
    "# ![](week_6_ass_4_sc_1)"
   ]
  },
  {
   "cell_type": "markdown",
   "id": "625a54b9-ea5f-4e93-8bfb-845fc231adab",
   "metadata": {},
   "source": [
    "<img src = 'week_6_ass_4_sc_1.png' />\n",
    "                                        "
   ]
  },
  {
   "cell_type": "code",
   "execution_count": 11,
   "id": "97d9bccc-1726-4c3f-bfb0-d73daaea1938",
   "metadata": {},
   "outputs": [],
   "source": [
    "# Q3. What is App routing in Flask? Why do we use app routes?"
   ]
  },
  {
   "cell_type": "code",
   "execution_count": 1,
   "id": "34785bf4-9595-4bee-8c59-0a6e8ac35088",
   "metadata": {},
   "outputs": [],
   "source": [
    "# In Flask, app routing refers to the process of mapping URLs (Uniform Resource Locators) to view functions in your application. \n",
    "# It defines how different endpoints or routes of your web application will be handled. When a user makes a request to a specific URL, \n",
    "# Flask uses routing to determine which Python function (view function) should handle that request and generate the appropriate response.\n",
    "\n",
    "# In Flask, the @app.route() decorator is commonly used to define routes. The route() decorator binds a function to a URL, specifying the \n",
    "# URL pattern that should trigger the execution of that function. Here's a basic example:"
   ]
  },
  {
   "cell_type": "code",
   "execution_count": 2,
   "id": "bc7bd1dd-e447-4aa6-85ce-99f8c44489eb",
   "metadata": {},
   "outputs": [],
   "source": [
    "# from flask import Flask\n",
    "\n",
    "# app = Flask(__name__)\n",
    "\n",
    "# # Define a route for the root URL\n",
    "# @app.route('/')\n",
    "# def index():\n",
    "#     return 'Hello, this is the homepage!'\n",
    "\n",
    "# # Define a route for /about URL\n",
    "# @app.route('/about')\n",
    "# def about():\n",
    "#     return 'This is the about page.'\n",
    "\n",
    "# # Define a route with dynamic parameters\n",
    "# @app.route('/user/<username>')\n",
    "# def show_user_profile(username):\n",
    "#     return f'User profile for {username}'\n"
   ]
  },
  {
   "cell_type": "code",
   "execution_count": 3,
   "id": "76eb932d-857a-47a6-b6d4-79878b620a90",
   "metadata": {},
   "outputs": [],
   "source": [
    "# 1.URL Handling: App routes allow you to define how different URLs or paths in your application should be handled. \n",
    "# This is essential for creating a structured and organized web application.\n",
    "\n",
    "# 2.View Function Binding: Routes bind specific view functions to corresponding URLs. When a user accesses a particular URL, \n",
    "# the associated view function is executed, generating the content to be returned to the user's browser.\n",
    "\n",
    "# 3.Dynamic Routing: Flask supports dynamic routing, allowing you to define routes with parameters. This is useful for \n",
    "# creating dynamic content based on user input or other variables.\n",
    "\n",
    "# 4.Modular Code: App routing promotes modular code organization. You can define different routes in separate functions or \n",
    "# even separate modules, making your codebase more maintainable and scalable.\n",
    "\n",
    "# 5.RESTful API Design: For applications that expose a RESTful API, app routes help define the API endpoints and the functions\n",
    "# that handle requests to those endpoints.\n",
    "\n",
    "# 6.Clean and Readable Code: Using app routes results in clean and readable code. It makes it easy to understand the structure\n",
    "# of your web application and the logic associated with different URLs."
   ]
  },
  {
   "cell_type": "code",
   "execution_count": null,
   "id": "34d90333-17db-4368-96f2-998d954e33be",
   "metadata": {},
   "outputs": [],
   "source": [
    "# Q4. Create a “/welcome” route to display the welcome message “Welcome to ABC Corporation” and a “/”\n",
    "# route to show the following details:\n",
    "# Company Name: ABC Corporation\n",
    "# Location: India\n",
    "# Contact Detail: 999-999-9999"
   ]
  },
  {
   "cell_type": "code",
   "execution_count": 7,
   "id": "7a04f784-8832-44fe-b447-0eadd23632f6",
   "metadata": {},
   "outputs": [],
   "source": [
    "# from flask import Flask\n",
    "\n",
    "# app = Flask(__name__)\n",
    "\n",
    "# # Route for /welcome\n",
    "# @app.route('/welcome')\n",
    "# def welcome():\n",
    "#     return 'Welcome to ABC Corporation'\n",
    "\n",
    "# # Route for /\n",
    "# @app.route('/')\n",
    "# def company_details():\n",
    "#     return '''\n",
    "#     Company Name: ABC Corporation\n",
    "#     Location: India\n",
    "#     Contact Detail: 999-999-9999\n",
    "#     '''\n",
    "# if __name__==\"__main__\":\n",
    "#     app.run(host=\"0.0.0.0\")\n"
   ]
  },
  {
   "cell_type": "markdown",
   "id": "566c50ff-65ce-4fe0-a5a3-95162cf13beb",
   "metadata": {},
   "source": [
    "![](week_6_ass_4_sc_2.png)"
   ]
  },
  {
   "cell_type": "markdown",
   "id": "d1795e13-db4f-4101-bcde-d03ef9b96e25",
   "metadata": {},
   "source": [
    "![](week_6_ass_4_sc_3.png)"
   ]
  },
  {
   "cell_type": "code",
   "execution_count": 5,
   "id": "543ede96-14f3-42a9-b9de-d50b62d69572",
   "metadata": {},
   "outputs": [],
   "source": [
    "# Q5. What function is used in Flask for URL Building? Write a Python code to demonstrate the working of the\n",
    "# url_for() function."
   ]
  },
  {
   "cell_type": "code",
   "execution_count": 8,
   "id": "f420b3c6-5909-4645-891d-d2277d5ab42f",
   "metadata": {},
   "outputs": [],
   "source": [
    "# In Flask, the url_for() function is used for URL building. It generates a URL for the given endpoint and arguments. This function is useful, especially when you have dynamic\n",
    "# routes with parameters, as it abstracts the URL generation and ensures that your application remains flexible to changes."
   ]
  },
  {
   "cell_type": "code",
   "execution_count": 9,
   "id": "fd97c3b8-c288-47db-b52b-19989bf309c4",
   "metadata": {},
   "outputs": [],
   "source": [
    "# from flask import Flask, url_for\n",
    "\n",
    "# app = Flask(__name__)\n",
    "\n",
    "# # Route for /\n",
    "# @app.route('/')\n",
    "# def home():\n",
    "#     # Using url_for() to generate a URL for the 'company_details' function\n",
    "#     company_details_url = url_for('company_details')\n",
    "    \n",
    "#     # Using url_for() to generate a URL for the 'welcome' function\n",
    "#     welcome_url = url_for('welcome')\n",
    "\n",
    "#     return f'''\n",
    "#     <h1>Welcome to the Home Page</h1>\n",
    "#     <p><a href=\"{company_details_url}\">Company Details</a></p>\n",
    "#     <p><a href=\"{welcome_url}\">Welcome Message</a></p>\n",
    "#     '''\n",
    "\n",
    "# # Route for /welcome\n",
    "# @app.route('/welcome')\n",
    "# def welcome():\n",
    "#     return '<h2>Welcome to ABC Corporation</h2>'\n",
    "\n",
    "# # Route for /\n",
    "# @app.route('/company_details')\n",
    "# def company_details():\n",
    "#     return '''\n",
    "#     <h2>Company Details</h2>\n",
    "#     <p>Company Name: ABC Corporation</p>\n",
    "#     <p>Location: India</p>\n",
    "#     <p>Contact Detail: 999-999-9999</p>\n",
    "#     '''\n",
    "\n",
    "# if __name__ == '__main__':\n",
    "#     app.run(debug=True)\n"
   ]
  },
  {
   "cell_type": "code",
   "execution_count": null,
   "id": "cb840e33-de0c-4c53-9800-fbe385fbba7a",
   "metadata": {},
   "outputs": [],
   "source": []
  }
 ],
 "metadata": {
  "kernelspec": {
   "display_name": "Python 3 (ipykernel)",
   "language": "python",
   "name": "python3"
  },
  "language_info": {
   "codemirror_mode": {
    "name": "ipython",
    "version": 3
   },
   "file_extension": ".py",
   "mimetype": "text/x-python",
   "name": "python",
   "nbconvert_exporter": "python",
   "pygments_lexer": "ipython3",
   "version": "3.10.8"
  }
 },
 "nbformat": 4,
 "nbformat_minor": 5
}
